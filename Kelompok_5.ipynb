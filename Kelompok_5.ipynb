{
 "cells": [
  {
   "cell_type": "markdown",
   "id": "201f2310",
   "metadata": {},
   "source": [
    "# Kelompok 5:\n",
    "- Afina Rahmani 1901377\n",
    "- Azzahra Fahriza 2102296\n",
    "- Muhammad Azka Atqiya 2100812\n",
    "- Nadhief Athallah Isya 2106413\n",
    "- Raisyad Jullfikar 2106238"
   ]
  },
  {
   "cell_type": "markdown",
   "id": "70b31314",
   "metadata": {},
   "source": [
    "#### Untuk Memanggil Library"
   ]
  },
  {
   "cell_type": "code",
   "execution_count": 1,
   "id": "0f5dd83c",
   "metadata": {},
   "outputs": [],
   "source": [
    "%matplotlib inline\n",
    "import numpy as np\n",
    "import pandas as pd\n",
    "import matplotlib.pyplot as plt\n",
    "import seaborn as sns\n",
    "from sklearn import preprocessing\n",
    "from sklearn.model_selection import train_test_split\n",
    "import pickle\n",
    "from sklearn.naive_bayes import GaussianNB\n",
    "from sklearn.metrics import classification_report\n",
    "from sklearn.metrics import accuracy_score\n",
    "from sklearn import tree\n",
    "from sklearn.ensemble import RandomForestClassifier\n",
    "import xgboost as xgb\n",
    "from sklearn.metrics import confusion_matrix\n",
    "from sklearn.model_selection import cross_val_score\n",
    "from sklearn.metrics import make_scorer\n",
    "from sklearn.decomposition import PCA\n",
    "import joblib\n",
    "import pickle"
   ]
  },
  {
   "cell_type": "markdown",
   "id": "2dc843ff",
   "metadata": {},
   "source": [
    "#### Untuk Membaca File CSV dan Menjadikan File CSV Menjadi Data Frame"
   ]
  },
  {
   "cell_type": "code",
   "execution_count": 2,
   "id": "96094c42",
   "metadata": {},
   "outputs": [],
   "source": [
    "df = pd.read_csv(\"C:\\\\Users\\\\raisy\\\\Downloads\\\\data_return_try\\\\Csv\\\\orders_train.csv\")"
   ]
  },
  {
   "cell_type": "markdown",
   "id": "4ce9a5e7",
   "metadata": {},
   "source": [
    "#### Untuk Melihat Informasi dari Data Frame"
   ]
  },
  {
   "cell_type": "code",
   "execution_count": 3,
   "id": "8d993c4c",
   "metadata": {
    "scrolled": false
   },
   "outputs": [
    {
     "name": "stdout",
     "output_type": "stream",
     "text": [
      "<class 'pandas.core.frame.DataFrame'>\n",
      "RangeIndex: 481092 entries, 0 to 481091\n",
      "Data columns (total 14 columns):\n",
      " #   Column          Non-Null Count   Dtype  \n",
      "---  ------          --------------   -----  \n",
      " 0   orderItemID     481092 non-null  int64  \n",
      " 1   orderDate       481092 non-null  object \n",
      " 2   deliveryDate    481092 non-null  object \n",
      " 3   itemID          481092 non-null  int64  \n",
      " 4   size            481092 non-null  object \n",
      " 5   color           481092 non-null  object \n",
      " 6   manufacturerID  481092 non-null  int64  \n",
      " 7   price           481092 non-null  float64\n",
      " 8   customerID      481092 non-null  int64  \n",
      " 9   salutation      481092 non-null  object \n",
      " 10  dateOfBirth     481092 non-null  object \n",
      " 11  state           481092 non-null  object \n",
      " 12  creationDate    481092 non-null  object \n",
      " 13  returnShipment  481092 non-null  int64  \n",
      "dtypes: float64(1), int64(5), object(8)\n",
      "memory usage: 51.4+ MB\n"
     ]
    }
   ],
   "source": [
    "df.info()"
   ]
  },
  {
   "cell_type": "markdown",
   "id": "2a30e8d5",
   "metadata": {},
   "source": [
    "#### Untuk Melihat Data dari Atas Sebanyak 10 Data"
   ]
  },
  {
   "cell_type": "code",
   "execution_count": 4,
   "id": "96d2a3b7",
   "metadata": {},
   "outputs": [
    {
     "data": {
      "text/html": [
       "<div>\n",
       "<style scoped>\n",
       "    .dataframe tbody tr th:only-of-type {\n",
       "        vertical-align: middle;\n",
       "    }\n",
       "\n",
       "    .dataframe tbody tr th {\n",
       "        vertical-align: top;\n",
       "    }\n",
       "\n",
       "    .dataframe thead th {\n",
       "        text-align: right;\n",
       "    }\n",
       "</style>\n",
       "<table border=\"1\" class=\"dataframe\">\n",
       "  <thead>\n",
       "    <tr style=\"text-align: right;\">\n",
       "      <th></th>\n",
       "      <th>orderItemID</th>\n",
       "      <th>orderDate</th>\n",
       "      <th>deliveryDate</th>\n",
       "      <th>itemID</th>\n",
       "      <th>size</th>\n",
       "      <th>color</th>\n",
       "      <th>manufacturerID</th>\n",
       "      <th>price</th>\n",
       "      <th>customerID</th>\n",
       "      <th>salutation</th>\n",
       "      <th>dateOfBirth</th>\n",
       "      <th>state</th>\n",
       "      <th>creationDate</th>\n",
       "      <th>returnShipment</th>\n",
       "    </tr>\n",
       "  </thead>\n",
       "  <tbody>\n",
       "    <tr>\n",
       "      <th>0</th>\n",
       "      <td>1</td>\n",
       "      <td>4/1/2012</td>\n",
       "      <td>4/3/2012</td>\n",
       "      <td>186</td>\n",
       "      <td>m</td>\n",
       "      <td>denim</td>\n",
       "      <td>25</td>\n",
       "      <td>69.90</td>\n",
       "      <td>794</td>\n",
       "      <td>Mrs</td>\n",
       "      <td>1/6/1965</td>\n",
       "      <td>Baden-Wuerttemberg</td>\n",
       "      <td>4/25/2011</td>\n",
       "      <td>0</td>\n",
       "    </tr>\n",
       "    <tr>\n",
       "      <th>1</th>\n",
       "      <td>2</td>\n",
       "      <td>4/1/2012</td>\n",
       "      <td>4/3/2012</td>\n",
       "      <td>71</td>\n",
       "      <td>9+</td>\n",
       "      <td>ocher</td>\n",
       "      <td>21</td>\n",
       "      <td>69.95</td>\n",
       "      <td>794</td>\n",
       "      <td>Mrs</td>\n",
       "      <td>1/6/1965</td>\n",
       "      <td>Baden-Wuerttemberg</td>\n",
       "      <td>4/25/2011</td>\n",
       "      <td>1</td>\n",
       "    </tr>\n",
       "    <tr>\n",
       "      <th>2</th>\n",
       "      <td>3</td>\n",
       "      <td>4/1/2012</td>\n",
       "      <td>4/3/2012</td>\n",
       "      <td>71</td>\n",
       "      <td>9+</td>\n",
       "      <td>curry</td>\n",
       "      <td>21</td>\n",
       "      <td>69.95</td>\n",
       "      <td>794</td>\n",
       "      <td>Mrs</td>\n",
       "      <td>1/6/1965</td>\n",
       "      <td>Baden-Wuerttemberg</td>\n",
       "      <td>4/25/2011</td>\n",
       "      <td>1</td>\n",
       "    </tr>\n",
       "    <tr>\n",
       "      <th>3</th>\n",
       "      <td>4</td>\n",
       "      <td>4/2/2012</td>\n",
       "      <td>?</td>\n",
       "      <td>22</td>\n",
       "      <td>m</td>\n",
       "      <td>green</td>\n",
       "      <td>14</td>\n",
       "      <td>39.90</td>\n",
       "      <td>808</td>\n",
       "      <td>Mrs</td>\n",
       "      <td>11/9/1959</td>\n",
       "      <td>Saxony</td>\n",
       "      <td>1/4/2012</td>\n",
       "      <td>0</td>\n",
       "    </tr>\n",
       "    <tr>\n",
       "      <th>4</th>\n",
       "      <td>5</td>\n",
       "      <td>4/2/2012</td>\n",
       "      <td>12/31/1990</td>\n",
       "      <td>151</td>\n",
       "      <td>39</td>\n",
       "      <td>black</td>\n",
       "      <td>53</td>\n",
       "      <td>29.90</td>\n",
       "      <td>825</td>\n",
       "      <td>Mrs</td>\n",
       "      <td>7/11/1964</td>\n",
       "      <td>Rhineland-Palatinate</td>\n",
       "      <td>2/16/2011</td>\n",
       "      <td>0</td>\n",
       "    </tr>\n",
       "    <tr>\n",
       "      <th>5</th>\n",
       "      <td>6</td>\n",
       "      <td>4/2/2012</td>\n",
       "      <td>12/31/1990</td>\n",
       "      <td>598</td>\n",
       "      <td>xxl</td>\n",
       "      <td>brown</td>\n",
       "      <td>87</td>\n",
       "      <td>89.90</td>\n",
       "      <td>825</td>\n",
       "      <td>Mrs</td>\n",
       "      <td>7/11/1964</td>\n",
       "      <td>Rhineland-Palatinate</td>\n",
       "      <td>2/16/2011</td>\n",
       "      <td>0</td>\n",
       "    </tr>\n",
       "    <tr>\n",
       "      <th>6</th>\n",
       "      <td>7</td>\n",
       "      <td>4/2/2012</td>\n",
       "      <td>12/31/1990</td>\n",
       "      <td>15</td>\n",
       "      <td>39</td>\n",
       "      <td>black</td>\n",
       "      <td>1</td>\n",
       "      <td>129.90</td>\n",
       "      <td>825</td>\n",
       "      <td>Mrs</td>\n",
       "      <td>7/11/1964</td>\n",
       "      <td>Rhineland-Palatinate</td>\n",
       "      <td>2/16/2011</td>\n",
       "      <td>0</td>\n",
       "    </tr>\n",
       "    <tr>\n",
       "      <th>7</th>\n",
       "      <td>8</td>\n",
       "      <td>4/2/2012</td>\n",
       "      <td>4/3/2012</td>\n",
       "      <td>32</td>\n",
       "      <td>xxl</td>\n",
       "      <td>brown</td>\n",
       "      <td>3</td>\n",
       "      <td>21.90</td>\n",
       "      <td>850</td>\n",
       "      <td>Mrs</td>\n",
       "      <td>4/8/1948</td>\n",
       "      <td>North Rhine-Westphalia</td>\n",
       "      <td>2/16/2011</td>\n",
       "      <td>1</td>\n",
       "    </tr>\n",
       "    <tr>\n",
       "      <th>8</th>\n",
       "      <td>9</td>\n",
       "      <td>4/2/2012</td>\n",
       "      <td>4/3/2012</td>\n",
       "      <td>32</td>\n",
       "      <td>xxl</td>\n",
       "      <td>red</td>\n",
       "      <td>3</td>\n",
       "      <td>21.90</td>\n",
       "      <td>850</td>\n",
       "      <td>Mrs</td>\n",
       "      <td>4/8/1948</td>\n",
       "      <td>North Rhine-Westphalia</td>\n",
       "      <td>2/16/2011</td>\n",
       "      <td>1</td>\n",
       "    </tr>\n",
       "    <tr>\n",
       "      <th>9</th>\n",
       "      <td>10</td>\n",
       "      <td>4/2/2012</td>\n",
       "      <td>4/3/2012</td>\n",
       "      <td>57</td>\n",
       "      <td>xxl</td>\n",
       "      <td>green</td>\n",
       "      <td>3</td>\n",
       "      <td>39.90</td>\n",
       "      <td>850</td>\n",
       "      <td>Mrs</td>\n",
       "      <td>4/8/1948</td>\n",
       "      <td>North Rhine-Westphalia</td>\n",
       "      <td>2/16/2011</td>\n",
       "      <td>1</td>\n",
       "    </tr>\n",
       "    <tr>\n",
       "      <th>10</th>\n",
       "      <td>11</td>\n",
       "      <td>4/2/2012</td>\n",
       "      <td>4/3/2012</td>\n",
       "      <td>2</td>\n",
       "      <td>xxl</td>\n",
       "      <td>mocca</td>\n",
       "      <td>2</td>\n",
       "      <td>39.90</td>\n",
       "      <td>850</td>\n",
       "      <td>Mrs</td>\n",
       "      <td>4/8/1948</td>\n",
       "      <td>North Rhine-Westphalia</td>\n",
       "      <td>2/16/2011</td>\n",
       "      <td>1</td>\n",
       "    </tr>\n",
       "    <tr>\n",
       "      <th>11</th>\n",
       "      <td>12</td>\n",
       "      <td>4/2/2012</td>\n",
       "      <td>4/3/2012</td>\n",
       "      <td>259</td>\n",
       "      <td>39</td>\n",
       "      <td>black</td>\n",
       "      <td>1</td>\n",
       "      <td>119.90</td>\n",
       "      <td>850</td>\n",
       "      <td>Mrs</td>\n",
       "      <td>4/8/1948</td>\n",
       "      <td>North Rhine-Westphalia</td>\n",
       "      <td>2/16/2011</td>\n",
       "      <td>1</td>\n",
       "    </tr>\n",
       "    <tr>\n",
       "      <th>12</th>\n",
       "      <td>13</td>\n",
       "      <td>4/2/2012</td>\n",
       "      <td>4/3/2012</td>\n",
       "      <td>603</td>\n",
       "      <td>39</td>\n",
       "      <td>black</td>\n",
       "      <td>55</td>\n",
       "      <td>169.90</td>\n",
       "      <td>850</td>\n",
       "      <td>Mrs</td>\n",
       "      <td>4/8/1948</td>\n",
       "      <td>North Rhine-Westphalia</td>\n",
       "      <td>2/16/2011</td>\n",
       "      <td>1</td>\n",
       "    </tr>\n",
       "    <tr>\n",
       "      <th>13</th>\n",
       "      <td>14</td>\n",
       "      <td>4/2/2012</td>\n",
       "      <td>4/10/2012</td>\n",
       "      <td>259</td>\n",
       "      <td>39</td>\n",
       "      <td>ocher</td>\n",
       "      <td>1</td>\n",
       "      <td>119.90</td>\n",
       "      <td>850</td>\n",
       "      <td>Mrs</td>\n",
       "      <td>4/8/1948</td>\n",
       "      <td>North Rhine-Westphalia</td>\n",
       "      <td>2/16/2011</td>\n",
       "      <td>1</td>\n",
       "    </tr>\n",
       "    <tr>\n",
       "      <th>14</th>\n",
       "      <td>15</td>\n",
       "      <td>4/2/2012</td>\n",
       "      <td>4/3/2012</td>\n",
       "      <td>165</td>\n",
       "      <td>37</td>\n",
       "      <td>mocca</td>\n",
       "      <td>47</td>\n",
       "      <td>89.90</td>\n",
       "      <td>858</td>\n",
       "      <td>Mrs</td>\n",
       "      <td>?</td>\n",
       "      <td>Berlin</td>\n",
       "      <td>3/29/2012</td>\n",
       "      <td>1</td>\n",
       "    </tr>\n",
       "    <tr>\n",
       "      <th>15</th>\n",
       "      <td>16</td>\n",
       "      <td>4/2/2012</td>\n",
       "      <td>4/4/2012</td>\n",
       "      <td>605</td>\n",
       "      <td>43</td>\n",
       "      <td>anthracite</td>\n",
       "      <td>1</td>\n",
       "      <td>199.90</td>\n",
       "      <td>860</td>\n",
       "      <td>Mrs</td>\n",
       "      <td>8/15/1963</td>\n",
       "      <td>North Rhine-Westphalia</td>\n",
       "      <td>3/20/2011</td>\n",
       "      <td>0</td>\n",
       "    </tr>\n",
       "    <tr>\n",
       "      <th>16</th>\n",
       "      <td>17</td>\n",
       "      <td>4/2/2012</td>\n",
       "      <td>4/4/2012</td>\n",
       "      <td>606</td>\n",
       "      <td>37</td>\n",
       "      <td>green</td>\n",
       "      <td>1</td>\n",
       "      <td>69.90</td>\n",
       "      <td>860</td>\n",
       "      <td>Mrs</td>\n",
       "      <td>8/15/1963</td>\n",
       "      <td>North Rhine-Westphalia</td>\n",
       "      <td>3/20/2011</td>\n",
       "      <td>1</td>\n",
       "    </tr>\n",
       "    <tr>\n",
       "      <th>17</th>\n",
       "      <td>18</td>\n",
       "      <td>4/2/2012</td>\n",
       "      <td>4/4/2012</td>\n",
       "      <td>55</td>\n",
       "      <td>37</td>\n",
       "      <td>green</td>\n",
       "      <td>1</td>\n",
       "      <td>89.90</td>\n",
       "      <td>860</td>\n",
       "      <td>Mrs</td>\n",
       "      <td>8/15/1963</td>\n",
       "      <td>North Rhine-Westphalia</td>\n",
       "      <td>3/20/2011</td>\n",
       "      <td>1</td>\n",
       "    </tr>\n",
       "    <tr>\n",
       "      <th>18</th>\n",
       "      <td>19</td>\n",
       "      <td>4/2/2012</td>\n",
       "      <td>4/4/2012</td>\n",
       "      <td>79</td>\n",
       "      <td>37</td>\n",
       "      <td>olive</td>\n",
       "      <td>1</td>\n",
       "      <td>139.90</td>\n",
       "      <td>860</td>\n",
       "      <td>Mrs</td>\n",
       "      <td>8/15/1963</td>\n",
       "      <td>North Rhine-Westphalia</td>\n",
       "      <td>3/20/2011</td>\n",
       "      <td>1</td>\n",
       "    </tr>\n",
       "    <tr>\n",
       "      <th>19</th>\n",
       "      <td>20</td>\n",
       "      <td>4/2/2012</td>\n",
       "      <td>4/4/2012</td>\n",
       "      <td>57</td>\n",
       "      <td>m</td>\n",
       "      <td>petrol</td>\n",
       "      <td>3</td>\n",
       "      <td>39.90</td>\n",
       "      <td>860</td>\n",
       "      <td>Mrs</td>\n",
       "      <td>8/15/1963</td>\n",
       "      <td>North Rhine-Westphalia</td>\n",
       "      <td>3/20/2011</td>\n",
       "      <td>1</td>\n",
       "    </tr>\n",
       "    <tr>\n",
       "      <th>20</th>\n",
       "      <td>21</td>\n",
       "      <td>4/2/2012</td>\n",
       "      <td>4/4/2012</td>\n",
       "      <td>38</td>\n",
       "      <td>m</td>\n",
       "      <td>blue</td>\n",
       "      <td>25</td>\n",
       "      <td>49.90</td>\n",
       "      <td>860</td>\n",
       "      <td>Mrs</td>\n",
       "      <td>8/15/1963</td>\n",
       "      <td>North Rhine-Westphalia</td>\n",
       "      <td>3/20/2011</td>\n",
       "      <td>1</td>\n",
       "    </tr>\n",
       "    <tr>\n",
       "      <th>21</th>\n",
       "      <td>22</td>\n",
       "      <td>4/2/2012</td>\n",
       "      <td>4/4/2012</td>\n",
       "      <td>231</td>\n",
       "      <td>37</td>\n",
       "      <td>green</td>\n",
       "      <td>24</td>\n",
       "      <td>99.90</td>\n",
       "      <td>860</td>\n",
       "      <td>Mrs</td>\n",
       "      <td>8/15/1963</td>\n",
       "      <td>North Rhine-Westphalia</td>\n",
       "      <td>3/20/2011</td>\n",
       "      <td>1</td>\n",
       "    </tr>\n",
       "    <tr>\n",
       "      <th>22</th>\n",
       "      <td>23</td>\n",
       "      <td>4/2/2012</td>\n",
       "      <td>4/4/2012</td>\n",
       "      <td>100</td>\n",
       "      <td>37</td>\n",
       "      <td>brown</td>\n",
       "      <td>43</td>\n",
       "      <td>119.90</td>\n",
       "      <td>860</td>\n",
       "      <td>Mrs</td>\n",
       "      <td>8/15/1963</td>\n",
       "      <td>North Rhine-Westphalia</td>\n",
       "      <td>3/20/2011</td>\n",
       "      <td>0</td>\n",
       "    </tr>\n",
       "    <tr>\n",
       "      <th>23</th>\n",
       "      <td>24</td>\n",
       "      <td>4/2/2012</td>\n",
       "      <td>4/4/2012</td>\n",
       "      <td>114</td>\n",
       "      <td>37</td>\n",
       "      <td>grey</td>\n",
       "      <td>43</td>\n",
       "      <td>129.90</td>\n",
       "      <td>860</td>\n",
       "      <td>Mrs</td>\n",
       "      <td>8/15/1963</td>\n",
       "      <td>North Rhine-Westphalia</td>\n",
       "      <td>3/20/2011</td>\n",
       "      <td>1</td>\n",
       "    </tr>\n",
       "    <tr>\n",
       "      <th>24</th>\n",
       "      <td>25</td>\n",
       "      <td>4/2/2012</td>\n",
       "      <td>4/4/2012</td>\n",
       "      <td>286</td>\n",
       "      <td>37</td>\n",
       "      <td>brown</td>\n",
       "      <td>1</td>\n",
       "      <td>129.90</td>\n",
       "      <td>860</td>\n",
       "      <td>Mrs</td>\n",
       "      <td>8/15/1963</td>\n",
       "      <td>North Rhine-Westphalia</td>\n",
       "      <td>3/20/2011</td>\n",
       "      <td>0</td>\n",
       "    </tr>\n",
       "    <tr>\n",
       "      <th>25</th>\n",
       "      <td>26</td>\n",
       "      <td>4/2/2012</td>\n",
       "      <td>4/4/2012</td>\n",
       "      <td>262</td>\n",
       "      <td>37</td>\n",
       "      <td>red</td>\n",
       "      <td>12</td>\n",
       "      <td>99.90</td>\n",
       "      <td>860</td>\n",
       "      <td>Mrs</td>\n",
       "      <td>8/15/1963</td>\n",
       "      <td>North Rhine-Westphalia</td>\n",
       "      <td>3/20/2011</td>\n",
       "      <td>1</td>\n",
       "    </tr>\n",
       "    <tr>\n",
       "      <th>26</th>\n",
       "      <td>27</td>\n",
       "      <td>4/2/2012</td>\n",
       "      <td>4/9/2012</td>\n",
       "      <td>607</td>\n",
       "      <td>43</td>\n",
       "      <td>black</td>\n",
       "      <td>1</td>\n",
       "      <td>149.90</td>\n",
       "      <td>860</td>\n",
       "      <td>Mrs</td>\n",
       "      <td>8/15/1963</td>\n",
       "      <td>North Rhine-Westphalia</td>\n",
       "      <td>3/20/2011</td>\n",
       "      <td>0</td>\n",
       "    </tr>\n",
       "    <tr>\n",
       "      <th>27</th>\n",
       "      <td>28</td>\n",
       "      <td>4/2/2012</td>\n",
       "      <td>5/4/2012</td>\n",
       "      <td>173</td>\n",
       "      <td>m</td>\n",
       "      <td>brown</td>\n",
       "      <td>20</td>\n",
       "      <td>49.90</td>\n",
       "      <td>860</td>\n",
       "      <td>Mrs</td>\n",
       "      <td>8/15/1963</td>\n",
       "      <td>North Rhine-Westphalia</td>\n",
       "      <td>3/20/2011</td>\n",
       "      <td>0</td>\n",
       "    </tr>\n",
       "    <tr>\n",
       "      <th>28</th>\n",
       "      <td>29</td>\n",
       "      <td>4/2/2012</td>\n",
       "      <td>5/4/2012</td>\n",
       "      <td>146</td>\n",
       "      <td>m</td>\n",
       "      <td>olive</td>\n",
       "      <td>3</td>\n",
       "      <td>24.90</td>\n",
       "      <td>860</td>\n",
       "      <td>Mrs</td>\n",
       "      <td>8/15/1963</td>\n",
       "      <td>North Rhine-Westphalia</td>\n",
       "      <td>3/20/2011</td>\n",
       "      <td>0</td>\n",
       "    </tr>\n",
       "    <tr>\n",
       "      <th>29</th>\n",
       "      <td>30</td>\n",
       "      <td>4/2/2012</td>\n",
       "      <td>5/4/2012</td>\n",
       "      <td>163</td>\n",
       "      <td>37</td>\n",
       "      <td>green</td>\n",
       "      <td>53</td>\n",
       "      <td>49.90</td>\n",
       "      <td>860</td>\n",
       "      <td>Mrs</td>\n",
       "      <td>8/15/1963</td>\n",
       "      <td>North Rhine-Westphalia</td>\n",
       "      <td>3/20/2011</td>\n",
       "      <td>0</td>\n",
       "    </tr>\n",
       "    <tr>\n",
       "      <th>30</th>\n",
       "      <td>31</td>\n",
       "      <td>4/2/2012</td>\n",
       "      <td>5/4/2012</td>\n",
       "      <td>121</td>\n",
       "      <td>37</td>\n",
       "      <td>brown</td>\n",
       "      <td>43</td>\n",
       "      <td>99.90</td>\n",
       "      <td>860</td>\n",
       "      <td>Mrs</td>\n",
       "      <td>8/15/1963</td>\n",
       "      <td>North Rhine-Westphalia</td>\n",
       "      <td>3/20/2011</td>\n",
       "      <td>1</td>\n",
       "    </tr>\n",
       "    <tr>\n",
       "      <th>31</th>\n",
       "      <td>32</td>\n",
       "      <td>4/2/2012</td>\n",
       "      <td>4/3/2012</td>\n",
       "      <td>140</td>\n",
       "      <td>38</td>\n",
       "      <td>beige</td>\n",
       "      <td>6</td>\n",
       "      <td>69.90</td>\n",
       "      <td>873</td>\n",
       "      <td>Mrs</td>\n",
       "      <td>5/16/1953</td>\n",
       "      <td>Bavaria</td>\n",
       "      <td>5/29/2011</td>\n",
       "      <td>1</td>\n",
       "    </tr>\n",
       "    <tr>\n",
       "      <th>32</th>\n",
       "      <td>33</td>\n",
       "      <td>4/2/2012</td>\n",
       "      <td>4/3/2012</td>\n",
       "      <td>38</td>\n",
       "      <td>l</td>\n",
       "      <td>blue</td>\n",
       "      <td>25</td>\n",
       "      <td>49.90</td>\n",
       "      <td>877</td>\n",
       "      <td>Mrs</td>\n",
       "      <td>3/8/1961</td>\n",
       "      <td>Bavaria</td>\n",
       "      <td>4/24/2011</td>\n",
       "      <td>1</td>\n",
       "    </tr>\n",
       "    <tr>\n",
       "      <th>33</th>\n",
       "      <td>34</td>\n",
       "      <td>4/2/2012</td>\n",
       "      <td>4/3/2012</td>\n",
       "      <td>38</td>\n",
       "      <td>xl</td>\n",
       "      <td>blue</td>\n",
       "      <td>25</td>\n",
       "      <td>49.90</td>\n",
       "      <td>877</td>\n",
       "      <td>Mrs</td>\n",
       "      <td>3/8/1961</td>\n",
       "      <td>Bavaria</td>\n",
       "      <td>4/24/2011</td>\n",
       "      <td>1</td>\n",
       "    </tr>\n",
       "    <tr>\n",
       "      <th>34</th>\n",
       "      <td>35</td>\n",
       "      <td>4/2/2012</td>\n",
       "      <td>4/3/2012</td>\n",
       "      <td>57</td>\n",
       "      <td>m</td>\n",
       "      <td>petrol</td>\n",
       "      <td>3</td>\n",
       "      <td>34.90</td>\n",
       "      <td>878</td>\n",
       "      <td>Mrs</td>\n",
       "      <td>2/7/1978</td>\n",
       "      <td>Bavaria</td>\n",
       "      <td>2/18/2012</td>\n",
       "      <td>0</td>\n",
       "    </tr>\n",
       "    <tr>\n",
       "      <th>35</th>\n",
       "      <td>36</td>\n",
       "      <td>4/2/2012</td>\n",
       "      <td>4/3/2012</td>\n",
       "      <td>57</td>\n",
       "      <td>m</td>\n",
       "      <td>mocca</td>\n",
       "      <td>3</td>\n",
       "      <td>34.90</td>\n",
       "      <td>878</td>\n",
       "      <td>Mrs</td>\n",
       "      <td>2/7/1978</td>\n",
       "      <td>Bavaria</td>\n",
       "      <td>2/18/2012</td>\n",
       "      <td>0</td>\n",
       "    </tr>\n",
       "    <tr>\n",
       "      <th>36</th>\n",
       "      <td>37</td>\n",
       "      <td>4/2/2012</td>\n",
       "      <td>4/3/2012</td>\n",
       "      <td>57</td>\n",
       "      <td>m</td>\n",
       "      <td>green</td>\n",
       "      <td>3</td>\n",
       "      <td>34.90</td>\n",
       "      <td>878</td>\n",
       "      <td>Mrs</td>\n",
       "      <td>2/7/1978</td>\n",
       "      <td>Bavaria</td>\n",
       "      <td>2/18/2012</td>\n",
       "      <td>0</td>\n",
       "    </tr>\n",
       "    <tr>\n",
       "      <th>37</th>\n",
       "      <td>38</td>\n",
       "      <td>4/2/2012</td>\n",
       "      <td>4/3/2012</td>\n",
       "      <td>165</td>\n",
       "      <td>39</td>\n",
       "      <td>black</td>\n",
       "      <td>47</td>\n",
       "      <td>89.90</td>\n",
       "      <td>886</td>\n",
       "      <td>Mrs</td>\n",
       "      <td>7/21/1964</td>\n",
       "      <td>Bavaria</td>\n",
       "      <td>11/21/2011</td>\n",
       "      <td>1</td>\n",
       "    </tr>\n",
       "    <tr>\n",
       "      <th>38</th>\n",
       "      <td>39</td>\n",
       "      <td>4/2/2012</td>\n",
       "      <td>4/4/2012</td>\n",
       "      <td>103</td>\n",
       "      <td>39</td>\n",
       "      <td>black</td>\n",
       "      <td>17</td>\n",
       "      <td>139.90</td>\n",
       "      <td>886</td>\n",
       "      <td>Mrs</td>\n",
       "      <td>7/21/1964</td>\n",
       "      <td>Bavaria</td>\n",
       "      <td>11/21/2011</td>\n",
       "      <td>1</td>\n",
       "    </tr>\n",
       "    <tr>\n",
       "      <th>39</th>\n",
       "      <td>40</td>\n",
       "      <td>4/2/2012</td>\n",
       "      <td>4/5/2012</td>\n",
       "      <td>427</td>\n",
       "      <td>39</td>\n",
       "      <td>black</td>\n",
       "      <td>55</td>\n",
       "      <td>169.90</td>\n",
       "      <td>886</td>\n",
       "      <td>Mrs</td>\n",
       "      <td>7/21/1964</td>\n",
       "      <td>Bavaria</td>\n",
       "      <td>11/21/2011</td>\n",
       "      <td>1</td>\n",
       "    </tr>\n",
       "  </tbody>\n",
       "</table>\n",
       "</div>"
      ],
      "text/plain": [
       "    orderItemID orderDate deliveryDate  itemID size       color  \\\n",
       "0             1  4/1/2012     4/3/2012     186    m       denim   \n",
       "1             2  4/1/2012     4/3/2012      71   9+       ocher   \n",
       "2             3  4/1/2012     4/3/2012      71   9+       curry   \n",
       "3             4  4/2/2012            ?      22    m       green   \n",
       "4             5  4/2/2012   12/31/1990     151   39       black   \n",
       "5             6  4/2/2012   12/31/1990     598  xxl       brown   \n",
       "6             7  4/2/2012   12/31/1990      15   39       black   \n",
       "7             8  4/2/2012     4/3/2012      32  xxl       brown   \n",
       "8             9  4/2/2012     4/3/2012      32  xxl         red   \n",
       "9            10  4/2/2012     4/3/2012      57  xxl       green   \n",
       "10           11  4/2/2012     4/3/2012       2  xxl       mocca   \n",
       "11           12  4/2/2012     4/3/2012     259   39       black   \n",
       "12           13  4/2/2012     4/3/2012     603   39       black   \n",
       "13           14  4/2/2012    4/10/2012     259   39       ocher   \n",
       "14           15  4/2/2012     4/3/2012     165   37       mocca   \n",
       "15           16  4/2/2012     4/4/2012     605   43  anthracite   \n",
       "16           17  4/2/2012     4/4/2012     606   37       green   \n",
       "17           18  4/2/2012     4/4/2012      55   37       green   \n",
       "18           19  4/2/2012     4/4/2012      79   37       olive   \n",
       "19           20  4/2/2012     4/4/2012      57    m      petrol   \n",
       "20           21  4/2/2012     4/4/2012      38    m        blue   \n",
       "21           22  4/2/2012     4/4/2012     231   37       green   \n",
       "22           23  4/2/2012     4/4/2012     100   37       brown   \n",
       "23           24  4/2/2012     4/4/2012     114   37        grey   \n",
       "24           25  4/2/2012     4/4/2012     286   37       brown   \n",
       "25           26  4/2/2012     4/4/2012     262   37         red   \n",
       "26           27  4/2/2012     4/9/2012     607   43       black   \n",
       "27           28  4/2/2012     5/4/2012     173    m       brown   \n",
       "28           29  4/2/2012     5/4/2012     146    m       olive   \n",
       "29           30  4/2/2012     5/4/2012     163   37       green   \n",
       "30           31  4/2/2012     5/4/2012     121   37       brown   \n",
       "31           32  4/2/2012     4/3/2012     140   38       beige   \n",
       "32           33  4/2/2012     4/3/2012      38    l        blue   \n",
       "33           34  4/2/2012     4/3/2012      38   xl        blue   \n",
       "34           35  4/2/2012     4/3/2012      57    m      petrol   \n",
       "35           36  4/2/2012     4/3/2012      57    m       mocca   \n",
       "36           37  4/2/2012     4/3/2012      57    m       green   \n",
       "37           38  4/2/2012     4/3/2012     165   39       black   \n",
       "38           39  4/2/2012     4/4/2012     103   39       black   \n",
       "39           40  4/2/2012     4/5/2012     427   39       black   \n",
       "\n",
       "    manufacturerID   price  customerID salutation dateOfBirth  \\\n",
       "0               25   69.90         794        Mrs    1/6/1965   \n",
       "1               21   69.95         794        Mrs    1/6/1965   \n",
       "2               21   69.95         794        Mrs    1/6/1965   \n",
       "3               14   39.90         808        Mrs   11/9/1959   \n",
       "4               53   29.90         825        Mrs   7/11/1964   \n",
       "5               87   89.90         825        Mrs   7/11/1964   \n",
       "6                1  129.90         825        Mrs   7/11/1964   \n",
       "7                3   21.90         850        Mrs    4/8/1948   \n",
       "8                3   21.90         850        Mrs    4/8/1948   \n",
       "9                3   39.90         850        Mrs    4/8/1948   \n",
       "10               2   39.90         850        Mrs    4/8/1948   \n",
       "11               1  119.90         850        Mrs    4/8/1948   \n",
       "12              55  169.90         850        Mrs    4/8/1948   \n",
       "13               1  119.90         850        Mrs    4/8/1948   \n",
       "14              47   89.90         858        Mrs           ?   \n",
       "15               1  199.90         860        Mrs   8/15/1963   \n",
       "16               1   69.90         860        Mrs   8/15/1963   \n",
       "17               1   89.90         860        Mrs   8/15/1963   \n",
       "18               1  139.90         860        Mrs   8/15/1963   \n",
       "19               3   39.90         860        Mrs   8/15/1963   \n",
       "20              25   49.90         860        Mrs   8/15/1963   \n",
       "21              24   99.90         860        Mrs   8/15/1963   \n",
       "22              43  119.90         860        Mrs   8/15/1963   \n",
       "23              43  129.90         860        Mrs   8/15/1963   \n",
       "24               1  129.90         860        Mrs   8/15/1963   \n",
       "25              12   99.90         860        Mrs   8/15/1963   \n",
       "26               1  149.90         860        Mrs   8/15/1963   \n",
       "27              20   49.90         860        Mrs   8/15/1963   \n",
       "28               3   24.90         860        Mrs   8/15/1963   \n",
       "29              53   49.90         860        Mrs   8/15/1963   \n",
       "30              43   99.90         860        Mrs   8/15/1963   \n",
       "31               6   69.90         873        Mrs   5/16/1953   \n",
       "32              25   49.90         877        Mrs    3/8/1961   \n",
       "33              25   49.90         877        Mrs    3/8/1961   \n",
       "34               3   34.90         878        Mrs    2/7/1978   \n",
       "35               3   34.90         878        Mrs    2/7/1978   \n",
       "36               3   34.90         878        Mrs    2/7/1978   \n",
       "37              47   89.90         886        Mrs   7/21/1964   \n",
       "38              17  139.90         886        Mrs   7/21/1964   \n",
       "39              55  169.90         886        Mrs   7/21/1964   \n",
       "\n",
       "                     state creationDate  returnShipment  \n",
       "0       Baden-Wuerttemberg    4/25/2011               0  \n",
       "1       Baden-Wuerttemberg    4/25/2011               1  \n",
       "2       Baden-Wuerttemberg    4/25/2011               1  \n",
       "3                   Saxony     1/4/2012               0  \n",
       "4     Rhineland-Palatinate    2/16/2011               0  \n",
       "5     Rhineland-Palatinate    2/16/2011               0  \n",
       "6     Rhineland-Palatinate    2/16/2011               0  \n",
       "7   North Rhine-Westphalia    2/16/2011               1  \n",
       "8   North Rhine-Westphalia    2/16/2011               1  \n",
       "9   North Rhine-Westphalia    2/16/2011               1  \n",
       "10  North Rhine-Westphalia    2/16/2011               1  \n",
       "11  North Rhine-Westphalia    2/16/2011               1  \n",
       "12  North Rhine-Westphalia    2/16/2011               1  \n",
       "13  North Rhine-Westphalia    2/16/2011               1  \n",
       "14                  Berlin    3/29/2012               1  \n",
       "15  North Rhine-Westphalia    3/20/2011               0  \n",
       "16  North Rhine-Westphalia    3/20/2011               1  \n",
       "17  North Rhine-Westphalia    3/20/2011               1  \n",
       "18  North Rhine-Westphalia    3/20/2011               1  \n",
       "19  North Rhine-Westphalia    3/20/2011               1  \n",
       "20  North Rhine-Westphalia    3/20/2011               1  \n",
       "21  North Rhine-Westphalia    3/20/2011               1  \n",
       "22  North Rhine-Westphalia    3/20/2011               0  \n",
       "23  North Rhine-Westphalia    3/20/2011               1  \n",
       "24  North Rhine-Westphalia    3/20/2011               0  \n",
       "25  North Rhine-Westphalia    3/20/2011               1  \n",
       "26  North Rhine-Westphalia    3/20/2011               0  \n",
       "27  North Rhine-Westphalia    3/20/2011               0  \n",
       "28  North Rhine-Westphalia    3/20/2011               0  \n",
       "29  North Rhine-Westphalia    3/20/2011               0  \n",
       "30  North Rhine-Westphalia    3/20/2011               1  \n",
       "31                 Bavaria    5/29/2011               1  \n",
       "32                 Bavaria    4/24/2011               1  \n",
       "33                 Bavaria    4/24/2011               1  \n",
       "34                 Bavaria    2/18/2012               0  \n",
       "35                 Bavaria    2/18/2012               0  \n",
       "36                 Bavaria    2/18/2012               0  \n",
       "37                 Bavaria   11/21/2011               1  \n",
       "38                 Bavaria   11/21/2011               1  \n",
       "39                 Bavaria   11/21/2011               1  "
      ]
     },
     "execution_count": 4,
     "metadata": {},
     "output_type": "execute_result"
    }
   ],
   "source": [
    "df.head(40)"
   ]
  },
  {
   "cell_type": "markdown",
   "id": "55941764",
   "metadata": {},
   "source": [
    "#### Untuk Melihat Data Null"
   ]
  },
  {
   "cell_type": "code",
   "execution_count": 5,
   "id": "3a2f1cd1",
   "metadata": {},
   "outputs": [
    {
     "data": {
      "text/plain": [
       "orderItemID       0\n",
       "orderDate         0\n",
       "deliveryDate      0\n",
       "itemID            0\n",
       "size              0\n",
       "color             0\n",
       "manufacturerID    0\n",
       "price             0\n",
       "customerID        0\n",
       "salutation        0\n",
       "dateOfBirth       0\n",
       "state             0\n",
       "creationDate      0\n",
       "returnShipment    0\n",
       "dtype: int64"
      ]
     },
     "execution_count": 5,
     "metadata": {},
     "output_type": "execute_result"
    }
   ],
   "source": [
    "df.isna().sum()"
   ]
  },
  {
   "cell_type": "markdown",
   "id": "c5901cea",
   "metadata": {},
   "source": [
    "#### Untuk Melihat Data dari Atas Sebanyak 10 Data"
   ]
  },
  {
   "cell_type": "code",
   "execution_count": 6,
   "id": "5ec6da3d",
   "metadata": {
    "scrolled": false
   },
   "outputs": [
    {
     "data": {
      "text/html": [
       "<div>\n",
       "<style scoped>\n",
       "    .dataframe tbody tr th:only-of-type {\n",
       "        vertical-align: middle;\n",
       "    }\n",
       "\n",
       "    .dataframe tbody tr th {\n",
       "        vertical-align: top;\n",
       "    }\n",
       "\n",
       "    .dataframe thead th {\n",
       "        text-align: right;\n",
       "    }\n",
       "</style>\n",
       "<table border=\"1\" class=\"dataframe\">\n",
       "  <thead>\n",
       "    <tr style=\"text-align: right;\">\n",
       "      <th></th>\n",
       "      <th>orderItemID</th>\n",
       "      <th>orderDate</th>\n",
       "      <th>deliveryDate</th>\n",
       "      <th>itemID</th>\n",
       "      <th>size</th>\n",
       "      <th>color</th>\n",
       "      <th>manufacturerID</th>\n",
       "      <th>price</th>\n",
       "      <th>customerID</th>\n",
       "      <th>salutation</th>\n",
       "      <th>dateOfBirth</th>\n",
       "      <th>state</th>\n",
       "      <th>creationDate</th>\n",
       "      <th>returnShipment</th>\n",
       "    </tr>\n",
       "  </thead>\n",
       "  <tbody>\n",
       "    <tr>\n",
       "      <th>0</th>\n",
       "      <td>1</td>\n",
       "      <td>4/1/2012</td>\n",
       "      <td>4/3/2012</td>\n",
       "      <td>186</td>\n",
       "      <td>m</td>\n",
       "      <td>denim</td>\n",
       "      <td>25</td>\n",
       "      <td>69.90</td>\n",
       "      <td>794</td>\n",
       "      <td>Mrs</td>\n",
       "      <td>1/6/1965</td>\n",
       "      <td>Baden-Wuerttemberg</td>\n",
       "      <td>4/25/2011</td>\n",
       "      <td>0</td>\n",
       "    </tr>\n",
       "    <tr>\n",
       "      <th>1</th>\n",
       "      <td>2</td>\n",
       "      <td>4/1/2012</td>\n",
       "      <td>4/3/2012</td>\n",
       "      <td>71</td>\n",
       "      <td>9+</td>\n",
       "      <td>ocher</td>\n",
       "      <td>21</td>\n",
       "      <td>69.95</td>\n",
       "      <td>794</td>\n",
       "      <td>Mrs</td>\n",
       "      <td>1/6/1965</td>\n",
       "      <td>Baden-Wuerttemberg</td>\n",
       "      <td>4/25/2011</td>\n",
       "      <td>1</td>\n",
       "    </tr>\n",
       "    <tr>\n",
       "      <th>2</th>\n",
       "      <td>3</td>\n",
       "      <td>4/1/2012</td>\n",
       "      <td>4/3/2012</td>\n",
       "      <td>71</td>\n",
       "      <td>9+</td>\n",
       "      <td>curry</td>\n",
       "      <td>21</td>\n",
       "      <td>69.95</td>\n",
       "      <td>794</td>\n",
       "      <td>Mrs</td>\n",
       "      <td>1/6/1965</td>\n",
       "      <td>Baden-Wuerttemberg</td>\n",
       "      <td>4/25/2011</td>\n",
       "      <td>1</td>\n",
       "    </tr>\n",
       "    <tr>\n",
       "      <th>3</th>\n",
       "      <td>4</td>\n",
       "      <td>4/2/2012</td>\n",
       "      <td>?</td>\n",
       "      <td>22</td>\n",
       "      <td>m</td>\n",
       "      <td>green</td>\n",
       "      <td>14</td>\n",
       "      <td>39.90</td>\n",
       "      <td>808</td>\n",
       "      <td>Mrs</td>\n",
       "      <td>11/9/1959</td>\n",
       "      <td>Saxony</td>\n",
       "      <td>1/4/2012</td>\n",
       "      <td>0</td>\n",
       "    </tr>\n",
       "    <tr>\n",
       "      <th>4</th>\n",
       "      <td>5</td>\n",
       "      <td>4/2/2012</td>\n",
       "      <td>12/31/1990</td>\n",
       "      <td>151</td>\n",
       "      <td>39</td>\n",
       "      <td>black</td>\n",
       "      <td>53</td>\n",
       "      <td>29.90</td>\n",
       "      <td>825</td>\n",
       "      <td>Mrs</td>\n",
       "      <td>7/11/1964</td>\n",
       "      <td>Rhineland-Palatinate</td>\n",
       "      <td>2/16/2011</td>\n",
       "      <td>0</td>\n",
       "    </tr>\n",
       "    <tr>\n",
       "      <th>5</th>\n",
       "      <td>6</td>\n",
       "      <td>4/2/2012</td>\n",
       "      <td>12/31/1990</td>\n",
       "      <td>598</td>\n",
       "      <td>xxl</td>\n",
       "      <td>brown</td>\n",
       "      <td>87</td>\n",
       "      <td>89.90</td>\n",
       "      <td>825</td>\n",
       "      <td>Mrs</td>\n",
       "      <td>7/11/1964</td>\n",
       "      <td>Rhineland-Palatinate</td>\n",
       "      <td>2/16/2011</td>\n",
       "      <td>0</td>\n",
       "    </tr>\n",
       "    <tr>\n",
       "      <th>6</th>\n",
       "      <td>7</td>\n",
       "      <td>4/2/2012</td>\n",
       "      <td>12/31/1990</td>\n",
       "      <td>15</td>\n",
       "      <td>39</td>\n",
       "      <td>black</td>\n",
       "      <td>1</td>\n",
       "      <td>129.90</td>\n",
       "      <td>825</td>\n",
       "      <td>Mrs</td>\n",
       "      <td>7/11/1964</td>\n",
       "      <td>Rhineland-Palatinate</td>\n",
       "      <td>2/16/2011</td>\n",
       "      <td>0</td>\n",
       "    </tr>\n",
       "    <tr>\n",
       "      <th>7</th>\n",
       "      <td>8</td>\n",
       "      <td>4/2/2012</td>\n",
       "      <td>4/3/2012</td>\n",
       "      <td>32</td>\n",
       "      <td>xxl</td>\n",
       "      <td>brown</td>\n",
       "      <td>3</td>\n",
       "      <td>21.90</td>\n",
       "      <td>850</td>\n",
       "      <td>Mrs</td>\n",
       "      <td>4/8/1948</td>\n",
       "      <td>North Rhine-Westphalia</td>\n",
       "      <td>2/16/2011</td>\n",
       "      <td>1</td>\n",
       "    </tr>\n",
       "    <tr>\n",
       "      <th>8</th>\n",
       "      <td>9</td>\n",
       "      <td>4/2/2012</td>\n",
       "      <td>4/3/2012</td>\n",
       "      <td>32</td>\n",
       "      <td>xxl</td>\n",
       "      <td>red</td>\n",
       "      <td>3</td>\n",
       "      <td>21.90</td>\n",
       "      <td>850</td>\n",
       "      <td>Mrs</td>\n",
       "      <td>4/8/1948</td>\n",
       "      <td>North Rhine-Westphalia</td>\n",
       "      <td>2/16/2011</td>\n",
       "      <td>1</td>\n",
       "    </tr>\n",
       "    <tr>\n",
       "      <th>9</th>\n",
       "      <td>10</td>\n",
       "      <td>4/2/2012</td>\n",
       "      <td>4/3/2012</td>\n",
       "      <td>57</td>\n",
       "      <td>xxl</td>\n",
       "      <td>green</td>\n",
       "      <td>3</td>\n",
       "      <td>39.90</td>\n",
       "      <td>850</td>\n",
       "      <td>Mrs</td>\n",
       "      <td>4/8/1948</td>\n",
       "      <td>North Rhine-Westphalia</td>\n",
       "      <td>2/16/2011</td>\n",
       "      <td>1</td>\n",
       "    </tr>\n",
       "  </tbody>\n",
       "</table>\n",
       "</div>"
      ],
      "text/plain": [
       "   orderItemID orderDate deliveryDate  itemID size  color  manufacturerID  \\\n",
       "0            1  4/1/2012     4/3/2012     186    m  denim              25   \n",
       "1            2  4/1/2012     4/3/2012      71   9+  ocher              21   \n",
       "2            3  4/1/2012     4/3/2012      71   9+  curry              21   \n",
       "3            4  4/2/2012            ?      22    m  green              14   \n",
       "4            5  4/2/2012   12/31/1990     151   39  black              53   \n",
       "5            6  4/2/2012   12/31/1990     598  xxl  brown              87   \n",
       "6            7  4/2/2012   12/31/1990      15   39  black               1   \n",
       "7            8  4/2/2012     4/3/2012      32  xxl  brown               3   \n",
       "8            9  4/2/2012     4/3/2012      32  xxl    red               3   \n",
       "9           10  4/2/2012     4/3/2012      57  xxl  green               3   \n",
       "\n",
       "    price  customerID salutation dateOfBirth                   state  \\\n",
       "0   69.90         794        Mrs    1/6/1965      Baden-Wuerttemberg   \n",
       "1   69.95         794        Mrs    1/6/1965      Baden-Wuerttemberg   \n",
       "2   69.95         794        Mrs    1/6/1965      Baden-Wuerttemberg   \n",
       "3   39.90         808        Mrs   11/9/1959                  Saxony   \n",
       "4   29.90         825        Mrs   7/11/1964    Rhineland-Palatinate   \n",
       "5   89.90         825        Mrs   7/11/1964    Rhineland-Palatinate   \n",
       "6  129.90         825        Mrs   7/11/1964    Rhineland-Palatinate   \n",
       "7   21.90         850        Mrs    4/8/1948  North Rhine-Westphalia   \n",
       "8   21.90         850        Mrs    4/8/1948  North Rhine-Westphalia   \n",
       "9   39.90         850        Mrs    4/8/1948  North Rhine-Westphalia   \n",
       "\n",
       "  creationDate  returnShipment  \n",
       "0    4/25/2011               0  \n",
       "1    4/25/2011               1  \n",
       "2    4/25/2011               1  \n",
       "3     1/4/2012               0  \n",
       "4    2/16/2011               0  \n",
       "5    2/16/2011               0  \n",
       "6    2/16/2011               0  \n",
       "7    2/16/2011               1  \n",
       "8    2/16/2011               1  \n",
       "9    2/16/2011               1  "
      ]
     },
     "execution_count": 6,
     "metadata": {},
     "output_type": "execute_result"
    }
   ],
   "source": [
    "df.head(10)"
   ]
  },
  {
   "cell_type": "markdown",
   "id": "3d2cb62a",
   "metadata": {},
   "source": [
    "#### Untuk Melihat Data Null"
   ]
  },
  {
   "cell_type": "code",
   "execution_count": 7,
   "id": "545da62e",
   "metadata": {},
   "outputs": [
    {
     "data": {
      "text/plain": [
       "orderItemID       0\n",
       "orderDate         0\n",
       "deliveryDate      0\n",
       "itemID            0\n",
       "size              0\n",
       "color             0\n",
       "manufacturerID    0\n",
       "price             0\n",
       "customerID        0\n",
       "salutation        0\n",
       "dateOfBirth       0\n",
       "state             0\n",
       "creationDate      0\n",
       "returnShipment    0\n",
       "dtype: int64"
      ]
     },
     "execution_count": 7,
     "metadata": {},
     "output_type": "execute_result"
    }
   ],
   "source": [
    "df.isna().sum()"
   ]
  },
  {
   "cell_type": "markdown",
   "id": "feba25d4",
   "metadata": {},
   "source": [
    "#### Untuk Menjadikan Nilai Nol Menjadi Null Kemudian Nilai Null Tersebut Diisi Oleh Nilai Median Dari Data Harga"
   ]
  },
  {
   "cell_type": "code",
   "execution_count": 8,
   "id": "8cade612",
   "metadata": {},
   "outputs": [],
   "source": [
    "df.loc[(df.price == 0), \"price\"]=np.nan\n",
    "df[\"price\"] = df['price'].fillna(df['price'].median(),inplace=False)"
   ]
  },
  {
   "cell_type": "markdown",
   "id": "e76c3ff0",
   "metadata": {},
   "source": [
    "#### Pengecekan jumlah nilai 0 pada price dan tanda tanya pada color "
   ]
  },
  {
   "cell_type": "code",
   "execution_count": 9,
   "id": "625595be",
   "metadata": {},
   "outputs": [
    {
     "data": {
      "text/plain": [
       "0"
      ]
     },
     "execution_count": 9,
     "metadata": {},
     "output_type": "execute_result"
    }
   ],
   "source": [
    "len(df[df.price == 0])"
   ]
  },
  {
   "cell_type": "code",
   "execution_count": 10,
   "id": "53f7208a",
   "metadata": {},
   "outputs": [
    {
     "data": {
      "text/plain": [
       "143"
      ]
     },
     "execution_count": 10,
     "metadata": {},
     "output_type": "execute_result"
    }
   ],
   "source": [
    "len(df[df.color == '?'])"
   ]
  },
  {
   "cell_type": "markdown",
   "id": "78ab6c89",
   "metadata": {},
   "source": [
    "#### Mengubah tanda tanya pada color menjadi modus"
   ]
  },
  {
   "cell_type": "code",
   "execution_count": 11,
   "id": "a719b060",
   "metadata": {},
   "outputs": [],
   "source": [
    "df.color=df.color.str.replace('?',df['color'].mode()[0], regex=True)"
   ]
  },
  {
   "cell_type": "markdown",
   "id": "a51c24c3",
   "metadata": {},
   "source": [
    "#### Mengubah jenis warna menjadi warna dasar"
   ]
  },
  {
   "cell_type": "code",
   "execution_count": 12,
   "id": "5ee85018",
   "metadata": {},
   "outputs": [],
   "source": [
    "df['color'] = df['color'].replace(\"denim\", \"blue\")\n",
    "df['color'] = df['color'].replace(\"ocher\", \"orange\")\n",
    "df['color'] = df['color'].replace(\"curry\", \"yellow\")\n",
    "df['color'] = df['color'].replace(\"green\", \"green\")\n",
    "df['color'] = df['color'].replace(\"black\", \"black\")\n",
    "df['color'] = df['color'].replace(\"brown\", \"brown\")\n",
    "df['color'] = df['color'].replace(\"red\", \"red\")\n",
    "df['color'] = df['color'].replace(\"mocca\", \"brown\")\n",
    "df['color'] = df['color'].replace(\"anthracite\", \"grey\")\n",
    "df['color'] = df['color'].replace(\"olive\", \"green\")\n",
    "df['color'] = df['color'].replace(\"petrol\", \"blue\")\n",
    "df['color'] = df['color'].replace(\"blue\", \"blue\")\n",
    "df['color'] = df['color'].replace(\"grey\", \"grey\")\n",
    "df['color'] = df['color'].replace(\"beige\", \"cream\")\n",
    "df['color'] = df['color'].replace(\"ecru\", \"brown\")\n",
    "df['color'] = df['color'].replace(\"turquoise\", \"green\")\n",
    "df['color'] = df['color'].replace(\"magenta\", \"red\")\n",
    "df['color'] = df['color'].replace(\"purple\", \"purple\")\n",
    "df['color'] = df['color'].replace(\"pink\", \"pink\")\n",
    "df['color'] = df['color'].replace(\"khaki\", \"cream\")\n",
    "df['color'] = df['color'].replace(\"navy\", \"blue\")\n",
    "df['color'] = df['color'].replace(\"habana\", \"brown\")\n",
    "df['color'] = df['color'].replace(\"silver\", \"grey\")\n",
    "df['color'] = df['color'].replace(\"navy\", \"blue\")\n",
    "df['color'] = df['color'].replace(\"white\", \"white\")\n",
    "df['color'] = df['color'].replace(\"nature\", \"green\")\n",
    "df['color'] = df['color'].replace(\"stained\", \"brown\")\n",
    "df['color'] = df['color'].replace(\"orange\", \"orange\")\n",
    "df['color'] = df['color'].replace(\"azure\", \"blue\")\n",
    "df['color'] = df['color'].replace(\"apricot\", \"orange\")\n",
    "df['color'] = df['color'].replace(\"mango\", \"yellow\")\n",
    "df['color'] = df['color'].replace(\"berry\", \"red\")\n",
    "df['color'] = df['color'].replace(\"ash\", \"grey\")\n",
    "df['color'] = df['color'].replace(\"hibiscus\", \"pink\")\n",
    "df['color'] = df['color'].replace(\"fuchsia\", \"purple\")\n",
    "df['color'] = df['color'].replace(\"blau\", \"blue\")\n",
    "df['color'] = df['color'].replace(\"dark denim\", \"blue\")\n",
    "df['color'] = df['color'].replace(\"mint\", \"green\")\n",
    "df['color'] = df['color'].replace(\"ivory\", \"brown\")\n",
    "df['color'] = df['color'].replace(\"yellow\", \"yellow\")\n",
    "df['color'] = df['color'].replace(\"bordeaux\", \"red\")\n",
    "df['color'] = df['color'].replace(\"pallid\", \"green\")\n",
    "df['color'] = df['color'].replace(\"ancient\", \"blue\")\n",
    "df['color'] = df['color'].replace(\"baltic blue\", \"blue\")\n",
    "df['color'] = df['color'].replace(\"almond\", \"brown\")\n",
    "df['color'] = df['color'].replace(\"aquamarine\", \"green\")\n",
    "df['color'] = df['color'].replace(\"brwon\", \"brown\")\n",
    "df['color'] = df['color'].replace(\"aubergine\", \"purple\")\n",
    "df['color'] = df['color'].replace(\"aqua\", \"blue\")\n",
    "df['color'] = df['color'].replace(\"dark garnet\", \"red\")\n",
    "df['color'] = df['color'].replace(\"dark grey\", \"grey\")\n",
    "df['color'] = df['color'].replace(\"avocado\", \"green\")\n",
    "df['color'] = df['color'].replace(\"cream\", \"cream\")\n",
    "df['color'] = df['color'].replace(\"champagner\", \"cream\")\n",
    "df['color'] = df['color'].replace(\"cortina mocca\", \"brown\")\n",
    "df['color'] = df['color'].replace(\"currant purple\", \"purple\")\n",
    "df['color'] = df['color'].replace(\"cognac\", \"orange\")\n",
    "df['color'] = df['color'].replace(\"aviator\", \"grey\")\n",
    "df['color'] = df['color'].replace(\"gold\", \"yellow\")\n",
    "df['color'] = df['color'].replace(\"ebony\", \"green\")\n",
    "df['color'] = df['color'].replace(\"cobalt blue\", \"blue\")\n",
    "df['color'] = df['color'].replace(\"kanel\", \"cream\")\n",
    "df['color'] = df['color'].replace(\"curled\", \"brown\")\n",
    "df['color'] = df['color'].replace(\"caramel\", \"orange\")\n",
    "df['color'] = df['color'].replace(\"antique pink\", \"pink\")\n",
    "df['color'] = df['color'].replace(\"darkblue\", \"blue\")\n",
    "df['color'] = df['color'].replace(\"copper coin\", \"brown\")\n",
    "df['color'] = df['color'].replace(\"terracotta\", \"orange\")\n",
    "df['color'] = df['color'].replace(\"basalt\", \"grey\")\n",
    "df['color'] = df['color'].replace(\"amethyst\", \"purple\")\n",
    "df['color'] = df['color'].replace(\"coral\", \"orange\")\n",
    "df['color'] = df['color'].replace(\"jade\", \"green\")\n",
    "df['color'] = df['color'].replace(\"opal\", \"green\")\n",
    "df['color'] = df['color'].replace(\"striped\", \"white\")\n",
    "df['color'] = df['color'].replace(\"mahagoni\", \"brown\")\n",
    "df['color'] = df['color'].replace(\"floral\", \"orange\")\n",
    "df['color'] = df['color'].replace(\"dark navy\", \"blue\")\n",
    "df['color'] = df['color'].replace(\"dark oliv\", \"blue\")\n",
    "df['color'] = df['color'].replace(\"vanille\", \"white\")\n",
    "df['color'] = df['color'].replace(\"ingwer\", \"yellow\")\n",
    "df['color'] = df['color'].replace(\"iron\", \"grey\")\n",
    "df['color'] = df['color'].replace(\"graphite\", \"grey\")\n",
    "df['color'] = df['color'].replace(\"leopard\", \"orange\")\n",
    "df['color'] = df['color'].replace(\"oliv\", \"orange\")\n",
    "df['color'] = df['color'].replace(\"bronze\", \"brown\")\n",
    "df['color'] = df['color'].replace(\"crimson\", \"red\")\n",
    "df['color'] = df['color'].replace(\"lemon\", \"yellow\")\n",
    "df['color'] = df['color'].replace(\"perlmutt\", \"cream\")"
   ]
  },
  {
   "cell_type": "markdown",
   "id": "b58f373b",
   "metadata": {},
   "source": [
    "### Normalisasi Kolom Size"
   ]
  },
  {
   "cell_type": "code",
   "execution_count": 13,
   "id": "759d8709",
   "metadata": {},
   "outputs": [],
   "source": [
    "# mengubah huruf dan angka anomali pada size menjadi angka sesuai dengan ketentuan ukuran Europe\n",
    "df['size'] = df['size'].replace(\"xs\", \"30\")\n",
    "df['size'] = df['size'].replace(\"XS\", \"30\")\n",
    "df['size'] = df['size'].replace(\"s\", \"34\")\n",
    "df['size'] = df['size'].replace(\"S\", \"34\")\n",
    "df['size'] = df['size'].replace(\"m\", \"38\")\n",
    "df['size'] = df['size'].replace(\"M\", \"38\")\n",
    "df['size'] = df['size'].replace(\"l\", \"42\")\n",
    "df['size'] = df['size'].replace(\"L\", \"42\")\n",
    "df['size'] = df['size'].replace(\"xl\", \"46\")\n",
    "df['size'] = df['size'].replace(\"XL\", \"46\")\n",
    "df['size'] = df['size'].replace(\"xxl\", \"48\")\n",
    "df['size'] = df['size'].replace(\"XXL\", \"48\")\n",
    "df['size'] = df['size'].replace(\"xxxl\", \"52\")\n",
    "df['size'] = df['size'].replace(\"XXXL\", \"52\")\n",
    "df['size'] = df['size'].replace(\"unsized\", np.nan)\n",
    "df['size'] = df['size'].replace(\"2+\", \"3\")\n",
    "df['size'] = df['size'].replace(\"3+\", \"4\")\n",
    "df['size'] = df['size'].replace(\"4+\", \"5\")\n",
    "df['size'] = df['size'].replace(\"5+\", \"6\")\n",
    "df['size'] = df['size'].replace(\"6+\", \"7\")\n",
    "df['size'] = df['size'].replace(\"7+\", \"8\")\n",
    "df['size'] = df['size'].replace(\"8+\", \"9\")\n",
    "df['size'] = df['size'].replace(\"9+\", \"10\")\n",
    "df['size'] = df['size'].replace(\"10+\", \"11\")\n",
    "df['size'] = df['size'].replace(\"11+\", \"12\")\n",
    "df['size'] = df['size'].replace(\"12+\", \"13\")\n",
    "df['size'] = df['size'].replace(\"13+\", \"14\")\n",
    "df['size'] = df['size'].replace(\"37+\", \"38\")\n",
    "df['size'] = df['size'].replace(\"38+\", \"39\")\n",
    "df['size'] = df['size'].replace(\"39+\", \"40\")\n",
    "df['size'] = df['size'].replace(\"40+\", \"41\")\n",
    "df['size'] = df['size'].replace(\"41+\", \"42\")\n",
    "df['size'] = df['size'].replace(\"43+\", \"44\")\n",
    "df['size'] = df['size'].replace(\"44+\", \"45\")\n",
    "df['size'] = df['size'].replace(\"45+\", \"46\")\n",
    "df['size'] = df['size'].replace(\"46+\", \"47\")\n",
    "\n",
    "# menjadikan format size menjadi integer \n",
    "df['size'] = pd.to_numeric(df['size'], errors = 'coerce').convert_dtypes()\n",
    "\n",
    "# mengubah angka anomali menjadi angka size ukuran global (europe)\n",
    "df['size'] = df['size'].mask(df['size']<=2, 30) #XS\n",
    "df['size'] = df['size'].mask(df['size']<=6, 34) #S\n",
    "df['size'] = df['size'].mask(df['size']<=10, 38)#M \n",
    "df['size'] = df['size'].mask(df['size']<=14, 42)#L\n",
    "df['size'] = df['size'].mask(df['size']<=18, 46)#XL\n",
    "df['size'] = df['size'].mask(df['size']<=22, 48)#XXL\n",
    "df['size'] = df['size'].mask(df['size']<=26, 52)#XXXL\n",
    "\n",
    "# mengubah nilai range data menjadi angka size ukuran global Europe\n",
    "df.loc[df['size'].between(27, 29), 'size'] = 30\n",
    "df.loc[df['size'].between(31, 33), 'size'] = 34\n",
    "df.loc[df['size'].between(35, 37), 'size'] = 38\n",
    "df.loc[df['size'].between(39, 41), 'size'] = 42\n",
    "df.loc[df['size'].between(43, 45), 'size'] = 46\n",
    "df['size'] = df['size'].replace(47, 48)\n",
    "df.loc[df['size'].between(49, 51), 'size'] = 52\n",
    "df.loc[df['size'].between(53, 55), 'size'] = 56\n",
    "df.loc[df['size'].between(57, 59), 'size'] = 60\n",
    "\n",
    "# mengubah nilai range data anomali atau ekstrim menggunakan data mean, median dan value global\n",
    "df.loc[df['size'].between(61, 1000), 'size'] = int(df['size'].mean())\n",
    "df.loc[df['size'].between(1001, 5000), 'size'] = df['size'].median()\n",
    "df.loc[df['size'].between(43, 45), 'size'] = 46\n",
    "\n",
    "# untuk mengisi nilai null pada size dengan nilai median\n",
    "df[\"size\"] = df['size'].fillna(df['size'].median(),inplace=False)\n",
    "\n",
    "# mengubah tipe data size menjadi string\n",
    "df['size'] = df['size'].astype(str)\n",
    "\n",
    "# mengubah value global menjadi ukuran baju (str)\n",
    "df['size'] = df['size'].replace(\"30\", \"XS\")\n",
    "df['size'] = df['size'].replace(\"34\", \"S\")\n",
    "df['size'] = df['size'].replace(\"38\", \"M\")\n",
    "df['size'] = df['size'].replace(\"42\", \"L\")\n",
    "df['size'] = df['size'].replace(\"46\", \"XL\")\n",
    "df['size'] = df['size'].replace(\"48\", \"XXL\")\n",
    "df['size'] = df['size'].replace(\"52\", \"XXXL\")\n",
    "df['size'] = df['size'].replace(\"56\", \"XXXXL\")\n",
    "df['size'] = df['size'].replace(\"60\", \"XXXXL\")\n"
   ]
  },
  {
   "cell_type": "markdown",
   "id": "0702620d",
   "metadata": {},
   "source": [
    "#### Mengubah Tipe Data"
   ]
  },
  {
   "cell_type": "code",
   "execution_count": 14,
   "id": "e19f94e8",
   "metadata": {},
   "outputs": [],
   "source": [
    "df['size'] = df['size'].astype('category')\n",
    "df['color'] = df['color'].astype('category')\n",
    "df['salutation'] = df['salutation'].astype('category')\n",
    "# mengubah tipe data creationDate menjadi tipe data Datetime\n",
    "df['creationDate'] = pd.to_datetime(df['creationDate'], errors='coerce')\n",
    "df['creationDate'] = pd.to_datetime(df['creationDate'], unit='s')"
   ]
  },
  {
   "cell_type": "markdown",
   "id": "3aeb0fb6",
   "metadata": {},
   "source": [
    "#### Mengubah kolom tanggal kelahiran menjadi date of birth "
   ]
  },
  {
   "cell_type": "code",
   "execution_count": 15,
   "id": "5e8349d0",
   "metadata": {},
   "outputs": [],
   "source": [
    "df['Tanggal_Kelahiran'] = df['dateOfBirth']"
   ]
  },
  {
   "cell_type": "markdown",
   "id": "ceb206a8",
   "metadata": {},
   "source": [
    "#### Proses Pengubahan Format Date Menjadi Format Usia (int)"
   ]
  },
  {
   "cell_type": "code",
   "execution_count": 16,
   "id": "3bdd37ed",
   "metadata": {},
   "outputs": [],
   "source": [
    "now = pd.Timestamp('now')\n",
    "df['dateOfBirth'] = pd.to_datetime(df['dateOfBirth'], errors='coerce')\n",
    "df['Tanggal_Kelahiran'] = pd.to_datetime(df['Tanggal_Kelahiran'], errors='coerce')\n",
    "df['dateOfBirth'] = (now - df['dateOfBirth']).astype('<m8[Y]')\n",
    "df['dateOfBirth'] = pd.to_numeric(df['dateOfBirth'], errors = 'coerce').convert_dtypes()"
   ]
  },
  {
   "cell_type": "markdown",
   "id": "5f702b34",
   "metadata": {},
   "source": [
    "#### Mengubah Nama Kolom dateOfBirth Menjadi Age"
   ]
  },
  {
   "cell_type": "code",
   "execution_count": 17,
   "id": "c73bca3d",
   "metadata": {},
   "outputs": [],
   "source": [
    "df.rename(columns={'dateOfBirth':'Age'},inplace=True)"
   ]
  },
  {
   "cell_type": "markdown",
   "id": "2b8d244f",
   "metadata": {},
   "source": [
    "#### Mengubah Tipe Data Menjadi Format Date"
   ]
  },
  {
   "cell_type": "code",
   "execution_count": 18,
   "id": "5aedb87e",
   "metadata": {},
   "outputs": [],
   "source": [
    "df['deliveryDate'] = pd.to_datetime(df['deliveryDate'], errors='coerce')\n",
    "df['orderDate'] = pd.to_datetime(df['orderDate'], errors='coerce')\n",
    "df['deliveryDate'] = pd.to_datetime(df['deliveryDate'], unit='s')\n",
    "df['orderDate'] = pd.to_datetime(df['orderDate'], unit='s')"
   ]
  },
  {
   "cell_type": "markdown",
   "id": "0f570f57",
   "metadata": {},
   "source": [
    "#### Pengecekan jumlah nilai NULL pada kolom Age"
   ]
  },
  {
   "cell_type": "code",
   "execution_count": 19,
   "id": "6dfe2993",
   "metadata": {},
   "outputs": [
    {
     "data": {
      "text/plain": [
       "48892"
      ]
     },
     "execution_count": 19,
     "metadata": {},
     "output_type": "execute_result"
    }
   ],
   "source": [
    "df['Age'].isna().sum()"
   ]
  },
  {
   "cell_type": "markdown",
   "id": "8c5d3843",
   "metadata": {},
   "source": [
    "#### Mengubah tipe data Age menjadi int"
   ]
  },
  {
   "cell_type": "code",
   "execution_count": 20,
   "id": "bfc04840",
   "metadata": {},
   "outputs": [],
   "source": [
    "df['Age'] = pd.to_numeric(df['Age'], errors = 'coerce').convert_dtypes()"
   ]
  },
  {
   "cell_type": "markdown",
   "id": "d3a64e87",
   "metadata": {},
   "source": [
    "#### Mengisi data Age kosong dengan rata-rata"
   ]
  },
  {
   "cell_type": "code",
   "execution_count": 21,
   "id": "120add40",
   "metadata": {},
   "outputs": [],
   "source": [
    "a = int(df['Age'].mean())\n",
    "df[\"Age\"] = df['Age'].fillna(a,inplace=False)"
   ]
  },
  {
   "cell_type": "code",
   "execution_count": 22,
   "id": "7d8e90e1",
   "metadata": {},
   "outputs": [
    {
     "name": "stdout",
     "output_type": "stream",
     "text": [
      "<class 'pandas.core.frame.DataFrame'>\n",
      "RangeIndex: 481092 entries, 0 to 481091\n",
      "Data columns (total 15 columns):\n",
      " #   Column             Non-Null Count   Dtype         \n",
      "---  ------             --------------   -----         \n",
      " 0   orderItemID        481092 non-null  int64         \n",
      " 1   orderDate          481092 non-null  datetime64[ns]\n",
      " 2   deliveryDate       441673 non-null  datetime64[ns]\n",
      " 3   itemID             481092 non-null  int64         \n",
      " 4   size               481092 non-null  category      \n",
      " 5   color              481092 non-null  category      \n",
      " 6   manufacturerID     481092 non-null  int64         \n",
      " 7   price              481092 non-null  float64       \n",
      " 8   customerID         481092 non-null  int64         \n",
      " 9   salutation         481092 non-null  category      \n",
      " 10  Age                481092 non-null  Int64         \n",
      " 11  state              481092 non-null  object        \n",
      " 12  creationDate       481092 non-null  datetime64[ns]\n",
      " 13  returnShipment     481092 non-null  int64         \n",
      " 14  Tanggal_Kelahiran  432200 non-null  datetime64[ns]\n",
      "dtypes: Int64(1), category(3), datetime64[ns](4), float64(1), int64(5), object(1)\n",
      "memory usage: 45.9+ MB\n"
     ]
    }
   ],
   "source": [
    "df.info()"
   ]
  },
  {
   "cell_type": "code",
   "execution_count": 23,
   "id": "03e19fda",
   "metadata": {},
   "outputs": [
    {
     "data": {
      "text/plain": [
       "orderItemID              0\n",
       "orderDate                0\n",
       "deliveryDate         39419\n",
       "itemID                   0\n",
       "size                     0\n",
       "color                    0\n",
       "manufacturerID           0\n",
       "price                    0\n",
       "customerID               0\n",
       "salutation               0\n",
       "Age                      0\n",
       "state                    0\n",
       "creationDate             0\n",
       "returnShipment           0\n",
       "Tanggal_Kelahiran    48892\n",
       "dtype: int64"
      ]
     },
     "execution_count": 23,
     "metadata": {},
     "output_type": "execute_result"
    }
   ],
   "source": [
    "df.isna().sum()"
   ]
  },
  {
   "cell_type": "markdown",
   "id": "686df127",
   "metadata": {},
   "source": [
    "## Grafik nilai ekstrim Age"
   ]
  },
  {
   "cell_type": "code",
   "execution_count": 24,
   "id": "dbe4aa16",
   "metadata": {},
   "outputs": [
    {
     "data": {
      "text/plain": [
       "<AxesSubplot:xlabel='Age'>"
      ]
     },
     "execution_count": 24,
     "metadata": {},
     "output_type": "execute_result"
    },
    {
     "data": {
      "image/png": "[encoded data removed]",
      "text/plain": [
       "<Figure size 432x288 with 1 Axes>"
      ]
     },
     "metadata": {
      "needs_background": "light"
     },
     "output_type": "display_data"
    }
   ],
   "source": [
    "sns.boxplot(x=\"Age\",data=df)"
   ]
  },
  {
   "cell_type": "markdown",
   "id": "3cfce3d3",
   "metadata": {},
   "source": [
    "### Penjelasan\n",
    "Untuk mencari nilai ekstrim pada atribut Age dan pada atribut ini terdapat nilai ekstrim yaitu 120 keatas"
   ]
  },
  {
   "cell_type": "markdown",
   "id": "eac264cb",
   "metadata": {},
   "source": [
    "## Grafik Jumlah Salutation"
   ]
  },
  {
   "cell_type": "code",
   "execution_count": 25,
   "id": "664ef108",
   "metadata": {},
   "outputs": [
    {
     "data": {
      "text/plain": [
       "<AxesSubplot:xlabel='salutation', ylabel='count'>"
      ]
     },
     "execution_count": 25,
     "metadata": {},
     "output_type": "execute_result"
    },
    {
     "data": {
      "image/png": "[encoded data removed]",
      "text/plain": [
       "<Figure size 1440x360 with 1 Axes>"
      ]
     },
     "metadata": {
      "needs_background": "light"
     },
     "output_type": "display_data"
    }
   ],
   "source": [
    "fig, ax = plt.subplots(figsize=(20, 5)) #atur ukuran chart\n",
    "sns.countplot(ax=ax, x=\"salutation\", data=df)"
   ]
  },
  {
   "cell_type": "markdown",
   "id": "fa6af6fc",
   "metadata": {},
   "source": [
    "### Penjelasan\n",
    "Untuk melihat jumlah salutation disetiap kategorinya"
   ]
  },
  {
   "cell_type": "markdown",
   "id": "6a0c62cb",
   "metadata": {},
   "source": [
    "## Grafik Jumlah Ukuran"
   ]
  },
  {
   "cell_type": "code",
   "execution_count": 26,
   "id": "efe04772",
   "metadata": {},
   "outputs": [
    {
     "data": {
      "text/plain": [
       "<AxesSubplot:xlabel='size', ylabel='count'>"
      ]
     },
     "execution_count": 26,
     "metadata": {},
     "output_type": "execute_result"
    },
    {
     "data": {
      "image/png": "[encoded data removed]",
      "text/plain": [
       "<Figure size 1440x360 with 1 Axes>"
      ]
     },
     "metadata": {
      "needs_background": "light"
     },
     "output_type": "display_data"
    }
   ],
   "source": [
    "fig, ax = plt.subplots(figsize=(20, 5)) #atur ukuran chart\n",
    "sns.countplot(ax=ax, x=\"size\", data=df)"
   ]
  },
  {
   "cell_type": "markdown",
   "id": "3278b890",
   "metadata": {},
   "source": [
    "### Penjelasan \n",
    "Untuk melihat jumlah ukuran baju disetiap ukurannya"
   ]
  },
  {
   "cell_type": "markdown",
   "id": "cefcf6ef",
   "metadata": {},
   "source": [
    "## Grafik Hubungan Banyaknya Minat Ukuran Baju Terhadap Salutation"
   ]
  },
  {
   "cell_type": "code",
   "execution_count": 27,
   "id": "76445999",
   "metadata": {},
   "outputs": [
    {
     "data": {
      "text/plain": [
       "<AxesSubplot:xlabel='size', ylabel='count'>"
      ]
     },
     "execution_count": 27,
     "metadata": {},
     "output_type": "execute_result"
    },
    {
     "data": {
      "image/png": "[encoded data removed]",
      "text/plain": [
       "<Figure size 1440x360 with 1 Axes>"
      ]
     },
     "metadata": {
      "needs_background": "light"
     },
     "output_type": "display_data"
    }
   ],
   "source": [
    "fig, ax = plt.subplots(figsize=(20, 5)) #atur ukuran chart\n",
    "sns.countplot(ax=ax, x=\"size\",hue='salutation', data=df)"
   ]
  },
  {
   "cell_type": "markdown",
   "id": "1fc3c43a",
   "metadata": {},
   "source": [
    "### Penjelasan\n",
    "Untuk melihat banyaknya minat ukuran baju terhadap customer atau nama panggilan tersebut yang mana nama panggilan mrs mendominasi pada ukuran baju selain xxxl dan xxxxl"
   ]
  },
  {
   "cell_type": "markdown",
   "id": "a4ca7863",
   "metadata": {},
   "source": [
    "## Grafik Outlier Harga"
   ]
  },
  {
   "cell_type": "code",
   "execution_count": 28,
   "id": "32b7f4d4",
   "metadata": {},
   "outputs": [
    {
     "data": {
      "text/plain": [
       "<AxesSubplot:xlabel='price'>"
      ]
     },
     "execution_count": 28,
     "metadata": {},
     "output_type": "execute_result"
    },
    {
     "data": {
      "image/png": "[encoded data removed]",
      "text/plain": [
       "<Figure size 432x288 with 1 Axes>"
      ]
     },
     "metadata": {
      "needs_background": "light"
     },
     "output_type": "display_data"
    }
   ],
   "source": [
    "sns.boxplot(x=\"price\",data=df)"
   ]
  },
  {
   "cell_type": "markdown",
   "id": "e6856363",
   "metadata": {},
   "source": [
    "### Penjelasan\n",
    "untuk mencari nilai ekstrim dari sebuah atribut yaitu atribut harga dan menurut kelompok kami terdapat nilai ekstrim"
   ]
  },
  {
   "cell_type": "markdown",
   "id": "5137d3d9",
   "metadata": {},
   "source": [
    "## Grafik Ukuran"
   ]
  },
  {
   "cell_type": "code",
   "execution_count": 29,
   "id": "a3f5d9ef",
   "metadata": {},
   "outputs": [
    {
     "data": {
      "text/plain": [
       "<seaborn.axisgrid.PairGrid at 0x1eb800e3a30>"
      ]
     },
     "execution_count": 29,
     "metadata": {},
     "output_type": "execute_result"
    },
    {
     "data": {
      "image/png": "[encoded data removed]",
      "text/plain": [
       "<Figure size 429x360 with 6 Axes>"
      ]
     },
     "metadata": {
      "needs_background": "light"
     },
     "output_type": "display_data"
    }
   ],
   "source": [
    "sns.pairplot(data=df[['price','Age','size']],hue=\"size\")"
   ]
  },
  {
   "cell_type": "markdown",
   "id": "3ea4c9b2",
   "metadata": {},
   "source": [
    "### Penjelasan\n",
    "ukuran L merupakan ukuran yang paling mendominasi diberbagai usia dengan harga yang beragam"
   ]
  },
  {
   "cell_type": "markdown",
   "id": "e1e10f86",
   "metadata": {},
   "source": [
    "## Grafik Salutation disetiap Kota"
   ]
  },
  {
   "cell_type": "code",
   "execution_count": 30,
   "id": "b833b69e",
   "metadata": {},
   "outputs": [
    {
     "data": {
      "text/plain": [
       "<AxesSubplot:xlabel='count', ylabel='state'>"
      ]
     },
     "execution_count": 30,
     "metadata": {},
     "output_type": "execute_result"
    },
    {
     "data": {
      "image/png": "[encoded data removed]",
      "text/plain": [
       "<Figure size 1584x360 with 1 Axes>"
      ]
     },
     "metadata": {
      "needs_background": "light"
     },
     "output_type": "display_data"
    }
   ],
   "source": [
    "fig, ax = plt.subplots(figsize=(22, 5)) #atur ukuran chart\n",
    "sns.countplot(ax=ax, y=\"state\", hue='salutation', data=df)"
   ]
  },
  {
   "cell_type": "markdown",
   "id": "9103e798",
   "metadata": {},
   "source": [
    "### Penjelasan\n",
    "Bahwa salutation yang mendominasi pada setiap kotanya kembali diduduki oleh mrs yang mana terlihat persebaran jumlah datanya sangat tinggi"
   ]
  },
  {
   "cell_type": "markdown",
   "id": "4ad6ff44",
   "metadata": {},
   "source": [
    "# PEMBUATAN MODEL"
   ]
  },
  {
   "cell_type": "code",
   "execution_count": 31,
   "id": "fe33b685",
   "metadata": {},
   "outputs": [],
   "source": [
    "df_tr = df"
   ]
  },
  {
   "cell_type": "markdown",
   "id": "a7bd62aa",
   "metadata": {},
   "source": [
    "#### Mengambil tanggal, bulan, dan tahun pada delivery, order, creation, pembuatan dan kelahiran"
   ]
  },
  {
   "cell_type": "code",
   "execution_count": 32,
   "id": "10918c8f",
   "metadata": {},
   "outputs": [],
   "source": [
    "df_tr['Bulan_Order'] = df_tr['orderDate'].dt.strftime('%m')\n",
    "df_tr['Bulan_Order'] = pd.to_numeric(df_tr['Bulan_Order'], errors = 'coerce').convert_dtypes()\n",
    "df_tr['Bulan_Creation'] = df_tr['creationDate'].dt.strftime('%m')\n",
    "df_tr['Bulan_Creation'] = pd.to_numeric(df_tr['Bulan_Creation'], errors = 'coerce').convert_dtypes()\n",
    "df_tr['Bulan_Kelahiran'] = df_tr['Tanggal_Kelahiran'].dt.strftime('%m')\n",
    "df_tr['Bulan_Kelahiran'] = pd.to_numeric(df_tr['Bulan_Kelahiran'], errors = 'coerce').convert_dtypes()\n",
    "df_tr['Bulan_Delivery'] = df_tr['deliveryDate'].dt.strftime('%m')\n",
    "df_tr['Bulan_Delivery'] = pd.to_numeric(df_tr['Bulan_Delivery'], errors = 'coerce').convert_dtypes()"
   ]
  },
  {
   "cell_type": "code",
   "execution_count": 33,
   "id": "38af996e",
   "metadata": {},
   "outputs": [],
   "source": [
    "df_tr['Tahun_Pembuatan'] = df_tr['creationDate'].dt.strftime('%Y')\n",
    "df_tr['Tahun_Pembuatan'] = pd.to_numeric(df_tr['Tahun_Pembuatan'], errors = 'coerce').convert_dtypes()\n",
    "df_tr['Tahun_Order'] = df_tr['orderDate'].dt.strftime('%Y')\n",
    "df_tr['Tahun_Order'] = pd.to_numeric(df_tr['Tahun_Order'], errors = 'coerce').convert_dtypes()\n",
    "df_tr['Tahun_Kelahiran'] = df_tr['Tanggal_Kelahiran'].dt.strftime('%Y')\n",
    "df_tr['Tahun_Kelahiran'] = pd.to_numeric(df_tr['Tahun_Kelahiran'], errors = 'coerce').convert_dtypes()\n",
    "df_tr['Tahun_Delivery'] = df_tr['deliveryDate'].dt.strftime('%Y')\n",
    "df_tr['Tahun_Delivery'] = pd.to_numeric(df_tr['Tahun_Delivery'], errors = 'coerce').convert_dtypes()"
   ]
  },
  {
   "cell_type": "code",
   "execution_count": 34,
   "id": "62025051",
   "metadata": {},
   "outputs": [],
   "source": [
    "df_tr['Tanggal_Delivery'] = df_tr['deliveryDate'].dt.strftime('%d')\n",
    "df_tr['Tanggal_Delivery'] = pd.to_numeric(df_tr['Tanggal_Delivery'], errors = 'coerce').convert_dtypes()\n",
    "df_tr['Tanggal_Order'] = df_tr['orderDate'].dt.strftime('%d')\n",
    "df_tr['Tanggal_Order'] = pd.to_numeric(df_tr['Tanggal_Order'], errors = 'coerce').convert_dtypes()\n",
    "df_tr['Tanggal_Creation'] = df_tr['creationDate'].dt.strftime('%d')\n",
    "df_tr['Tanggal_Creation'] = pd.to_numeric(df_tr['Tanggal_Creation'], errors = 'coerce').convert_dtypes()\n",
    "df_tr['Tanggal_Kelahiran'] = df_tr['Tanggal_Kelahiran'].dt.strftime('%d')\n",
    "df_tr['Tanggal_Kelahiran'] = pd.to_numeric(df_tr['Tanggal_Kelahiran'], errors = 'coerce').convert_dtypes()"
   ]
  },
  {
   "cell_type": "markdown",
   "id": "e866e8fc",
   "metadata": {},
   "source": [
    "#### Mencari nilai selisih antara order dan delivery"
   ]
  },
  {
   "cell_type": "code",
   "execution_count": 35,
   "id": "e6a4a1b6",
   "metadata": {},
   "outputs": [],
   "source": [
    "df_tr['days'] = df_tr['Tanggal_Delivery'] - df_tr['Tanggal_Order']\n",
    "df_tr['days'] = pd.to_numeric(df_tr['days'], errors = 'coerce').convert_dtypes()"
   ]
  },
  {
   "cell_type": "markdown",
   "id": "db4f1d6a",
   "metadata": {},
   "source": [
    "#### Mengisi data di kolom tanggal kelahiran menggunakan rata-rata"
   ]
  },
  {
   "cell_type": "code",
   "execution_count": 36,
   "id": "6c966290",
   "metadata": {},
   "outputs": [],
   "source": [
    "b = int(df_tr['Tanggal_Kelahiran'].mean())\n",
    "df_tr[\"Tanggal_Kelahiran\"] = df_tr['Tanggal_Kelahiran'].fillna(b,inplace=False)"
   ]
  },
  {
   "cell_type": "markdown",
   "id": "832f44a8",
   "metadata": {},
   "source": [
    "#### Mengisi data di kolom hari menggunakan modus"
   ]
  },
  {
   "cell_type": "code",
   "execution_count": 37,
   "id": "9b331d4e",
   "metadata": {},
   "outputs": [],
   "source": [
    "df_tr[\"days\"] = df_tr['days'].fillna(df_tr['days'].mode()[0],inplace=False)"
   ]
  },
  {
   "cell_type": "markdown",
   "id": "cc3f769d",
   "metadata": {},
   "source": [
    "#### Mengisi data di kolom tanggal delivery menggunakan median"
   ]
  },
  {
   "cell_type": "code",
   "execution_count": 38,
   "id": "e99bd635",
   "metadata": {},
   "outputs": [],
   "source": [
    "df_tr[\"Tanggal_Delivery\"] = df_tr['Tanggal_Delivery'].fillna(df_tr['Tanggal_Delivery'].median(),inplace=False)"
   ]
  },
  {
   "cell_type": "markdown",
   "id": "67abf481",
   "metadata": {},
   "source": [
    "#### Mengisi data di kolom bulan dan tahum kelahiran, delivery mneggunakan modus dan median"
   ]
  },
  {
   "cell_type": "code",
   "execution_count": 39,
   "id": "7e373266",
   "metadata": {},
   "outputs": [],
   "source": [
    "df_tr[\"Bulan_Kelahiran\"] = df_tr['Bulan_Kelahiran'].fillna(df_tr['Bulan_Kelahiran'].mode()[0],inplace=False)\n",
    "df_tr[\"Bulan_Delivery\"] = df_tr['Bulan_Delivery'].fillna(df_tr['Bulan_Delivery'].mode()[0],inplace=False)\n",
    "df_tr[\"Tahun_Kelahiran\"] = df_tr['Tahun_Kelahiran'].fillna(df_tr['Tahun_Kelahiran'].median(),inplace=False)\n",
    "df_tr[\"Tahun_Delivery\"] = df_tr['Tahun_Delivery'].fillna(df_tr['Tahun_Delivery'].median(),inplace=False)"
   ]
  },
  {
   "cell_type": "markdown",
   "id": "8f547d8f",
   "metadata": {},
   "source": [
    "#### Melihat jumlah data pada kolom tahum delivery yang bernilai 1990"
   ]
  },
  {
   "cell_type": "code",
   "execution_count": 40,
   "id": "992a48f7",
   "metadata": {},
   "outputs": [
    {
     "data": {
      "text/plain": [
       "4660"
      ]
     },
     "execution_count": 40,
     "metadata": {},
     "output_type": "execute_result"
    }
   ],
   "source": [
    "len(df_tr[df_tr.Tahun_Delivery == 1990])"
   ]
  },
  {
   "cell_type": "markdown",
   "id": "1cae59ac",
   "metadata": {},
   "source": [
    "#### Melihat data yang unique pada kolom days"
   ]
  },
  {
   "cell_type": "code",
   "execution_count": 41,
   "id": "eb91c986",
   "metadata": {},
   "outputs": [
    {
     "data": {
      "text/plain": [
       "<IntegerArray>\n",
       "[  2,  29,   1,   8,   7,   3,  15,   9,  18,  22,  14,   0,  12,  24,   4,\n",
       "  11,  28,  26,  13,  25,  10,  21,  20,  23,  16,  19,   5,  17,  -2,   6,\n",
       "  27,  -1,  30,  -3,  -4,  -5,  -6,  -8,  -7,  -9, -10, -11, -12, -13, -15,\n",
       " -14, -16, -17, -18, -19, -20, -22, -23, -21, -24, -25, -26, -27, -29, -28,\n",
       " -30]\n",
       "Length: 61, dtype: Int64"
      ]
     },
     "execution_count": 41,
     "metadata": {},
     "output_type": "execute_result"
    }
   ],
   "source": [
    "df_tr['days'].unique()"
   ]
  },
  {
   "cell_type": "markdown",
   "id": "e91cf0cb",
   "metadata": {},
   "source": [
    "#### Mengubah tanggal delivery yang lebih kecil dari tanggal order agar tidak minus"
   ]
  },
  {
   "cell_type": "code",
   "execution_count": 42,
   "id": "840f7440",
   "metadata": {},
   "outputs": [],
   "source": [
    "for i in range(len(df_tr)) :\n",
    "    if (df_tr['Tanggal_Delivery'][i] < df_tr['Tanggal_Order'][i]) :\n",
    "        df_tr['days'][i] = ((df_tr['Tanggal_Delivery'][i] + 30) - df_tr['Tanggal_Order'][i])\n",
    "    else :\n",
    "        df_tr['days'][i] = df_tr['Tanggal_Delivery'][i] - df_tr['Tanggal_Order'][i]\n",
    "df_tr['days'] = pd.to_numeric(df_tr['days'], errors = 'coerce').convert_dtypes()"
   ]
  },
  {
   "cell_type": "markdown",
   "id": "c7aaa059",
   "metadata": {},
   "source": [
    "#### Melihat data yang unique pada kolom tahun delivery"
   ]
  },
  {
   "cell_type": "code",
   "execution_count": 43,
   "id": "869d02ce",
   "metadata": {},
   "outputs": [
    {
     "data": {
      "text/plain": [
       "<IntegerArray>\n",
       "[2012, 1990, 2013]\n",
       "Length: 3, dtype: Int64"
      ]
     },
     "execution_count": 43,
     "metadata": {},
     "output_type": "execute_result"
    }
   ],
   "source": [
    "df_tr['Tahun_Delivery'].unique()"
   ]
  },
  {
   "cell_type": "markdown",
   "id": "03e06cfc",
   "metadata": {},
   "source": [
    "#### Mengganti nilai 1990 pada kolom tahun delivery menggunakan modus"
   ]
  },
  {
   "cell_type": "code",
   "execution_count": 44,
   "id": "a58477fc",
   "metadata": {},
   "outputs": [],
   "source": [
    "df_tr['Tahun_Delivery'] = df_tr['Tahun_Delivery'].replace(1990, df_tr['Tahun_Delivery'].mode()[0])"
   ]
  },
  {
   "cell_type": "markdown",
   "id": "4af9e852",
   "metadata": {},
   "source": [
    "#### Melihat nilai null "
   ]
  },
  {
   "cell_type": "code",
   "execution_count": 45,
   "id": "e6380d1a",
   "metadata": {},
   "outputs": [
    {
     "data": {
      "text/plain": [
       "orderItemID              0\n",
       "orderDate                0\n",
       "deliveryDate         39419\n",
       "itemID                   0\n",
       "size                     0\n",
       "color                    0\n",
       "manufacturerID           0\n",
       "price                    0\n",
       "customerID               0\n",
       "salutation               0\n",
       "Age                      0\n",
       "state                    0\n",
       "creationDate             0\n",
       "returnShipment           0\n",
       "Tanggal_Kelahiran        0\n",
       "Bulan_Order              0\n",
       "Bulan_Creation           0\n",
       "Bulan_Kelahiran          0\n",
       "Bulan_Delivery           0\n",
       "Tahun_Pembuatan          0\n",
       "Tahun_Order              0\n",
       "Tahun_Kelahiran          0\n",
       "Tahun_Delivery           0\n",
       "Tanggal_Delivery         0\n",
       "Tanggal_Order            0\n",
       "Tanggal_Creation         0\n",
       "days                     0\n",
       "dtype: int64"
      ]
     },
     "execution_count": 45,
     "metadata": {},
     "output_type": "execute_result"
    }
   ],
   "source": [
    "df_tr.isna().sum()"
   ]
  },
  {
   "cell_type": "markdown",
   "id": "e96b4595",
   "metadata": {},
   "source": [
    "#### Mencari persentasi pengembalian terhadap tiap wilayah"
   ]
  },
  {
   "cell_type": "code",
   "execution_count": 46,
   "id": "c2f9b2eb",
   "metadata": {},
   "outputs": [],
   "source": [
    "data1 = df_tr.loc[df_tr['state'] == \"North Rhine-Westphalia\", 'returnShipment'].value_counts()\n",
    "data2 = df_tr.loc[df_tr['state'] == \"Lower Saxony\", 'returnShipment'].value_counts()\n",
    "data3 = df_tr.loc[df_tr['state'] == \"Bavaria\", 'returnShipment'].value_counts()\n",
    "data4 = df_tr.loc[df_tr['state'] == \"Baden-Wuerttemberg\", 'returnShipment'].value_counts()\n",
    "data5 = df_tr.loc[df_tr['state'] == \"Hesse\", 'returnShipment'].value_counts()\n",
    "data6 = df_tr.loc[df_tr['state'] == \"Rhineland-Palatinate\", 'returnShipment'].value_counts()\n",
    "data7 = df_tr.loc[df_tr['state'] == \"Schleswig-Holstein\", 'returnShipment'].value_counts()\n",
    "data8 = df_tr.loc[df_tr['state'] == \"Berlin\", 'returnShipment'].value_counts()\n",
    "data9 = df_tr.loc[df_tr['state'] == \"Saxony\", 'returnShipment'].value_counts()\n",
    "data10 = df_tr.loc[df_tr['state'] == \"Hamburg\", 'returnShipment'].value_counts()\n",
    "data11 = df_tr.loc[df_tr['state'] == \"Brandenburg\", 'returnShipment'].value_counts()\n",
    "data12 = df_tr.loc[df_tr['state'] == \"Thuringia\", 'returnShipment'].value_counts()\n",
    "data13 = df_tr.loc[df_tr['state'] == \"Mecklenburg-Western Pomerania\", 'returnShipment'].value_counts()\n",
    "data14 = df_tr.loc[df_tr['state'] == \"Saxony-Anhalt\", 'returnShipment'].value_counts()\n",
    "data15 = df_tr.loc[df_tr['state'] == \"Bremen\", 'returnShipment'].value_counts()\n",
    "data16 = df_tr.loc[df_tr['state'] == \"Saarland\", 'returnShipment'].value_counts()\n",
    "\n",
    "persen1 = int(((data1[1] / (data1[0] + data1[1])) * 100))\n",
    "persen2 = int(((data2[1] / (data2[0] + data2[1])) * 100))\n",
    "persen3 = int(((data3[1] / (data3[0] + data3[1])) * 100))\n",
    "persen4 = int(((data4[1] / (data4[0] + data4[1])) * 100))\n",
    "persen5 = int(((data5[1] / (data5[0] + data5[1])) * 100))\n",
    "persen6 = int(((data6[1] / (data6[0] + data6[1])) * 100))\n",
    "persen7 = int(((data7[1] / (data7[0] + data7[1])) * 100))\n",
    "persen8 = int(((data8[1] / (data8[0] + data8[1])) * 100))\n",
    "persen9 = int(((data9[1] / (data9[0] + data9[1])) * 100))\n",
    "persen10 = int(((data10[1] / (data10[0] + data10[1])) * 100))\n",
    "persen11 = int(((data11[1] / (data11[0] + data11[1])) * 100))\n",
    "persen12 = int(((data12[1] / (data12[0] + data12[1])) * 100))\n",
    "persen13 = int(((data13[1] / (data13[0] + data13[1])) * 100))\n",
    "persen14 = int(((data14[1] / (data14[0] + data14[1])) * 100))\n",
    "persen15 = int(((data15[1] / (data15[0] + data15[1])) * 100))\n",
    "persen16 = int(((data16[1] / (data16[0] + data16[1])) * 100))\n",
    "\n",
    "df_tr['perc_state'] = df_tr['Tanggal_Order']\n",
    "for i in range(len(df_tr)) :\n",
    "    if (df_tr['state'][i] == \"North Rhine-Westphalia\") : \n",
    "        df_tr['perc_state'][i] = persen1\n",
    "    elif(df_tr['state'][i] == \"Lower Saxony\"):\n",
    "        df_tr['perc_state'][i] = persen2\n",
    "    elif(df_tr['state'][i] == \"Bavaria\"):\n",
    "        df_tr['perc_state'][i] = persen3\n",
    "    elif(df_tr['state'][i] == \"Baden-Wuerttemberg\"):\n",
    "        df_tr['perc_state'][i] = persen4\n",
    "    elif(df_tr['state'][i] == \"Hesse\"):\n",
    "        df_tr['perc_state'][i] = persen5\n",
    "    elif(df_tr['state'][i] == \"Rhineland-Palatinate\"):\n",
    "        df_tr['perc_state'][i] = persen6\n",
    "    elif(df_tr['state'][i] == \"Schleswig-Holstein\"):\n",
    "        df_tr['perc_state'][i] = persen7\n",
    "    elif(df_tr['state'][i] == \"Berlin\"):\n",
    "        df_tr['perc_state'][i] = persen8\n",
    "    elif(df_tr['state'][i] == \"Saxony\"):\n",
    "        df_tr['perc_state'][i] = persen9\n",
    "    elif(df_tr['state'][i] == \"Hamburg\"):\n",
    "        df_tr['perc_state'][i] = persen10\n",
    "    elif(df_tr['state'][i] == \"Brandenburg\"):\n",
    "        df_tr['perc_state'][i] = persen11\n",
    "    elif(df_tr['state'][i] == \"Thuringia\"):\n",
    "        df_tr['perc_state'][i] = persen12\n",
    "    elif(df_tr['state'][i] == \"Mecklenburg-Western Pomerania\"):\n",
    "        df_tr['perc_state'][i] = persen13\n",
    "    elif(df_tr['state'][i] == \"Saxony-Anhalt\"):\n",
    "        df_tr['perc_state'][i] = persen14\n",
    "    elif(df_tr['state'][i] == \"Bremen\"):\n",
    "        df_tr['perc_state'][i] = persen15\n",
    "    elif(df_tr['state'][i] == \"Saarland\"):\n",
    "        df_tr['perc_state'][i] = persen16"
   ]
  },
  {
   "cell_type": "code",
   "execution_count": 47,
   "id": "8e437010",
   "metadata": {
    "scrolled": true
   },
   "outputs": [
    {
     "data": {
      "text/html": [
       "<div>\n",
       "<style scoped>\n",
       "    .dataframe tbody tr th:only-of-type {\n",
       "        vertical-align: middle;\n",
       "    }\n",
       "\n",
       "    .dataframe tbody tr th {\n",
       "        vertical-align: top;\n",
       "    }\n",
       "\n",
       "    .dataframe thead th {\n",
       "        text-align: right;\n",
       "    }\n",
       "</style>\n",
       "<table border=\"1\" class=\"dataframe\">\n",
       "  <thead>\n",
       "    <tr style=\"text-align: right;\">\n",
       "      <th></th>\n",
       "      <th>orderItemID</th>\n",
       "      <th>orderDate</th>\n",
       "      <th>deliveryDate</th>\n",
       "      <th>itemID</th>\n",
       "      <th>size</th>\n",
       "      <th>color</th>\n",
       "      <th>manufacturerID</th>\n",
       "      <th>price</th>\n",
       "      <th>customerID</th>\n",
       "      <th>salutation</th>\n",
       "      <th>...</th>\n",
       "      <th>Bulan_Delivery</th>\n",
       "      <th>Tahun_Pembuatan</th>\n",
       "      <th>Tahun_Order</th>\n",
       "      <th>Tahun_Kelahiran</th>\n",
       "      <th>Tahun_Delivery</th>\n",
       "      <th>Tanggal_Delivery</th>\n",
       "      <th>Tanggal_Order</th>\n",
       "      <th>Tanggal_Creation</th>\n",
       "      <th>days</th>\n",
       "      <th>perc_state</th>\n",
       "    </tr>\n",
       "  </thead>\n",
       "  <tbody>\n",
       "    <tr>\n",
       "      <th>0</th>\n",
       "      <td>1</td>\n",
       "      <td>2012-04-01</td>\n",
       "      <td>2012-04-03</td>\n",
       "      <td>186</td>\n",
       "      <td>M</td>\n",
       "      <td>blue</td>\n",
       "      <td>25</td>\n",
       "      <td>69.90</td>\n",
       "      <td>794</td>\n",
       "      <td>Mrs</td>\n",
       "      <td>...</td>\n",
       "      <td>4</td>\n",
       "      <td>2011</td>\n",
       "      <td>2012</td>\n",
       "      <td>1965</td>\n",
       "      <td>2012</td>\n",
       "      <td>3</td>\n",
       "      <td>1</td>\n",
       "      <td>25</td>\n",
       "      <td>2</td>\n",
       "      <td>48</td>\n",
       "    </tr>\n",
       "    <tr>\n",
       "      <th>1</th>\n",
       "      <td>2</td>\n",
       "      <td>2012-04-01</td>\n",
       "      <td>2012-04-03</td>\n",
       "      <td>71</td>\n",
       "      <td>M</td>\n",
       "      <td>orange</td>\n",
       "      <td>21</td>\n",
       "      <td>69.95</td>\n",
       "      <td>794</td>\n",
       "      <td>Mrs</td>\n",
       "      <td>...</td>\n",
       "      <td>4</td>\n",
       "      <td>2011</td>\n",
       "      <td>2012</td>\n",
       "      <td>1965</td>\n",
       "      <td>2012</td>\n",
       "      <td>3</td>\n",
       "      <td>1</td>\n",
       "      <td>25</td>\n",
       "      <td>2</td>\n",
       "      <td>48</td>\n",
       "    </tr>\n",
       "    <tr>\n",
       "      <th>2</th>\n",
       "      <td>3</td>\n",
       "      <td>2012-04-01</td>\n",
       "      <td>2012-04-03</td>\n",
       "      <td>71</td>\n",
       "      <td>M</td>\n",
       "      <td>yellow</td>\n",
       "      <td>21</td>\n",
       "      <td>69.95</td>\n",
       "      <td>794</td>\n",
       "      <td>Mrs</td>\n",
       "      <td>...</td>\n",
       "      <td>4</td>\n",
       "      <td>2011</td>\n",
       "      <td>2012</td>\n",
       "      <td>1965</td>\n",
       "      <td>2012</td>\n",
       "      <td>3</td>\n",
       "      <td>1</td>\n",
       "      <td>25</td>\n",
       "      <td>2</td>\n",
       "      <td>48</td>\n",
       "    </tr>\n",
       "    <tr>\n",
       "      <th>3</th>\n",
       "      <td>4</td>\n",
       "      <td>2012-04-02</td>\n",
       "      <td>NaT</td>\n",
       "      <td>22</td>\n",
       "      <td>M</td>\n",
       "      <td>green</td>\n",
       "      <td>14</td>\n",
       "      <td>39.90</td>\n",
       "      <td>808</td>\n",
       "      <td>Mrs</td>\n",
       "      <td>...</td>\n",
       "      <td>1</td>\n",
       "      <td>2012</td>\n",
       "      <td>2012</td>\n",
       "      <td>1959</td>\n",
       "      <td>2012</td>\n",
       "      <td>16</td>\n",
       "      <td>2</td>\n",
       "      <td>4</td>\n",
       "      <td>14</td>\n",
       "      <td>50</td>\n",
       "    </tr>\n",
       "    <tr>\n",
       "      <th>4</th>\n",
       "      <td>5</td>\n",
       "      <td>2012-04-02</td>\n",
       "      <td>1990-12-31</td>\n",
       "      <td>151</td>\n",
       "      <td>L</td>\n",
       "      <td>black</td>\n",
       "      <td>53</td>\n",
       "      <td>29.90</td>\n",
       "      <td>825</td>\n",
       "      <td>Mrs</td>\n",
       "      <td>...</td>\n",
       "      <td>12</td>\n",
       "      <td>2011</td>\n",
       "      <td>2012</td>\n",
       "      <td>1964</td>\n",
       "      <td>2012</td>\n",
       "      <td>31</td>\n",
       "      <td>2</td>\n",
       "      <td>16</td>\n",
       "      <td>29</td>\n",
       "      <td>48</td>\n",
       "    </tr>\n",
       "  </tbody>\n",
       "</table>\n",
       "<p>5 rows × 28 columns</p>\n",
       "</div>"
      ],
      "text/plain": [
       "   orderItemID  orderDate deliveryDate  itemID size   color  manufacturerID  \\\n",
       "0            1 2012-04-01   2012-04-03     186    M    blue              25   \n",
       "1            2 2012-04-01   2012-04-03      71    M  orange              21   \n",
       "2            3 2012-04-01   2012-04-03      71    M  yellow              21   \n",
       "3            4 2012-04-02          NaT      22    M   green              14   \n",
       "4            5 2012-04-02   1990-12-31     151    L   black              53   \n",
       "\n",
       "   price  customerID salutation  ...  Bulan_Delivery Tahun_Pembuatan  \\\n",
       "0  69.90         794        Mrs  ...               4            2011   \n",
       "1  69.95         794        Mrs  ...               4            2011   \n",
       "2  69.95         794        Mrs  ...               4            2011   \n",
       "3  39.90         808        Mrs  ...               1            2012   \n",
       "4  29.90         825        Mrs  ...              12            2011   \n",
       "\n",
       "  Tahun_Order  Tahun_Kelahiran  Tahun_Delivery  Tanggal_Delivery  \\\n",
       "0        2012             1965            2012                 3   \n",
       "1        2012             1965            2012                 3   \n",
       "2        2012             1965            2012                 3   \n",
       "3        2012             1959            2012                16   \n",
       "4        2012             1964            2012                31   \n",
       "\n",
       "   Tanggal_Order  Tanggal_Creation  days  perc_state  \n",
       "0              1                25     2          48  \n",
       "1              1                25     2          48  \n",
       "2              1                25     2          48  \n",
       "3              2                 4    14          50  \n",
       "4              2                16    29          48  \n",
       "\n",
       "[5 rows x 28 columns]"
      ]
     },
     "execution_count": 47,
     "metadata": {},
     "output_type": "execute_result"
    }
   ],
   "source": [
    "df.head(5)"
   ]
  },
  {
   "cell_type": "markdown",
   "id": "47e1caf3",
   "metadata": {},
   "source": [
    "#### Mencari persentasi warna terhadap tiap wilayah"
   ]
  },
  {
   "cell_type": "code",
   "execution_count": 48,
   "id": "9bdd85d1",
   "metadata": {},
   "outputs": [],
   "source": [
    "datas1 = df_tr.loc[df_tr['state'] == \"North Rhine-Westphalia\", 'color'].value_counts()\n",
    "datas2 = df_tr.loc[df_tr['state'] == \"Lower Saxony\", 'color'].value_counts()\n",
    "datas3 = df_tr.loc[df_tr['state'] == \"Bavaria\", 'color'].value_counts()\n",
    "datas4 = df_tr.loc[df_tr['state'] == \"Baden-Wuerttemberg\", 'color'].value_counts()\n",
    "datas5 = df_tr.loc[df_tr['state'] == \"Hesse\", 'color'].value_counts()\n",
    "datas6 = df_tr.loc[df_tr['state'] == \"Rhineland-Palatinate\", 'color'].value_counts()\n",
    "datas7 = df_tr.loc[df_tr['state'] == \"Schleswig-Holstein\", 'color'].value_counts()\n",
    "datas8 = df_tr.loc[df_tr['state'] == \"Berlin\", 'color'].value_counts()\n",
    "datas9 = df_tr.loc[df_tr['state'] == \"Saxony\", 'color'].value_counts()\n",
    "datas10 = df_tr.loc[df_tr['state'] == \"Hamburg\", 'color'].value_counts()\n",
    "datas11 = df_tr.loc[df_tr['state'] == \"Brandenburg\", 'color'].value_counts()\n",
    "datas12 = df_tr.loc[df_tr['state'] == \"Thuringia\", 'color'].value_counts()\n",
    "datas13 = df_tr.loc[df_tr['state'] == \"Mecklenburg-Western Pomerania\", 'color'].value_counts()\n",
    "datas14 = df_tr.loc[df_tr['state'] == \"Saxony-Anhalt\", 'color'].value_counts()\n",
    "datas15 = df_tr.loc[df_tr['state'] == \"Bremen\", 'color'].value_counts()\n",
    "datas16 = df_tr.loc[df_tr['state'] == \"Saarland\", 'color'].value_counts()\n",
    "\n",
    "persen_cs1 = int(((datas1[0] / (datas1.sum())) * 100))\n",
    "persen_cs2 = int(((datas2[0] / (datas2.sum())) * 100))\n",
    "persen_cs3 = int(((datas3[0] / (datas3.sum())) * 100))\n",
    "persen_cs4 = int(((datas4[0] / (datas4.sum())) * 100))\n",
    "persen_cs5 = int(((datas5[0] / (datas5.sum())) * 100))\n",
    "persen_cs6 = int(((datas6[0] / (datas6.sum())) * 100))\n",
    "persen_cs7 = int(((datas7[0] / (datas7.sum())) * 100))\n",
    "persen_cs8 = int(((datas8[0] / (datas8.sum())) * 100))\n",
    "persen_cs9 = int(((datas9[0] / (datas9.sum())) * 100))\n",
    "persen_cs10 = int(((datas10[0] / (datas10.sum())) * 100))\n",
    "persen_cs11 = int(((datas11[0] / (datas11.sum())) * 100))\n",
    "persen_cs12 = int(((datas12[0] / (datas12.sum())) * 100))\n",
    "persen_cs13 = int(((datas13[0] / (datas13.sum())) * 100))\n",
    "persen_cs14 = int(((datas14[0] / (datas14.sum())) * 100))\n",
    "persen_cs15 = int(((datas15[0] / (datas15.sum())) * 100))\n",
    "persen_cs16 = int(((datas16[0] / (datas16.sum())) * 100))\n",
    "\n",
    "df_tr['perc_cs'] = df_tr['Tanggal_Order']\n",
    "for i in range(len(df_tr)) :\n",
    "    if (df_tr['state'][i] == \"North Rhine-Westphalia\") : \n",
    "        df_tr['perc_cs'][i] = persen_cs1\n",
    "    elif(df_tr['state'][i] == \"Lower Saxony\"):\n",
    "        df_tr['perc_cs'][i] = persen_cs2\n",
    "    elif(df_tr['state'][i] == \"Bavaria\"):\n",
    "        df_tr['perc_cs'][i] = persen_cs3\n",
    "    elif(df_tr['state'][i] == \"Baden-Wuerttemberg\"):\n",
    "        df_tr['perc_cs'][i] = persen_cs4\n",
    "    elif(df_tr['state'][i] == \"Hesse\"):\n",
    "        df_tr['perc_cs'][i] = persen_cs5\n",
    "    elif(df_tr['state'][i] == \"Rhineland-Palatinate\"):\n",
    "        df_tr['perc_cs'][i] = persen_cs6\n",
    "    elif(df_tr['state'][i] == \"Schleswig-Holstein\"):\n",
    "        df_tr['perc_cs'][i] = persen_cs7\n",
    "    elif(df_tr['state'][i] == \"Berlin\"):\n",
    "        df_tr['perc_cs'][i] = persen_cs8\n",
    "    elif(df_tr['state'][i] == \"Saxony\"):\n",
    "        df_tr['perc_cs'][i] = persen_cs9\n",
    "    elif(df_tr['state'][i] == \"Hamburg\"):\n",
    "        df_tr['perc_cs'][i] = persen_cs10\n",
    "    elif(df_tr['state'][i] == \"Brandenburg\"):\n",
    "        df_tr['perc_cs'][i] = persen_cs11\n",
    "    elif(df_tr['state'][i] == \"Thuringia\"):\n",
    "        df_tr['perc_cs'][i] = persen_cs12\n",
    "    elif(df_tr['state'][i] == \"Mecklenburg-Western Pomerania\"):\n",
    "        df_tr['perc_cs'][i] = persen_cs13\n",
    "    elif(df_tr['state'][i] == \"Saxony-Anhalt\"):\n",
    "        df_tr['perc_cs'][i] = persen_cs14\n",
    "    elif(df_tr['state'][i] == \"Bremen\"):\n",
    "        df_tr['perc_cs'][i] = persen_cs15\n",
    "    elif(df_tr['state'][i] == \"Saarland\"):\n",
    "        df_tr['perc_cs'][i] = persen_cs16\n",
    "df_tr['perc_cs'] = pd.to_numeric(df_tr['perc_cs'], errors = 'coerce').convert_dtypes()"
   ]
  },
  {
   "cell_type": "markdown",
   "id": "3253c1e4",
   "metadata": {},
   "source": [
    "#### Mencari persentasi size tiap wilayah"
   ]
  },
  {
   "cell_type": "code",
   "execution_count": 49,
   "id": "7d9ce1d7",
   "metadata": {},
   "outputs": [],
   "source": [
    "# Size State\n",
    "datas1 = df_tr.loc[df_tr['state'] == \"North Rhine-Westphalia\", 'size'].value_counts()\n",
    "datas2 = df_tr.loc[df_tr['state'] == \"Lower Saxony\", 'size'].value_counts()\n",
    "datas3 = df_tr.loc[df_tr['state'] == \"Bavaria\", 'size'].value_counts()\n",
    "datas4 = df_tr.loc[df_tr['state'] == \"Baden-Wuerttemberg\", 'size'].value_counts()\n",
    "datas5 = df_tr.loc[df_tr['state'] == \"Hesse\", 'size'].value_counts()\n",
    "datas6 = df_tr.loc[df_tr['state'] == \"Rhineland-Palatinate\", 'size'].value_counts()\n",
    "datas7 = df_tr.loc[df_tr['state'] == \"Schleswig-Holstein\", 'size'].value_counts()\n",
    "datas8 = df_tr.loc[df_tr['state'] == \"Berlin\", 'size'].value_counts()\n",
    "datas9 = df_tr.loc[df_tr['state'] == \"Saxony\", 'size'].value_counts()\n",
    "datas10 = df_tr.loc[df_tr['state'] == \"Hamburg\", 'size'].value_counts()\n",
    "datas11 = df_tr.loc[df_tr['state'] == \"Brandenburg\", 'size'].value_counts()\n",
    "datas12 = df_tr.loc[df_tr['state'] == \"Thuringia\", 'size'].value_counts()\n",
    "datas13 = df_tr.loc[df_tr['state'] == \"Mecklenburg-Western Pomerania\", 'size'].value_counts()\n",
    "datas14 = df_tr.loc[df_tr['state'] == \"Saxony-Anhalt\", 'size'].value_counts()\n",
    "datas15 = df_tr.loc[df_tr['state'] == \"Bremen\", 'size'].value_counts()\n",
    "\n",
    "persen_cs1 = int(((datas1[0] / (datas1.sum())) * 100))\n",
    "persen_cs2 = int(((datas2[0] / (datas2.sum())) * 100))\n",
    "persen_cs3 = int(((datas3[0] / (datas3.sum())) * 100))\n",
    "persen_cs4 = int(((datas4[0] / (datas4.sum())) * 100))\n",
    "persen_cs5 = int(((datas5[0] / (datas5.sum())) * 100))\n",
    "persen_cs6 = int(((datas6[0] / (datas6.sum())) * 100))\n",
    "persen_cs7 = int(((datas7[0] / (datas7.sum())) * 100))\n",
    "persen_cs8 = int(((datas8[0] / (datas8.sum())) * 100))\n",
    "persen_cs9 = int(((datas9[0] / (datas9.sum())) * 100))\n",
    "persen_cs10 = int(((datas10[0] / (datas10.sum())) * 100))\n",
    "persen_cs11 = int(((datas11[0] / (datas11.sum())) * 100))\n",
    "persen_cs12 = int(((datas12[0] / (datas12.sum())) * 100))\n",
    "persen_cs13 = int(((datas13[0] / (datas13.sum())) * 100))\n",
    "persen_cs14 = int(((datas14[0] / (datas14.sum())) * 100))\n",
    "persen_cs15 = int(((datas15[0] / (datas15.sum())) * 100))\n",
    "persen_cs16 = int(((datas16[0] / (datas16.sum())) * 100))\n",
    "\n",
    "df_tr['perc_sizsta'] = df_tr['Tanggal_Order']\n",
    "for i in range(len(df_tr)) :\n",
    "    if (df_tr['state'][i] == \"North Rhine-Westphalia\") : \n",
    "        df_tr['perc_sizsta'][i] = persen_cs1\n",
    "    elif(df_tr['state'][i] == \"Lower Saxony\"):\n",
    "        df_tr['perc_sizsta'][i] = persen_cs2\n",
    "    elif(df_tr['state'][i] == \"Bavaria\"):\n",
    "        df_tr['perc_sizsta'][i] = persen_cs3\n",
    "    elif(df_tr['state'][i] == \"Baden-Wuerttemberg\"):\n",
    "        df_tr['perc_sizsta'][i] = persen_cs4\n",
    "    elif(df_tr['state'][i] == \"Hesse\"):\n",
    "        df_tr['perc_sizsta'][i] = persen_cs5\n",
    "    elif(df_tr['state'][i] == \"Rhineland-Palatinate\"):\n",
    "        df_tr['perc_sizsta'][i] = persen_cs6\n",
    "    elif(df_tr['state'][i] == \"Schleswig-Holstein\"):\n",
    "        df_tr['perc_sizsta'][i] = persen_cs7\n",
    "    elif(df_tr['state'][i] == \"Berlin\"):\n",
    "        df_tr['perc_sizsta'][i] = persen_cs8\n",
    "    elif(df_tr['state'][i] == \"Saxony\"):\n",
    "        df_tr['perc_sizsta'][i] = persen_cs9\n",
    "    elif(df_tr['state'][i] == \"Hamburg\"):\n",
    "        df_tr['perc_sizsta'][i] = persen_cs10\n",
    "    elif(df_tr['state'][i] == \"Brandenburg\"):\n",
    "        df_tr['perc_sizsta'][i] = persen_cs11\n",
    "    elif(df_tr['state'][i] == \"Thuringia\"):\n",
    "        df_tr['perc_sizsta'][i] = persen_cs12\n",
    "    elif(df_tr['state'][i] == \"Mecklenburg-Western Pomerania\"):\n",
    "        df_tr['perc_sizsta'][i] = persen_cs13\n",
    "    elif(df_tr['state'][i] == \"Saxony-Anhalt\"):\n",
    "        df_tr['perc_sizsta'][i] = persen_cs14\n",
    "    elif(df_tr['state'][i] == \"Bremen\"):\n",
    "        df_tr['perc_sizsta'][i] = persen_cs15\n",
    "    elif(df_tr['state'][i] == \"Saarland\"):\n",
    "        df_tr['perc_sizsta'][i] = persen_cs16\n"
   ]
  },
  {
   "cell_type": "markdown",
   "id": "69ea1986",
   "metadata": {},
   "source": [
    "#### Melihat data persentase size "
   ]
  },
  {
   "cell_type": "code",
   "execution_count": 50,
   "id": "96195663",
   "metadata": {
    "scrolled": false
   },
   "outputs": [
    {
     "data": {
      "text/html": [
       "<div>\n",
       "<style scoped>\n",
       "    .dataframe tbody tr th:only-of-type {\n",
       "        vertical-align: middle;\n",
       "    }\n",
       "\n",
       "    .dataframe tbody tr th {\n",
       "        vertical-align: top;\n",
       "    }\n",
       "\n",
       "    .dataframe thead th {\n",
       "        text-align: right;\n",
       "    }\n",
       "</style>\n",
       "<table border=\"1\" class=\"dataframe\">\n",
       "  <thead>\n",
       "    <tr style=\"text-align: right;\">\n",
       "      <th></th>\n",
       "      <th>state</th>\n",
       "      <th>perc_sizsta</th>\n",
       "    </tr>\n",
       "  </thead>\n",
       "  <tbody>\n",
       "    <tr>\n",
       "      <th>0</th>\n",
       "      <td>Baden-Wuerttemberg</td>\n",
       "      <td>36</td>\n",
       "    </tr>\n",
       "    <tr>\n",
       "      <th>1</th>\n",
       "      <td>Baden-Wuerttemberg</td>\n",
       "      <td>36</td>\n",
       "    </tr>\n",
       "    <tr>\n",
       "      <th>2</th>\n",
       "      <td>Baden-Wuerttemberg</td>\n",
       "      <td>36</td>\n",
       "    </tr>\n",
       "    <tr>\n",
       "      <th>3</th>\n",
       "      <td>Saxony</td>\n",
       "      <td>34</td>\n",
       "    </tr>\n",
       "    <tr>\n",
       "      <th>4</th>\n",
       "      <td>Rhineland-Palatinate</td>\n",
       "      <td>36</td>\n",
       "    </tr>\n",
       "    <tr>\n",
       "      <th>...</th>\n",
       "      <td>...</td>\n",
       "      <td>...</td>\n",
       "    </tr>\n",
       "    <tr>\n",
       "      <th>481087</th>\n",
       "      <td>Lower Saxony</td>\n",
       "      <td>36</td>\n",
       "    </tr>\n",
       "    <tr>\n",
       "      <th>481088</th>\n",
       "      <td>Berlin</td>\n",
       "      <td>34</td>\n",
       "    </tr>\n",
       "    <tr>\n",
       "      <th>481089</th>\n",
       "      <td>Berlin</td>\n",
       "      <td>34</td>\n",
       "    </tr>\n",
       "    <tr>\n",
       "      <th>481090</th>\n",
       "      <td>Berlin</td>\n",
       "      <td>34</td>\n",
       "    </tr>\n",
       "    <tr>\n",
       "      <th>481091</th>\n",
       "      <td>Berlin</td>\n",
       "      <td>34</td>\n",
       "    </tr>\n",
       "  </tbody>\n",
       "</table>\n",
       "<p>481092 rows × 2 columns</p>\n",
       "</div>"
      ],
      "text/plain": [
       "                       state  perc_sizsta\n",
       "0         Baden-Wuerttemberg           36\n",
       "1         Baden-Wuerttemberg           36\n",
       "2         Baden-Wuerttemberg           36\n",
       "3                     Saxony           34\n",
       "4       Rhineland-Palatinate           36\n",
       "...                      ...          ...\n",
       "481087          Lower Saxony           36\n",
       "481088                Berlin           34\n",
       "481089                Berlin           34\n",
       "481090                Berlin           34\n",
       "481091                Berlin           34\n",
       "\n",
       "[481092 rows x 2 columns]"
      ]
     },
     "execution_count": 50,
     "metadata": {},
     "output_type": "execute_result"
    }
   ],
   "source": [
    "df_tr[[\"state\", \"perc_sizsta\"]]"
   ]
  },
  {
   "cell_type": "markdown",
   "id": "0773a790",
   "metadata": {},
   "source": [
    "#### Melihat data yang unque pada kolom persen size"
   ]
  },
  {
   "cell_type": "code",
   "execution_count": 51,
   "id": "bdc0acc7",
   "metadata": {
    "scrolled": false
   },
   "outputs": [
    {
     "data": {
      "text/plain": [
       "<IntegerArray>\n",
       "[36, 34, 35, 37, 19]\n",
       "Length: 5, dtype: Int64"
      ]
     },
     "execution_count": 51,
     "metadata": {},
     "output_type": "execute_result"
    }
   ],
   "source": [
    "df_tr['perc_sizsta'].unique()"
   ]
  },
  {
   "cell_type": "markdown",
   "id": "5c73875f",
   "metadata": {},
   "source": [
    "#### Melihat data yang unique pada kolom salutation"
   ]
  },
  {
   "cell_type": "code",
   "execution_count": 52,
   "id": "60b1c083",
   "metadata": {
    "scrolled": true
   },
   "outputs": [
    {
     "data": {
      "text/plain": [
       "['Mrs', 'Mr', 'Family', 'not reported', 'Company']\n",
       "Categories (5, object): ['Company', 'Family', 'Mr', 'Mrs', 'not reported']"
      ]
     },
     "execution_count": 52,
     "metadata": {},
     "output_type": "execute_result"
    }
   ],
   "source": [
    "df_tr['salutation'].unique()"
   ]
  },
  {
   "cell_type": "markdown",
   "id": "15c80b46",
   "metadata": {},
   "source": [
    "#### Mencari persentase size tiap salutation"
   ]
  },
  {
   "cell_type": "code",
   "execution_count": 53,
   "id": "95944741",
   "metadata": {},
   "outputs": [],
   "source": [
    "datasizage1 = df_tr.loc[df_tr['salutation'] == \"Mrs\", 'size'].value_counts()\n",
    "datasizage2 = df_tr.loc[df_tr['salutation'] == \"Mr\", 'size'].value_counts()\n",
    "datasizage3 = df_tr.loc[df_tr['salutation'] == \"Family\", 'size'].value_counts()\n",
    "datasizage4 = df_tr.loc[df_tr['salutation'] == \"Company\", 'size'].value_counts()\n",
    "datasizage5 = df_tr.loc[df_tr['salutation'] == \"not reported\", 'size'].value_counts()\n",
    "\n",
    "persen_salsiz1 = int(((datasizage1[0] / (datasizage1.sum())) * 100))\n",
    "persen_salsiz2 = int(((datasizage2[0] / (datasizage2.sum())) * 100))\n",
    "persen_salsiz3 = int(((datasizage3[0] / (datasizage3.sum())) * 100))\n",
    "persen_salsiz4 = int(((datasizage4[0] / (datasizage4.sum())) * 100))\n",
    "persen_salsiz5 = int(((datasizage5[0] / (datasizage5.sum())) * 100))\n",
    "\n",
    "df_tr['perc_salsize'] = df_tr['Tanggal_Order']\n",
    "for i in range(len(df_tr)) :\n",
    "    if (df_tr['salutation'][i] == \"Mrs\") : \n",
    "        df_tr['perc_salsize'][i] = persen_salsiz1\n",
    "    elif(df_tr['salutation'][i] == \"Mr\"):\n",
    "        df_tr['perc_salsize'][i] = persen_salsiz2\n",
    "    elif(df_tr['salutation'][i] == \"Family\"):\n",
    "        df_tr['perc_salsize'][i] = persen_salsiz3\n",
    "    elif(df_tr['salutation'][i] == \"Company\"):\n",
    "        df_tr['perc_salsize'][i] = persen_salsiz4\n",
    "    elif(df_tr['salutation'][i] == \"not reported\"):\n",
    "        df_tr['perc_salsize'][i] = persen_salsiz5"
   ]
  },
  {
   "cell_type": "markdown",
   "id": "8961346b",
   "metadata": {},
   "source": [
    "#### Melihat data persentase size tiap salutation"
   ]
  },
  {
   "cell_type": "code",
   "execution_count": 54,
   "id": "f4e19570",
   "metadata": {
    "scrolled": false
   },
   "outputs": [
    {
     "data": {
      "text/html": [
       "<div>\n",
       "<style scoped>\n",
       "    .dataframe tbody tr th:only-of-type {\n",
       "        vertical-align: middle;\n",
       "    }\n",
       "\n",
       "    .dataframe tbody tr th {\n",
       "        vertical-align: top;\n",
       "    }\n",
       "\n",
       "    .dataframe thead th {\n",
       "        text-align: right;\n",
       "    }\n",
       "</style>\n",
       "<table border=\"1\" class=\"dataframe\">\n",
       "  <thead>\n",
       "    <tr style=\"text-align: right;\">\n",
       "      <th></th>\n",
       "      <th>salutation</th>\n",
       "      <th>perc_salsize</th>\n",
       "    </tr>\n",
       "  </thead>\n",
       "  <tbody>\n",
       "    <tr>\n",
       "      <th>0</th>\n",
       "      <td>Mrs</td>\n",
       "      <td>36</td>\n",
       "    </tr>\n",
       "    <tr>\n",
       "      <th>1</th>\n",
       "      <td>Mrs</td>\n",
       "      <td>36</td>\n",
       "    </tr>\n",
       "    <tr>\n",
       "      <th>2</th>\n",
       "      <td>Mrs</td>\n",
       "      <td>36</td>\n",
       "    </tr>\n",
       "    <tr>\n",
       "      <th>3</th>\n",
       "      <td>Mrs</td>\n",
       "      <td>36</td>\n",
       "    </tr>\n",
       "    <tr>\n",
       "      <th>4</th>\n",
       "      <td>Mrs</td>\n",
       "      <td>36</td>\n",
       "    </tr>\n",
       "    <tr>\n",
       "      <th>...</th>\n",
       "      <td>...</td>\n",
       "      <td>...</td>\n",
       "    </tr>\n",
       "    <tr>\n",
       "      <th>481087</th>\n",
       "      <td>Mr</td>\n",
       "      <td>32</td>\n",
       "    </tr>\n",
       "    <tr>\n",
       "      <th>481088</th>\n",
       "      <td>Mrs</td>\n",
       "      <td>36</td>\n",
       "    </tr>\n",
       "    <tr>\n",
       "      <th>481089</th>\n",
       "      <td>Mr</td>\n",
       "      <td>32</td>\n",
       "    </tr>\n",
       "    <tr>\n",
       "      <th>481090</th>\n",
       "      <td>Mr</td>\n",
       "      <td>32</td>\n",
       "    </tr>\n",
       "    <tr>\n",
       "      <th>481091</th>\n",
       "      <td>Mr</td>\n",
       "      <td>32</td>\n",
       "    </tr>\n",
       "  </tbody>\n",
       "</table>\n",
       "<p>481092 rows × 2 columns</p>\n",
       "</div>"
      ],
      "text/plain": [
       "       salutation  perc_salsize\n",
       "0             Mrs            36\n",
       "1             Mrs            36\n",
       "2             Mrs            36\n",
       "3             Mrs            36\n",
       "4             Mrs            36\n",
       "...           ...           ...\n",
       "481087         Mr            32\n",
       "481088        Mrs            36\n",
       "481089         Mr            32\n",
       "481090         Mr            32\n",
       "481091         Mr            32\n",
       "\n",
       "[481092 rows x 2 columns]"
      ]
     },
     "execution_count": 54,
     "metadata": {},
     "output_type": "execute_result"
    }
   ],
   "source": [
    "df_tr[[\"salutation\", \"perc_salsize\"]]"
   ]
  },
  {
   "cell_type": "markdown",
   "id": "32e48290",
   "metadata": {},
   "source": [
    "#### Melihat data yang unique di kolom persen salutation"
   ]
  },
  {
   "cell_type": "code",
   "execution_count": 55,
   "id": "d5c8a525",
   "metadata": {
    "scrolled": true
   },
   "outputs": [
    {
     "data": {
      "text/plain": [
       "<IntegerArray>\n",
       "[36, 32, 39, 38]\n",
       "Length: 4, dtype: Int64"
      ]
     },
     "execution_count": 55,
     "metadata": {},
     "output_type": "execute_result"
    }
   ],
   "source": [
    "df_tr['perc_salsize'].unique()"
   ]
  },
  {
   "cell_type": "markdown",
   "id": "854fb404",
   "metadata": {},
   "source": [
    "#### Melihat 5 data teratas "
   ]
  },
  {
   "cell_type": "code",
   "execution_count": 56,
   "id": "bf1c7aa6",
   "metadata": {
    "scrolled": false
   },
   "outputs": [
    {
     "data": {
      "text/html": [
       "<div>\n",
       "<style scoped>\n",
       "    .dataframe tbody tr th:only-of-type {\n",
       "        vertical-align: middle;\n",
       "    }\n",
       "\n",
       "    .dataframe tbody tr th {\n",
       "        vertical-align: top;\n",
       "    }\n",
       "\n",
       "    .dataframe thead th {\n",
       "        text-align: right;\n",
       "    }\n",
       "</style>\n",
       "<table border=\"1\" class=\"dataframe\">\n",
       "  <thead>\n",
       "    <tr style=\"text-align: right;\">\n",
       "      <th></th>\n",
       "      <th>orderItemID</th>\n",
       "      <th>orderDate</th>\n",
       "      <th>deliveryDate</th>\n",
       "      <th>itemID</th>\n",
       "      <th>size</th>\n",
       "      <th>color</th>\n",
       "      <th>manufacturerID</th>\n",
       "      <th>price</th>\n",
       "      <th>customerID</th>\n",
       "      <th>salutation</th>\n",
       "      <th>...</th>\n",
       "      <th>Tahun_Kelahiran</th>\n",
       "      <th>Tahun_Delivery</th>\n",
       "      <th>Tanggal_Delivery</th>\n",
       "      <th>Tanggal_Order</th>\n",
       "      <th>Tanggal_Creation</th>\n",
       "      <th>days</th>\n",
       "      <th>perc_state</th>\n",
       "      <th>perc_cs</th>\n",
       "      <th>perc_sizsta</th>\n",
       "      <th>perc_salsize</th>\n",
       "    </tr>\n",
       "  </thead>\n",
       "  <tbody>\n",
       "    <tr>\n",
       "      <th>0</th>\n",
       "      <td>1</td>\n",
       "      <td>2012-04-01</td>\n",
       "      <td>2012-04-03</td>\n",
       "      <td>186</td>\n",
       "      <td>M</td>\n",
       "      <td>blue</td>\n",
       "      <td>25</td>\n",
       "      <td>69.90</td>\n",
       "      <td>794</td>\n",
       "      <td>Mrs</td>\n",
       "      <td>...</td>\n",
       "      <td>1965</td>\n",
       "      <td>2012</td>\n",
       "      <td>3</td>\n",
       "      <td>1</td>\n",
       "      <td>25</td>\n",
       "      <td>2</td>\n",
       "      <td>48</td>\n",
       "      <td>18</td>\n",
       "      <td>36</td>\n",
       "      <td>36</td>\n",
       "    </tr>\n",
       "    <tr>\n",
       "      <th>1</th>\n",
       "      <td>2</td>\n",
       "      <td>2012-04-01</td>\n",
       "      <td>2012-04-03</td>\n",
       "      <td>71</td>\n",
       "      <td>M</td>\n",
       "      <td>orange</td>\n",
       "      <td>21</td>\n",
       "      <td>69.95</td>\n",
       "      <td>794</td>\n",
       "      <td>Mrs</td>\n",
       "      <td>...</td>\n",
       "      <td>1965</td>\n",
       "      <td>2012</td>\n",
       "      <td>3</td>\n",
       "      <td>1</td>\n",
       "      <td>25</td>\n",
       "      <td>2</td>\n",
       "      <td>48</td>\n",
       "      <td>18</td>\n",
       "      <td>36</td>\n",
       "      <td>36</td>\n",
       "    </tr>\n",
       "    <tr>\n",
       "      <th>2</th>\n",
       "      <td>3</td>\n",
       "      <td>2012-04-01</td>\n",
       "      <td>2012-04-03</td>\n",
       "      <td>71</td>\n",
       "      <td>M</td>\n",
       "      <td>yellow</td>\n",
       "      <td>21</td>\n",
       "      <td>69.95</td>\n",
       "      <td>794</td>\n",
       "      <td>Mrs</td>\n",
       "      <td>...</td>\n",
       "      <td>1965</td>\n",
       "      <td>2012</td>\n",
       "      <td>3</td>\n",
       "      <td>1</td>\n",
       "      <td>25</td>\n",
       "      <td>2</td>\n",
       "      <td>48</td>\n",
       "      <td>18</td>\n",
       "      <td>36</td>\n",
       "      <td>36</td>\n",
       "    </tr>\n",
       "    <tr>\n",
       "      <th>3</th>\n",
       "      <td>4</td>\n",
       "      <td>2012-04-02</td>\n",
       "      <td>NaT</td>\n",
       "      <td>22</td>\n",
       "      <td>M</td>\n",
       "      <td>green</td>\n",
       "      <td>14</td>\n",
       "      <td>39.90</td>\n",
       "      <td>808</td>\n",
       "      <td>Mrs</td>\n",
       "      <td>...</td>\n",
       "      <td>1959</td>\n",
       "      <td>2012</td>\n",
       "      <td>16</td>\n",
       "      <td>2</td>\n",
       "      <td>4</td>\n",
       "      <td>14</td>\n",
       "      <td>50</td>\n",
       "      <td>17</td>\n",
       "      <td>34</td>\n",
       "      <td>36</td>\n",
       "    </tr>\n",
       "    <tr>\n",
       "      <th>4</th>\n",
       "      <td>5</td>\n",
       "      <td>2012-04-02</td>\n",
       "      <td>1990-12-31</td>\n",
       "      <td>151</td>\n",
       "      <td>L</td>\n",
       "      <td>black</td>\n",
       "      <td>53</td>\n",
       "      <td>29.90</td>\n",
       "      <td>825</td>\n",
       "      <td>Mrs</td>\n",
       "      <td>...</td>\n",
       "      <td>1964</td>\n",
       "      <td>2012</td>\n",
       "      <td>31</td>\n",
       "      <td>2</td>\n",
       "      <td>16</td>\n",
       "      <td>29</td>\n",
       "      <td>48</td>\n",
       "      <td>18</td>\n",
       "      <td>36</td>\n",
       "      <td>36</td>\n",
       "    </tr>\n",
       "  </tbody>\n",
       "</table>\n",
       "<p>5 rows × 31 columns</p>\n",
       "</div>"
      ],
      "text/plain": [
       "   orderItemID  orderDate deliveryDate  itemID size   color  manufacturerID  \\\n",
       "0            1 2012-04-01   2012-04-03     186    M    blue              25   \n",
       "1            2 2012-04-01   2012-04-03      71    M  orange              21   \n",
       "2            3 2012-04-01   2012-04-03      71    M  yellow              21   \n",
       "3            4 2012-04-02          NaT      22    M   green              14   \n",
       "4            5 2012-04-02   1990-12-31     151    L   black              53   \n",
       "\n",
       "   price  customerID salutation  ...  Tahun_Kelahiran Tahun_Delivery  \\\n",
       "0  69.90         794        Mrs  ...             1965           2012   \n",
       "1  69.95         794        Mrs  ...             1965           2012   \n",
       "2  69.95         794        Mrs  ...             1965           2012   \n",
       "3  39.90         808        Mrs  ...             1959           2012   \n",
       "4  29.90         825        Mrs  ...             1964           2012   \n",
       "\n",
       "  Tanggal_Delivery  Tanggal_Order  Tanggal_Creation  days  perc_state  \\\n",
       "0                3              1                25     2          48   \n",
       "1                3              1                25     2          48   \n",
       "2                3              1                25     2          48   \n",
       "3               16              2                 4    14          50   \n",
       "4               31              2                16    29          48   \n",
       "\n",
       "   perc_cs  perc_sizsta  perc_salsize  \n",
       "0       18           36            36  \n",
       "1       18           36            36  \n",
       "2       18           36            36  \n",
       "3       17           34            36  \n",
       "4       18           36            36  \n",
       "\n",
       "[5 rows x 31 columns]"
      ]
     },
     "execution_count": 56,
     "metadata": {},
     "output_type": "execute_result"
    }
   ],
   "source": [
    "df_tr.head(5)"
   ]
  },
  {
   "cell_type": "markdown",
   "id": "f8755aed",
   "metadata": {},
   "source": [
    "#### Mencari persentase size tiap warna"
   ]
  },
  {
   "cell_type": "code",
   "execution_count": 57,
   "id": "fd7c005e",
   "metadata": {},
   "outputs": [],
   "source": [
    "datasc1 = df_tr.loc[df_tr['size'] == \"XS\", 'color'].value_counts()\n",
    "datasc2 = df_tr.loc[df_tr['size'] == \"S\", 'color'].value_counts()\n",
    "datasc3 = df_tr.loc[df_tr['size'] == \"M\", 'color'].value_counts()\n",
    "datasc4 = df_tr.loc[df_tr['size'] == \"L\", 'color'].value_counts()\n",
    "datasc5 = df_tr.loc[df_tr['size'] == \"XL\", 'color'].value_counts()\n",
    "datasc6 = df_tr.loc[df_tr['size'] == \"XXL\", 'color'].value_counts()\n",
    "datasc7 = df_tr.loc[df_tr['size'] == \"XXXL\", 'color'].value_counts()\n",
    "datasc8 = df_tr.loc[df_tr['size'] == \"XXXXL\", 'color'].value_counts()\n",
    "\n",
    "persen_colsiz1 = int(((datasc1[0] / (datasc1.sum())) * 100))\n",
    "persen_colsiz2 = int(((datasc2[0] / (datasc2.sum())) * 100))\n",
    "persen_colsiz3 = int(((datasc3[0] / (datasc3.sum())) * 100))\n",
    "persen_colsiz4 = int(((datasc4[0] / (datasc4.sum())) * 100))\n",
    "persen_colsiz5 = int(((datasc5[0] / (datasc5.sum())) * 100))\n",
    "persen_colsiz6 = int(((datasc6[0] / (datasc6.sum())) * 100))\n",
    "persen_colsiz7 = int(((datasc7[0] / (datasc7.sum())) * 100))\n",
    "persen_colsiz8 = int(((datasc8[0] / (datasc8.sum())) * 100))\n",
    "\n",
    "df_tr['perc_colsiz'] = df_tr['Tanggal_Order']\n",
    "for i in range(len(df_tr)) :\n",
    "    if (df_tr['size'][i] == \"XS\") : \n",
    "        df_tr['perc_colsiz'][i] = persen_colsiz1\n",
    "    elif(df_tr['size'][i] == \"S\"):\n",
    "        df_tr['perc_colsiz'][i] = persen_colsiz2\n",
    "    elif(df_tr['size'][i] == \"M\"):\n",
    "        df_tr['perc_colsiz'][i] = persen_colsiz3\n",
    "    elif(df_tr['size'][i] == \"L\"):\n",
    "        df_tr['perc_colsiz'][i] = persen_colsiz4\n",
    "    elif(df_tr['size'][i] == \"XL\"):\n",
    "        df_tr['perc_colsiz'][i] = persen_colsiz5\n",
    "    elif(df_tr['size'][i] == \"XXL\"):\n",
    "        df_tr['perc_colsiz'][i] = persen_colsiz6\n",
    "    elif(df_tr['size'][i] == \"XXXL\"):\n",
    "        df_tr['perc_colsiz'][i] = persen_colsiz7\n",
    "    elif(df_tr['size'][i] == \"XXXXL\"):\n",
    "        df_tr['perc_colsiz'][i] = persen_colsiz8"
   ]
  },
  {
   "cell_type": "markdown",
   "id": "976a5ea6",
   "metadata": {},
   "source": [
    "#### Mencari persentase state tiap salutation"
   ]
  },
  {
   "cell_type": "code",
   "execution_count": 58,
   "id": "64770b1a",
   "metadata": {},
   "outputs": [],
   "source": [
    "# Size State\n",
    "datastsal1 = df_tr.loc[df_tr['state'] == \"North Rhine-Westphalia\", 'salutation'].value_counts()\n",
    "datastsal2 = df_tr.loc[df_tr['state'] == \"Lower Saxony\", 'salutation'].value_counts()\n",
    "datastsal3 = df_tr.loc[df_tr['state'] == \"Bavaria\", 'salutation'].value_counts()\n",
    "datastsal4 = df_tr.loc[df_tr['state'] == \"Baden-Wuerttemberg\", 'salutation'].value_counts()\n",
    "datastsal5 = df_tr.loc[df_tr['state'] == \"Hesse\", 'salutation'].value_counts()\n",
    "datastsal6 = df_tr.loc[df_tr['state'] == \"Rhineland-Palatinate\", 'salutation'].value_counts()\n",
    "datastsal7 = df_tr.loc[df_tr['state'] == \"Schleswig-Holstein\", 'salutation'].value_counts()\n",
    "datastsal8 = df_tr.loc[df_tr['state'] == \"Berlin\", 'salutation'].value_counts()\n",
    "datastsal9 = df_tr.loc[df_tr['state'] == \"Saxony\", 'salutation'].value_counts()\n",
    "datastsal10 = df_tr.loc[df_tr['state'] == \"Hamburg\", 'salutation'].value_counts()\n",
    "datastsal11 = df_tr.loc[df_tr['state'] == \"Brandenburg\", 'salutation'].value_counts()\n",
    "datastsal12 = df_tr.loc[df_tr['state'] == \"Thuringia\", 'salutation'].value_counts()\n",
    "datastsal13 = df_tr.loc[df_tr['state'] == \"Mecklenburg-Western Pomerania\", 'salutation'].value_counts()\n",
    "datastsal14 = df_tr.loc[df_tr['state'] == \"Saxony-Anhalt\", 'salutation'].value_counts()\n",
    "datastsal15 = df_tr.loc[df_tr['state'] == \"Bremen\", 'salutation'].value_counts()\n",
    "datastsal16 = df_tr.loc[df_tr['state'] == \"Saarland\", 'salutation'].value_counts()\n",
    "\n",
    "persen_stsal1 = int(((datastsal1[0] / (datastsal1.sum())) * 100))\n",
    "persen_stsal2 = int(((datastsal2[0] / (datastsal2.sum())) * 100))\n",
    "persen_stsal3 = int(((datastsal3[0] / (datastsal3.sum())) * 100))\n",
    "persen_stsal4 = int(((datastsal4[0] / (datastsal4.sum())) * 100))\n",
    "persen_stsal5 = int(((datastsal5[0] / (datastsal5.sum())) * 100))\n",
    "persen_stsal6 = int(((datastsal6[0] / (datastsal6.sum())) * 100))\n",
    "persen_stsal7 = int(((datastsal7[0] / (datastsal7.sum())) * 100))\n",
    "persen_stsal8 = int(((datastsal8[0] / (datastsal8.sum())) * 100))\n",
    "persen_stsal9 = int(((datastsal9[0] / (datastsal9.sum())) * 100))\n",
    "persen_stsal10 = int(((datastsal10[0] / (datastsal10.sum())) * 100))\n",
    "persen_stsal11 = int(((datastsal11[0] / (datastsal11.sum())) * 100))\n",
    "persen_stsal12 = int(((datastsal12[0] / (datastsal12.sum())) * 100))\n",
    "persen_stsal13 = int(((datastsal13[0] / (datastsal13.sum())) * 100))\n",
    "persen_stsal14 = int(((datastsal14[0] / (datastsal14.sum())) * 100))\n",
    "persen_stsal15 = int(((datastsal15[0] / (datastsal15.sum())) * 100))\n",
    "persen_stsal16 = int(((datastsal16[0] / (datastsal16.sum())) * 100))\n",
    "\n",
    "df_tr['perc_stsal'] = df_tr['Tanggal_Order']\n",
    "for i in range(len(df_tr)) :\n",
    "    if (df_tr['state'][i] == \"North Rhine-Westphalia\") : \n",
    "        df_tr['perc_stsal'][i] = persen_stsal1\n",
    "    elif(df_tr['state'][i] == \"Lower Saxony\"):\n",
    "        df_tr['perc_stsal'][i] = persen_stsal2\n",
    "    elif(df_tr['state'][i] == \"Bavaria\"):\n",
    "        df_tr['perc_stsal'][i] = persen_stsal3\n",
    "    elif(df_tr['state'][i] == \"Baden-Wuerttemberg\"):\n",
    "        df_tr['perc_stsal'][i] = persen_stsal4\n",
    "    elif(df_tr['state'][i] == \"Hesse\"):\n",
    "        df_tr['perc_stsal'][i] = persen_stsal5\n",
    "    elif(df_tr['state'][i] == \"Rhineland-Palatinate\"):\n",
    "        df_tr['perc_stsal'][i] = persen_stsal6\n",
    "    elif(df_tr['state'][i] == \"Schleswig-Holstein\"):\n",
    "        df_tr['perc_stsal'][i] = persen_stsal7\n",
    "    elif(df_tr['state'][i] == \"Berlin\"):\n",
    "        df_tr['perc_stsal'][i] = persen_stsal8\n",
    "    elif(df_tr['state'][i] == \"Saxony\"):\n",
    "        df_tr['perc_stsal'][i] = persen_stsal9\n",
    "    elif(df_tr['state'][i] == \"Hamburg\"):\n",
    "        df_tr['perc_stsal'][i] = persen_stsal10\n",
    "    elif(df_tr['state'][i] == \"Brandenburg\"):\n",
    "        df_tr['perc_stsal'][i] = persen_stsal11\n",
    "    elif(df_tr['state'][i] == \"Thuringia\"):\n",
    "        df_tr['perc_stsal'][i] = persen_stsal12\n",
    "    elif(df_tr['state'][i] == \"Mecklenburg-Western Pomerania\"):\n",
    "        df_tr['perc_stsal'][i] = persen_stsal13\n",
    "    elif(df_tr['state'][i] == \"Saxony-Anhalt\"):\n",
    "        df_tr['perc_stsal'][i] = persen_stsal14\n",
    "    elif(df_tr['state'][i] == \"Bremen\"):\n",
    "        df_tr['perc_stsal'][i] = persen_stsal15\n",
    "    elif(df_tr['state'][i] == \"Saarland\"):\n",
    "        df_tr['perc_stsal'][i] = persen_stsal16"
   ]
  },
  {
   "cell_type": "markdown",
   "id": "4ec0ac2f",
   "metadata": {},
   "source": [
    "#### Melihat data yang unique pada kolom persen state"
   ]
  },
  {
   "cell_type": "code",
   "execution_count": 59,
   "id": "709e8b30",
   "metadata": {
    "scrolled": true
   },
   "outputs": [
    {
     "data": {
      "text/plain": [
       "<IntegerArray>\n",
       "[95, 96, 97, 93]\n",
       "Length: 4, dtype: Int64"
      ]
     },
     "execution_count": 59,
     "metadata": {},
     "output_type": "execute_result"
    }
   ],
   "source": [
    "df_tr['perc_stsal'].unique()"
   ]
  },
  {
   "cell_type": "markdown",
   "id": "6addfcb6",
   "metadata": {},
   "source": [
    "#### Melihat data yang ada di kolom persen state"
   ]
  },
  {
   "cell_type": "code",
   "execution_count": 60,
   "id": "30da79f2",
   "metadata": {
    "scrolled": false
   },
   "outputs": [
    {
     "data": {
      "text/html": [
       "<div>\n",
       "<style scoped>\n",
       "    .dataframe tbody tr th:only-of-type {\n",
       "        vertical-align: middle;\n",
       "    }\n",
       "\n",
       "    .dataframe tbody tr th {\n",
       "        vertical-align: top;\n",
       "    }\n",
       "\n",
       "    .dataframe thead th {\n",
       "        text-align: right;\n",
       "    }\n",
       "</style>\n",
       "<table border=\"1\" class=\"dataframe\">\n",
       "  <thead>\n",
       "    <tr style=\"text-align: right;\">\n",
       "      <th></th>\n",
       "      <th>state</th>\n",
       "      <th>perc_stsal</th>\n",
       "    </tr>\n",
       "  </thead>\n",
       "  <tbody>\n",
       "    <tr>\n",
       "      <th>0</th>\n",
       "      <td>Baden-Wuerttemberg</td>\n",
       "      <td>95</td>\n",
       "    </tr>\n",
       "    <tr>\n",
       "      <th>1</th>\n",
       "      <td>Baden-Wuerttemberg</td>\n",
       "      <td>95</td>\n",
       "    </tr>\n",
       "    <tr>\n",
       "      <th>2</th>\n",
       "      <td>Baden-Wuerttemberg</td>\n",
       "      <td>95</td>\n",
       "    </tr>\n",
       "    <tr>\n",
       "      <th>3</th>\n",
       "      <td>Saxony</td>\n",
       "      <td>96</td>\n",
       "    </tr>\n",
       "    <tr>\n",
       "      <th>4</th>\n",
       "      <td>Rhineland-Palatinate</td>\n",
       "      <td>96</td>\n",
       "    </tr>\n",
       "    <tr>\n",
       "      <th>...</th>\n",
       "      <td>...</td>\n",
       "      <td>...</td>\n",
       "    </tr>\n",
       "    <tr>\n",
       "      <th>481087</th>\n",
       "      <td>Lower Saxony</td>\n",
       "      <td>95</td>\n",
       "    </tr>\n",
       "    <tr>\n",
       "      <th>481088</th>\n",
       "      <td>Berlin</td>\n",
       "      <td>95</td>\n",
       "    </tr>\n",
       "    <tr>\n",
       "      <th>481089</th>\n",
       "      <td>Berlin</td>\n",
       "      <td>95</td>\n",
       "    </tr>\n",
       "    <tr>\n",
       "      <th>481090</th>\n",
       "      <td>Berlin</td>\n",
       "      <td>95</td>\n",
       "    </tr>\n",
       "    <tr>\n",
       "      <th>481091</th>\n",
       "      <td>Berlin</td>\n",
       "      <td>95</td>\n",
       "    </tr>\n",
       "  </tbody>\n",
       "</table>\n",
       "<p>481092 rows × 2 columns</p>\n",
       "</div>"
      ],
      "text/plain": [
       "                       state  perc_stsal\n",
       "0         Baden-Wuerttemberg          95\n",
       "1         Baden-Wuerttemberg          95\n",
       "2         Baden-Wuerttemberg          95\n",
       "3                     Saxony          96\n",
       "4       Rhineland-Palatinate          96\n",
       "...                      ...         ...\n",
       "481087          Lower Saxony          95\n",
       "481088                Berlin          95\n",
       "481089                Berlin          95\n",
       "481090                Berlin          95\n",
       "481091                Berlin          95\n",
       "\n",
       "[481092 rows x 2 columns]"
      ]
     },
     "execution_count": 60,
     "metadata": {},
     "output_type": "execute_result"
    }
   ],
   "source": [
    "df_tr[[\"state\", \"perc_stsal\"]]"
   ]
  },
  {
   "cell_type": "markdown",
   "id": "8935474b",
   "metadata": {},
   "source": [
    "#### Mencari persentase salutation terhadap returnshipment"
   ]
  },
  {
   "cell_type": "code",
   "execution_count": 61,
   "id": "257c1007",
   "metadata": {},
   "outputs": [],
   "source": [
    "datasalrs1 = df_tr.loc[df_tr['salutation'] == \"Mrs\", 'returnShipment'].value_counts()\n",
    "datasalrs2 = df_tr.loc[df_tr['salutation'] == \"Mr\", 'returnShipment'].value_counts()\n",
    "datasalrs3 = df_tr.loc[df_tr['salutation'] == \"Family\", 'returnShipment'].value_counts()\n",
    "datasalrs4 = df_tr.loc[df_tr['salutation'] == \"Company\", 'returnShipment'].value_counts()\n",
    "datasalrs5 = df_tr.loc[df_tr['salutation'] == \"not reported\", 'returnShipment'].value_counts()\n",
    "\n",
    "persen_salrs1 = int(((datasalrs1[1] / (datasalrs1.sum())) * 100))\n",
    "persen_salrs2 = int(((datasalrs2[1] / (datasalrs2.sum())) * 100))\n",
    "persen_salrs3 = int(((datasalrs3[1] / (datasalrs3.sum())) * 100))\n",
    "persen_salrs4 = int(((datasalrs4[1] / (datasalrs4.sum())) * 100))\n",
    "persen_salrs5 = int(((datasalrs5[1] / (datasalrs5.sum())) * 100))\n",
    "\n",
    "df_tr['perc_salrs'] = df_tr['Tanggal_Order']\n",
    "for i in range(len(df_tr)) :\n",
    "    if (df_tr['salutation'][i] == \"Mrs\") : \n",
    "        df_tr['perc_salrs'][i] = persen_salrs1\n",
    "    elif(df_tr['salutation'][i] == \"Mr\"):\n",
    "        df_tr['perc_salrs'][i] = persen_salrs2\n",
    "    elif(df_tr['salutation'][i] == \"Family\"):\n",
    "        df_tr['perc_salrs'][i] = persen_salrs3\n",
    "    elif(df_tr['salutation'][i] == \"Company\"):\n",
    "        df_tr['perc_salrs'][i] = persen_salrs4\n",
    "    elif(df_tr['salutation'][i] == \"not reported\"):\n",
    "        df_tr['perc_salrs'][i] = persen_salrs5"
   ]
  },
  {
   "cell_type": "markdown",
   "id": "80fcd33d",
   "metadata": {},
   "source": [
    "#### Mencari persentase dari itemID ke returnshipment dengan value TRUE "
   ]
  },
  {
   "cell_type": "code",
   "execution_count": 62,
   "id": "011724dc",
   "metadata": {},
   "outputs": [],
   "source": [
    "for i in df_tr['itemID'].unique():\n",
    "  df_tr.loc[(df_tr['itemID'] == i), \"perc_Item_rS\"] = len(df_tr[(df_tr['returnShipment'] == 1) & (df_tr['itemID'] == i)]) / len(df_tr[df_tr['itemID'] == i])\n",
    "df_tr[\"perc_Item_rS\"] = df_tr[\"perc_Item_rS\"] * 100"
   ]
  },
  {
   "cell_type": "markdown",
   "id": "5a784a41",
   "metadata": {},
   "source": [
    "#### Mencari persentase dari cotumerID ke returnshipment dengan value TRUE"
   ]
  },
  {
   "cell_type": "code",
   "execution_count": 63,
   "id": "10542901",
   "metadata": {},
   "outputs": [],
   "source": [
    "for i in df_tr['customerID'].unique():\n",
    "  df_tr.loc[(df_tr['customerID'] == i), \"perc_Customer_rS\"] = len(df_tr[(df_tr['returnShipment'] == 1) & (df_tr['customerID'] == i)]) / len(df_tr[df_tr['customerID'] == i])\n",
    "df_tr[\"perc_Customer_rS\"] = df_tr[\"perc_Customer_rS\"] * 100"
   ]
  },
  {
   "cell_type": "markdown",
   "id": "411d89b9",
   "metadata": {},
   "source": [
    "#### Mencari persentase dari Age ke returnshipment dengan value TRUE"
   ]
  },
  {
   "cell_type": "code",
   "execution_count": 64,
   "id": "35d9c562",
   "metadata": {},
   "outputs": [],
   "source": [
    "for i in df_tr['Age'].unique():\n",
    "  df_tr.loc[(df_tr['Age'] == i), \"perc_Age_rS\"] = len(df_tr[(df_tr['returnShipment'] == 1) & (df_tr['Age'] == i)]) / len(df_tr[df_tr['Age'] == i])\n",
    "df_tr[\"perc_Age_rS\"] = df_tr[\"perc_Age_rS\"] * 100"
   ]
  },
  {
   "cell_type": "markdown",
   "id": "fc960905",
   "metadata": {},
   "source": [
    "#### Mencari persentase dari size ke returnshipment denga value TRUE"
   ]
  },
  {
   "cell_type": "code",
   "execution_count": 65,
   "id": "0c72dee2",
   "metadata": {},
   "outputs": [],
   "source": [
    "for i in df_tr['size'].unique():\n",
    "  df_tr.loc[(df_tr['size'] == i), \"perc_Size_rS\"] = len(df_tr[(df_tr['returnShipment'] == 1) & (df_tr['size'] == i)]) / len(df_tr[df_tr['size'] == i])\n",
    "df_tr[\"perc_Size_rS\"] = df_tr[\"perc_Size_rS\"] * 100"
   ]
  },
  {
   "cell_type": "markdown",
   "id": "b91697a4",
   "metadata": {},
   "source": [
    "#### Mencari persentase dari manufacturerID ke returnshipment dengan value TRUE"
   ]
  },
  {
   "cell_type": "code",
   "execution_count": 66,
   "id": "1475f738",
   "metadata": {},
   "outputs": [],
   "source": [
    "for i in df_tr['manufacturerID'].unique():\n",
    "  df_tr.loc[(df_tr['manufacturerID'] == i), \"perc_Man_rS\"] = len(df_tr[(df_tr['returnShipment'] == 1) & (df_tr['manufacturerID'] == i)]) / len(df_tr[df_tr['manufacturerID'] == i])\n",
    "df_tr[\"perc_Man_rS\"] = df_tr[\"perc_Man_rS\"] * 100"
   ]
  },
  {
   "cell_type": "markdown",
   "id": "a6781b6e",
   "metadata": {},
   "source": [
    "#### Mencari persentase dari price ke returnshipment dengan value TRUE"
   ]
  },
  {
   "cell_type": "code",
   "execution_count": 67,
   "id": "929a0ea8",
   "metadata": {},
   "outputs": [],
   "source": [
    "for i in df_tr['price'].unique():\n",
    "  df_tr.loc[(df_tr['price'] == i), \"perc_Price_rS\"] = len(df_tr[(df_tr['returnShipment'] == 1) & (df_tr['price'] == i)]) / len(df_tr[df_tr['price'] == i])\n",
    "df_tr[\"perc_Price_rS\"] = df_tr[\"perc_Price_rS\"] * 100"
   ]
  },
  {
   "cell_type": "markdown",
   "id": "df4f453c",
   "metadata": {},
   "source": [
    "#### Mencari persentase dari color ke returnshipment dengan value TRUE"
   ]
  },
  {
   "cell_type": "code",
   "execution_count": 68,
   "id": "fde57639",
   "metadata": {},
   "outputs": [],
   "source": [
    "for i in df_tr['color'].unique():\n",
    "  df_tr.loc[(df_tr['color'] == i), \"perc_Col_rS\"] = len(df_tr[(df_tr['returnShipment'] == 1) & (df_tr['color'] == i)]) / len(df_tr[df_tr['color'] == i])\n",
    "df_tr[\"perc_Col_rS\"] = df_tr[\"perc_Col_rS\"] * 100"
   ]
  },
  {
   "cell_type": "markdown",
   "id": "e54f8026",
   "metadata": {},
   "source": [
    "#### Mencari persentase dari salutation ke color"
   ]
  },
  {
   "cell_type": "code",
   "execution_count": 69,
   "id": "2c85f9da",
   "metadata": {},
   "outputs": [],
   "source": [
    "temp = df_tr['color'].mode()[0]\n",
    "for i in df_tr['salutation'].unique():\n",
    "  df_tr.loc[(df_tr['salutation'] == i), \"perc_Sal_col\"] = len(df_tr[(df_tr['color'] == temp) & (df_tr['salutation'] == i)]) / len(df_tr[df_tr['salutation'] == i])\n",
    "df_tr[\"perc_Sal_col\"] = df_tr[\"perc_Sal_col\"] * 100"
   ]
  },
  {
   "cell_type": "markdown",
   "id": "b255db05",
   "metadata": {},
   "source": [
    "#### Mencari persentase dari bulan delivery ke returnshipment dengan value TRUE"
   ]
  },
  {
   "cell_type": "code",
   "execution_count": 70,
   "id": "db89be57",
   "metadata": {},
   "outputs": [],
   "source": [
    "for i in df_tr['Bulan_Delivery'].unique():\n",
    "  df_tr.loc[(df_tr['Bulan_Delivery'] == i), \"perc_MonthDev_rS\"] = len(df_tr[(df_tr['returnShipment'] == 1) & (df_tr['Bulan_Delivery'] == i)]) / len(df_tr[df_tr['Bulan_Delivery'] == i])\n",
    "df_tr[\"perc_MonthDev_rS\"] = df_tr[\"perc_MonthDev_rS\"] * 100"
   ]
  },
  {
   "cell_type": "markdown",
   "id": "9030eb74",
   "metadata": {},
   "source": [
    "#### Mencari persentase dari tahun delivery ke returnshipment dengan value TRUE"
   ]
  },
  {
   "cell_type": "code",
   "execution_count": 71,
   "id": "47bff2d1",
   "metadata": {},
   "outputs": [],
   "source": [
    "for i in df_tr['Tahun_Delivery'].unique():\n",
    "  df_tr.loc[(df_tr['Tahun_Delivery'] == i), \"perc_YearDev_rS\"] = len(df_tr[(df_tr['returnShipment'] == 1) & (df_tr['Tahun_Delivery'] == i)]) / len(df_tr[df_tr['Tahun_Delivery'] == i])\n",
    "df_tr[\"perc_YearDev_rS\"] = df_tr[\"perc_YearDev_rS\"] * 100"
   ]
  },
  {
   "cell_type": "markdown",
   "id": "8336a7a9",
   "metadata": {},
   "source": [
    "#### Mencari persentase dari tahun kelahiran ke returnshipment dengan value TRUE"
   ]
  },
  {
   "cell_type": "code",
   "execution_count": 72,
   "id": "2424755e",
   "metadata": {},
   "outputs": [],
   "source": [
    "for i in df_tr['Tahun_Kelahiran'].unique():\n",
    "  df_tr.loc[(df_tr['Tahun_Kelahiran'] == i), \"perc_YearBorn_rS\"] = len(df_tr[(df_tr['returnShipment'] == 1) & (df_tr['Tahun_Kelahiran'] == i)]) / len(df_tr[df_tr['Tahun_Kelahiran'] == i])\n",
    "df_tr[\"perc_YearBorn_rS\"] = df_tr[\"perc_YearBorn_rS\"] * 100"
   ]
  },
  {
   "cell_type": "code",
   "execution_count": 73,
   "id": "d69b9e2c",
   "metadata": {},
   "outputs": [
    {
     "name": "stdout",
     "output_type": "stream",
     "text": [
      "<class 'pandas.core.frame.DataFrame'>\n",
      "RangeIndex: 481092 entries, 0 to 481091\n",
      "Data columns (total 45 columns):\n",
      " #   Column             Non-Null Count   Dtype         \n",
      "---  ------             --------------   -----         \n",
      " 0   orderItemID        481092 non-null  int64         \n",
      " 1   orderDate          481092 non-null  datetime64[ns]\n",
      " 2   deliveryDate       441673 non-null  datetime64[ns]\n",
      " 3   itemID             481092 non-null  int64         \n",
      " 4   size               481092 non-null  category      \n",
      " 5   color              481092 non-null  category      \n",
      " 6   manufacturerID     481092 non-null  int64         \n",
      " 7   price              481092 non-null  float64       \n",
      " 8   customerID         481092 non-null  int64         \n",
      " 9   salutation         481092 non-null  category      \n",
      " 10  Age                481092 non-null  Int64         \n",
      " 11  state              481092 non-null  object        \n",
      " 12  creationDate       481092 non-null  datetime64[ns]\n",
      " 13  returnShipment     481092 non-null  int64         \n",
      " 14  Tanggal_Kelahiran  481092 non-null  Int64         \n",
      " 15  Bulan_Order        481092 non-null  Int64         \n",
      " 16  Bulan_Creation     481092 non-null  Int64         \n",
      " 17  Bulan_Kelahiran    481092 non-null  Int64         \n",
      " 18  Bulan_Delivery     481092 non-null  Int64         \n",
      " 19  Tahun_Pembuatan    481092 non-null  Int64         \n",
      " 20  Tahun_Order        481092 non-null  Int64         \n",
      " 21  Tahun_Kelahiran    481092 non-null  Int64         \n",
      " 22  Tahun_Delivery     481092 non-null  Int64         \n",
      " 23  Tanggal_Delivery   481092 non-null  Int64         \n",
      " 24  Tanggal_Order      481092 non-null  Int64         \n",
      " 25  Tanggal_Creation   481092 non-null  Int64         \n",
      " 26  days               481092 non-null  Int64         \n",
      " 27  perc_state         481092 non-null  Int64         \n",
      " 28  perc_cs            481092 non-null  Int64         \n",
      " 29  perc_sizsta        481092 non-null  Int64         \n",
      " 30  perc_salsize       481092 non-null  Int64         \n",
      " 31  perc_colsiz        481092 non-null  Int64         \n",
      " 32  perc_stsal         481092 non-null  Int64         \n",
      " 33  perc_salrs         481092 non-null  Int64         \n",
      " 34  perc_Item_rS       481092 non-null  float64       \n",
      " 35  perc_Customer_rS   481092 non-null  float64       \n",
      " 36  perc_Age_rS        481092 non-null  float64       \n",
      " 37  perc_Size_rS       481092 non-null  float64       \n",
      " 38  perc_Man_rS        481092 non-null  float64       \n",
      " 39  perc_Price_rS      481092 non-null  float64       \n",
      " 40  perc_Col_rS        481092 non-null  float64       \n",
      " 41  perc_Sal_col       481092 non-null  float64       \n",
      " 42  perc_MonthDev_rS   481092 non-null  float64       \n",
      " 43  perc_YearDev_rS    481092 non-null  float64       \n",
      " 44  perc_YearBorn_rS   481092 non-null  float64       \n",
      "dtypes: Int64(21), category(3), datetime64[ns](3), float64(12), int64(5), object(1)\n",
      "memory usage: 165.2+ MB\n"
     ]
    }
   ],
   "source": [
    "df_tr.info()"
   ]
  },
  {
   "cell_type": "code",
   "execution_count": 74,
   "id": "662f8f60",
   "metadata": {},
   "outputs": [
    {
     "data": {
      "text/plain": [
       "orderItemID              0\n",
       "orderDate                0\n",
       "deliveryDate         39419\n",
       "itemID                   0\n",
       "size                     0\n",
       "color                    0\n",
       "manufacturerID           0\n",
       "price                    0\n",
       "customerID               0\n",
       "salutation               0\n",
       "Age                      0\n",
       "state                    0\n",
       "creationDate             0\n",
       "returnShipment           0\n",
       "Tanggal_Kelahiran        0\n",
       "Bulan_Order              0\n",
       "Bulan_Creation           0\n",
       "Bulan_Kelahiran          0\n",
       "Bulan_Delivery           0\n",
       "Tahun_Pembuatan          0\n",
       "Tahun_Order              0\n",
       "Tahun_Kelahiran          0\n",
       "Tahun_Delivery           0\n",
       "Tanggal_Delivery         0\n",
       "Tanggal_Order            0\n",
       "Tanggal_Creation         0\n",
       "days                     0\n",
       "perc_state               0\n",
       "perc_cs                  0\n",
       "perc_sizsta              0\n",
       "perc_salsize             0\n",
       "perc_colsiz              0\n",
       "perc_stsal               0\n",
       "perc_salrs               0\n",
       "perc_Item_rS             0\n",
       "perc_Customer_rS         0\n",
       "perc_Age_rS              0\n",
       "perc_Size_rS             0\n",
       "perc_Man_rS              0\n",
       "perc_Price_rS            0\n",
       "perc_Col_rS              0\n",
       "perc_Sal_col             0\n",
       "perc_MonthDev_rS         0\n",
       "perc_YearDev_rS          0\n",
       "perc_YearBorn_rS         0\n",
       "dtype: int64"
      ]
     },
     "execution_count": 74,
     "metadata": {},
     "output_type": "execute_result"
    }
   ],
   "source": [
    "df_tr.isna().sum()"
   ]
  },
  {
   "cell_type": "code",
   "execution_count": 75,
   "id": "9d74cf75",
   "metadata": {},
   "outputs": [],
   "source": [
    "#Penghapusan beberapa column yang tidak diperlukan dalam pembuatan model\n",
    "df_train = df_tr.drop(['deliveryDate', 'creationDate' ,'orderDate','color'],axis=1)"
   ]
  },
  {
   "cell_type": "code",
   "execution_count": 76,
   "id": "72de1766",
   "metadata": {
    "scrolled": false
   },
   "outputs": [
    {
     "name": "stdout",
     "output_type": "stream",
     "text": [
      "<class 'pandas.core.frame.DataFrame'>\n",
      "RangeIndex: 481092 entries, 0 to 481091\n",
      "Data columns (total 41 columns):\n",
      " #   Column             Non-Null Count   Dtype   \n",
      "---  ------             --------------   -----   \n",
      " 0   orderItemID        481092 non-null  int64   \n",
      " 1   itemID             481092 non-null  int64   \n",
      " 2   size               481092 non-null  category\n",
      " 3   manufacturerID     481092 non-null  int64   \n",
      " 4   price              481092 non-null  float64 \n",
      " 5   customerID         481092 non-null  int64   \n",
      " 6   salutation         481092 non-null  category\n",
      " 7   Age                481092 non-null  Int64   \n",
      " 8   state              481092 non-null  object  \n",
      " 9   returnShipment     481092 non-null  int64   \n",
      " 10  Tanggal_Kelahiran  481092 non-null  Int64   \n",
      " 11  Bulan_Order        481092 non-null  Int64   \n",
      " 12  Bulan_Creation     481092 non-null  Int64   \n",
      " 13  Bulan_Kelahiran    481092 non-null  Int64   \n",
      " 14  Bulan_Delivery     481092 non-null  Int64   \n",
      " 15  Tahun_Pembuatan    481092 non-null  Int64   \n",
      " 16  Tahun_Order        481092 non-null  Int64   \n",
      " 17  Tahun_Kelahiran    481092 non-null  Int64   \n",
      " 18  Tahun_Delivery     481092 non-null  Int64   \n",
      " 19  Tanggal_Delivery   481092 non-null  Int64   \n",
      " 20  Tanggal_Order      481092 non-null  Int64   \n",
      " 21  Tanggal_Creation   481092 non-null  Int64   \n",
      " 22  days               481092 non-null  Int64   \n",
      " 23  perc_state         481092 non-null  Int64   \n",
      " 24  perc_cs            481092 non-null  Int64   \n",
      " 25  perc_sizsta        481092 non-null  Int64   \n",
      " 26  perc_salsize       481092 non-null  Int64   \n",
      " 27  perc_colsiz        481092 non-null  Int64   \n",
      " 28  perc_stsal         481092 non-null  Int64   \n",
      " 29  perc_salrs         481092 non-null  Int64   \n",
      " 30  perc_Item_rS       481092 non-null  float64 \n",
      " 31  perc_Customer_rS   481092 non-null  float64 \n",
      " 32  perc_Age_rS        481092 non-null  float64 \n",
      " 33  perc_Size_rS       481092 non-null  float64 \n",
      " 34  perc_Man_rS        481092 non-null  float64 \n",
      " 35  perc_Price_rS      481092 non-null  float64 \n",
      " 36  perc_Col_rS        481092 non-null  float64 \n",
      " 37  perc_Sal_col       481092 non-null  float64 \n",
      " 38  perc_MonthDev_rS   481092 non-null  float64 \n",
      " 39  perc_YearDev_rS    481092 non-null  float64 \n",
      " 40  perc_YearBorn_rS   481092 non-null  float64 \n",
      "dtypes: Int64(21), category(2), float64(12), int64(5), object(1)\n",
      "memory usage: 153.7+ MB\n"
     ]
    }
   ],
   "source": [
    "df_train.info()"
   ]
  },
  {
   "cell_type": "code",
   "execution_count": 77,
   "id": "0c7467d2",
   "metadata": {
    "scrolled": true
   },
   "outputs": [],
   "source": [
    "#Pembuatan Once Hot Encoding\n",
    "df_train = pd.get_dummies(data=df_train, columns=['state','size', 'days','Bulan_Order', 'salutation', 'Tanggal_Kelahiran', 'Tanggal_Order', 'Tanggal_Delivery', 'manufacturerID'])"
   ]
  },
  {
   "cell_type": "code",
   "execution_count": 78,
   "id": "5a31e989",
   "metadata": {},
   "outputs": [],
   "source": [
    "# Penentuan target\n",
    "le = preprocessing.LabelEncoder()\n",
    "le.fit(df_train.returnShipment)\n",
    "Y = le.transform(df_train.returnShipment)"
   ]
  },
  {
   "cell_type": "code",
   "execution_count": 79,
   "id": "135b830b",
   "metadata": {},
   "outputs": [
    {
     "data": {
      "text/plain": [
       "0    249001\n",
       "1    232091\n",
       "Name: returnShipment, dtype: int64"
      ]
     },
     "execution_count": 79,
     "metadata": {},
     "output_type": "execute_result"
    }
   ],
   "source": [
    "df_train.returnShipment.value_counts()"
   ]
  },
  {
   "cell_type": "code",
   "execution_count": 80,
   "id": "6ee35839",
   "metadata": {},
   "outputs": [],
   "source": [
    "# Karena sudah disimpan ke variabel le, maka returnShipment bisa dihapus\n",
    "X = df_train.drop(\"returnShipment\",axis=1)"
   ]
  },
  {
   "cell_type": "code",
   "execution_count": 81,
   "id": "3f19a381",
   "metadata": {},
   "outputs": [
    {
     "name": "stdout",
     "output_type": "stream",
     "text": [
      "<class 'pandas.core.frame.DataFrame'>\n",
      "RangeIndex: 481092 entries, 0 to 481091\n",
      "Columns: 361 entries, orderItemID to manufacturerID_166\n",
      "dtypes: Int64(16), float64(12), int64(3), uint8(330)\n",
      "memory usage: 272.5 MB\n"
     ]
    }
   ],
   "source": [
    "X.info()"
   ]
  },
  {
   "cell_type": "code",
   "execution_count": 115,
   "id": "4ffcaef4",
   "metadata": {},
   "outputs": [],
   "source": [
    "df_test = pd.read_csv(\"C:\\\\Users\\\\raisy\\\\Downloads\\\\data_return_try\\\\Csv\\\\orders_class.csv\")\n",
    "df_merj = pd.merge(X, df_test, on = 'customerID', how=\"left\")"
   ]
  },
  {
   "cell_type": "code",
   "execution_count": null,
   "id": "86a980ab",
   "metadata": {},
   "outputs": [],
   "source": [
    "X.to_csv('C:\\\\Users\\\\raisy\\\\Downloads\\\\data_return_try\\\\datatest.csv', index = False)"
   ]
  },
  {
   "cell_type": "code",
   "execution_count": 116,
   "id": "1851b46e",
   "metadata": {},
   "outputs": [],
   "source": [
    "df_merj.to_csv('C:\\\\Users\\\\raisy\\\\Downloads\\\\data_return_try\\\\datatest_merge_2.csv', index = False)"
   ]
  },
  {
   "cell_type": "code",
   "execution_count": 82,
   "id": "2676b8f0",
   "metadata": {},
   "outputs": [],
   "source": [
    "# Split dataset\n",
    "X_train,X_test,Y_train,Y_test=train_test_split(X,Y,test_size=0.2,random_state=123)"
   ]
  },
  {
   "cell_type": "code",
   "execution_count": 83,
   "id": "5cb7abd7",
   "metadata": {},
   "outputs": [],
   "source": [
    "# Pembuatan pickle\n",
    "with open('C:\\\\Users\\\\raisy\\\\Downloads\\\\data_return_try\\\\data.pickle', 'wb') as fp:\n",
    "    pickle.dump(X_train.columns, fp)"
   ]
  },
  {
   "cell_type": "code",
   "execution_count": 84,
   "id": "f41831ce",
   "metadata": {},
   "outputs": [],
   "source": [
    "# Mengubah nilai menjadi 0 sampai 1\n",
    "mm_scaler = preprocessing.MinMaxScaler()\n",
    "X_train_minmax = mm_scaler.fit_transform(X_train)\n",
    "X_test_minmax = mm_scaler.transform(X_test)"
   ]
  },
  {
   "cell_type": "code",
   "execution_count": 85,
   "id": "18dc1720",
   "metadata": {},
   "outputs": [],
   "source": [
    "# ss_scaler = preprocessing.StandardScaler()\n",
    "# X_train_ss = ss_scaler.fit_transform(X_train) #fit hanya di train\n",
    "# X_test_ss = ss_scaler.transform(X_test)\n",
    "# pca = PCA(.75)\n",
    "# X_train_pca = pca.fit_transform(X_train_ss)\n",
    "# X_test_pca = pca.transform(X_test_ss)"
   ]
  },
  {
   "cell_type": "code",
   "execution_count": 86,
   "id": "2313b758",
   "metadata": {
    "scrolled": true
   },
   "outputs": [
    {
     "name": "stdout",
     "output_type": "stream",
     "text": [
      "Akurasi 0.7701701327180702\n",
      "              precision    recall  f1-score   support\n",
      "\n",
      "           0       0.81      0.72      0.76     49723\n",
      "           1       0.73      0.82      0.78     46496\n",
      "\n",
      "    accuracy                           0.77     96219\n",
      "   macro avg       0.77      0.77      0.77     96219\n",
      "weighted avg       0.77      0.77      0.77     96219\n",
      "\n"
     ]
    }
   ],
   "source": [
    "# Modeling\n",
    "clf = RandomForestClassifier(n_estimators=200, random_state=123, max_depth=20)\n",
    "clf.fit(X_train, Y_train)\n",
    "Y_pred = clf.predict(X_test)\n",
    "acc = accuracy_score(Y_test, Y_pred)\n",
    "print(\"Akurasi {}\".format(acc))\n",
    "print(classification_report(Y_test, Y_pred))"
   ]
  },
  {
   "cell_type": "code",
   "execution_count": 87,
   "id": "f4548e92",
   "metadata": {
    "scrolled": true
   },
   "outputs": [
    {
     "name": "stdout",
     "output_type": "stream",
     "text": [
      "Akurasi 0.7572724721728556\n",
      "              precision    recall  f1-score   support\n",
      "\n",
      "           0       0.79      0.73      0.76     49723\n",
      "           1       0.73      0.79      0.76     46496\n",
      "\n",
      "    accuracy                           0.76     96219\n",
      "   macro avg       0.76      0.76      0.76     96219\n",
      "weighted avg       0.76      0.76      0.76     96219\n",
      "\n"
     ]
    }
   ],
   "source": [
    "clf4 = xgb.XGBClassifier(objective = \"binary:logistic\", eval_metric = \"mlogloss\", max_depth = 20, gamma=0, subsample = 0.8,learning_rate=0.1, n_estimators = 100, nthread=4)\n",
    "# num_class adalah jumlah kelas\n",
    "clf4.fit(X_train, Y_train)\n",
    "Y_pred = clf4.predict(X_test)\n",
    "acc = accuracy_score(Y_test, Y_pred)\n",
    "print(\"Akurasi {}\".format(acc))\n",
    "print(classification_report(Y_test, Y_pred))"
   ]
  },
  {
   "cell_type": "code",
   "execution_count": 88,
   "id": "5512c496",
   "metadata": {
    "scrolled": false
   },
   "outputs": [
    {
     "name": "stdout",
     "output_type": "stream",
     "text": [
      "                     importance\n",
      "perc_Customer_rS       0.372076\n",
      "perc_Item_rS           0.071459\n",
      "Tanggal_Delivery_16    0.063961\n",
      "Bulan_Delivery         0.045665\n",
      "perc_MonthDev_rS       0.042600\n",
      "perc_Price_rS          0.025143\n",
      "orderItemID            0.022322\n",
      "price                  0.022166\n",
      "perc_Man_rS            0.021061\n",
      "perc_YearDev_rS        0.017281\n",
      "Tahun_Delivery         0.014302\n",
      "customerID             0.014187\n",
      "itemID                 0.013873\n",
      "perc_Size_rS           0.009357\n",
      "perc_Age_rS            0.009245\n",
      "perc_YearBorn_rS       0.009045\n",
      "Age                    0.008941\n",
      "Tahun_Kelahiran        0.008771\n",
      "Tanggal_Creation       0.008173\n",
      "perc_Col_rS            0.007455\n",
      "Bulan_Kelahiran        0.006835\n",
      "Bulan_Creation         0.006409\n",
      "size_XS                0.004145\n",
      "Bulan_Order_1          0.004038\n",
      "manufacturerID_3       0.004029\n",
      "perc_colsiz            0.003899\n",
      "Tahun_Order            0.003637\n",
      "perc_state             0.003445\n",
      "Tahun_Pembuatan        0.003241\n",
      "days_3                 0.002643\n"
     ]
    }
   ],
   "source": [
    "feature_importances = pd.DataFrame(clf.feature_importances_,index = X_train.columns, columns=['importance']).sort_values('importance',ascending=False)\n",
    "print(feature_importances.head(30))\n"
   ]
  },
  {
   "cell_type": "code",
   "execution_count": 89,
   "id": "d2b51cdb",
   "metadata": {},
   "outputs": [
    {
     "data": {
      "text/plain": [
       "['C:\\\\Users\\\\raisy\\\\Downloads\\\\data_return_try\\\\classification.joblib']"
      ]
     },
     "execution_count": 89,
     "metadata": {},
     "output_type": "execute_result"
    }
   ],
   "source": [
    "# Mengeksport modeling yang akan dipakai\n",
    "joblib.dump(clf, \"C:\\\\Users\\\\raisy\\\\Downloads\\\\data_return_try\\\\classification.joblib\")"
   ]
  },
  {
   "cell_type": "code",
   "execution_count": 117,
   "id": "07cd8cb6",
   "metadata": {},
   "outputs": [],
   "source": [
    "# Data Class\n",
    "df_class = pd.read_csv(\"C:\\\\Users\\\\raisy\\\\Downloads\\\\data_return_try\\\\Csv\\\\orders_class.csv\")"
   ]
  },
  {
   "cell_type": "code",
   "execution_count": 118,
   "id": "5edc3181",
   "metadata": {},
   "outputs": [],
   "source": [
    "df_class.loc[(df_class.price == 0), \"price\"]=np.nan\n",
    "df_class[\"price\"] = df_class['price'].fillna(df_class['price'].median(),inplace=False)"
   ]
  },
  {
   "cell_type": "code",
   "execution_count": 119,
   "id": "779f2528",
   "metadata": {},
   "outputs": [
    {
     "data": {
      "text/plain": [
       "0"
      ]
     },
     "execution_count": 119,
     "metadata": {},
     "output_type": "execute_result"
    }
   ],
   "source": [
    "len(df_class[df_class.price == 0])"
   ]
  },
  {
   "cell_type": "code",
   "execution_count": 120,
   "id": "09aaaa69",
   "metadata": {},
   "outputs": [
    {
     "data": {
      "text/plain": [
       "0"
      ]
     },
     "execution_count": 120,
     "metadata": {},
     "output_type": "execute_result"
    }
   ],
   "source": [
    "len(df_class[df_class.color == '?'])"
   ]
  },
  {
   "cell_type": "code",
   "execution_count": 121,
   "id": "d82c39b5",
   "metadata": {},
   "outputs": [],
   "source": [
    "df_class.color=df_class.color.str.replace('?',df_class['color'].mode()[0], regex=True)"
   ]
  },
  {
   "cell_type": "code",
   "execution_count": 122,
   "id": "9bf5bc1c",
   "metadata": {},
   "outputs": [],
   "source": [
    "df_class['color'] = df_class['color'].replace(\"denim\", \"blue\")\n",
    "df_class['color'] = df_class['color'].replace(\"ocher\", \"orange\")\n",
    "df_class['color'] = df_class['color'].replace(\"curry\", \"yellow\")\n",
    "df_class['color'] = df_class['color'].replace(\"green\", \"green\")\n",
    "df_class['color'] = df_class['color'].replace(\"black\", \"black\")\n",
    "df_class['color'] = df_class['color'].replace(\"brown\", \"brown\")\n",
    "df_class['color'] = df_class['color'].replace(\"red\", \"red\")\n",
    "df_class['color'] = df_class['color'].replace(\"mocca\", \"brown\")\n",
    "df_class['color'] = df_class['color'].replace(\"anthracite\", \"grey\")\n",
    "df_class['color'] = df_class['color'].replace(\"olive\", \"green\")\n",
    "df_class['color'] = df_class['color'].replace(\"petrol\", \"blue\")\n",
    "df_class['color'] = df_class['color'].replace(\"blue\", \"blue\")\n",
    "df_class['color'] = df_class['color'].replace(\"grey\", \"grey\")\n",
    "df_class['color'] = df_class['color'].replace(\"beige\", \"cream\")\n",
    "df_class['color'] = df_class['color'].replace(\"ecru\", \"brown\")\n",
    "df_class['color'] = df_class['color'].replace(\"turquoise\", \"green\")\n",
    "df_class['color'] = df_class['color'].replace(\"magenta\", \"red\")\n",
    "df_class['color'] = df_class['color'].replace(\"purple\", \"purple\")\n",
    "df_class['color'] = df_class['color'].replace(\"pink\", \"pink\")\n",
    "df_class['color'] = df_class['color'].replace(\"khaki\", \"cream\")\n",
    "df_class['color'] = df_class['color'].replace(\"navy\", \"blue\")\n",
    "df_class['color'] = df_class['color'].replace(\"habana\", \"brown\")\n",
    "df_class['color'] = df_class['color'].replace(\"silver\", \"grey\")\n",
    "df_class['color'] = df_class['color'].replace(\"navy\", \"blue\")\n",
    "df_class['color'] = df_class['color'].replace(\"white\", \"white\")\n",
    "df_class['color'] = df_class['color'].replace(\"nature\", \"green\")\n",
    "df_class['color'] = df_class['color'].replace(\"stained\", \"brown\")\n",
    "df_class['color'] = df_class['color'].replace(\"orange\", \"orange\")\n",
    "df_class['color'] = df_class['color'].replace(\"azure\", \"blue\")\n",
    "df_class['color'] = df_class['color'].replace(\"apricot\", \"orange\")\n",
    "df_class['color'] = df_class['color'].replace(\"mango\", \"yellow\")\n",
    "df_class['color'] = df_class['color'].replace(\"berry\", \"red\")\n",
    "df_class['color'] = df_class['color'].replace(\"ash\", \"grey\")\n",
    "df_class['color'] = df_class['color'].replace(\"hibiscus\", \"pink\")\n",
    "df_class['color'] = df_class['color'].replace(\"fuchsia\", \"purple\")\n",
    "df_class['color'] = df_class['color'].replace(\"blau\", \"blue\")\n",
    "df_class['color'] = df_class['color'].replace(\"dark denim\", \"blue\")\n",
    "df_class['color'] = df_class['color'].replace(\"mint\", \"green\")\n",
    "df_class['color'] = df_class['color'].replace(\"ivory\", \"brown\")\n",
    "df_class['color'] = df_class['color'].replace(\"yellow\", \"yellow\")\n",
    "df_class['color'] = df_class['color'].replace(\"bordeaux\", \"red\")\n",
    "df_class['color'] = df_class['color'].replace(\"pallid\", \"green\")\n",
    "df_class['color'] = df_class['color'].replace(\"ancient\", \"blue\")\n",
    "df_class['color'] = df_class['color'].replace(\"baltic blue\", \"blue\")\n",
    "df_class['color'] = df_class['color'].replace(\"almond\", \"brown\")\n",
    "df_class['color'] = df_class['color'].replace(\"aquamarine\", \"green\")\n",
    "df_class['color'] = df_class['color'].replace(\"brwon\", \"brown\")\n",
    "df_class['color'] = df_class['color'].replace(\"aubergine\", \"purple\")\n",
    "df_class['color'] = df_class['color'].replace(\"aqua\", \"blue\")\n",
    "df_class['color'] = df_class['color'].replace(\"dark garnet\", \"red\")\n",
    "df_class['color'] = df_class['color'].replace(\"dark grey\", \"grey\")\n",
    "df_class['color'] = df_class['color'].replace(\"avocado\", \"green\")\n",
    "df_class['color'] = df_class['color'].replace(\"cream\", \"cream\")\n",
    "df_class['color'] = df_class['color'].replace(\"champagner\", \"cream\")\n",
    "df_class['color'] = df_class['color'].replace(\"cortina mocca\", \"brown\")\n",
    "df_class['color'] = df_class['color'].replace(\"currant purple\", \"purple\")\n",
    "df_class['color'] = df_class['color'].replace(\"cognac\", \"orange\")\n",
    "df_class['color'] = df_class['color'].replace(\"aviator\", \"grey\")\n",
    "df_class['color'] = df_class['color'].replace(\"gold\", \"yellow\")\n",
    "df_class['color'] = df_class['color'].replace(\"ebony\", \"green\")\n",
    "df_class['color'] = df_class['color'].replace(\"cobalt blue\", \"blue\")\n",
    "df_class['color'] = df_class['color'].replace(\"kanel\", \"cream\")\n",
    "df_class['color'] = df_class['color'].replace(\"curled\", \"brown\")\n",
    "df_class['color'] = df_class['color'].replace(\"caramel\", \"orange\")\n",
    "df_class['color'] = df_class['color'].replace(\"antique pink\", \"pink\")\n",
    "df_class['color'] = df_class['color'].replace(\"darkblue\", \"blue\")\n",
    "df_class['color'] = df_class['color'].replace(\"copper coin\", \"brown\")\n",
    "df_class['color'] = df_class['color'].replace(\"terracotta\", \"orange\")\n",
    "df_class['color'] = df_class['color'].replace(\"basalt\", \"grey\")\n",
    "df_class['color'] = df_class['color'].replace(\"amethyst\", \"purple\")\n",
    "df_class['color'] = df_class['color'].replace(\"coral\", \"orange\")\n",
    "df_class['color'] = df_class['color'].replace(\"jade\", \"green\")\n",
    "df_class['color'] = df_class['color'].replace(\"opal\", \"green\")\n",
    "df_class['color'] = df_class['color'].replace(\"striped\", \"white\")\n",
    "df_class['color'] = df_class['color'].replace(\"mahagoni\", \"brown\")\n",
    "df_class['color'] = df_class['color'].replace(\"floral\", \"orange\")\n",
    "df_class['color'] = df_class['color'].replace(\"dark navy\", \"blue\")\n",
    "df_class['color'] = df_class['color'].replace(\"dark oliv\", \"blue\")\n",
    "df_class['color'] = df_class['color'].replace(\"vanille\", \"white\")\n",
    "df_class['color'] = df_class['color'].replace(\"ingwer\", \"yellow\")\n",
    "df_class['color'] = df_class['color'].replace(\"iron\", \"grey\")\n",
    "df_class['color'] = df_class['color'].replace(\"graphite\", \"grey\")\n",
    "df_class['color'] = df_class['color'].replace(\"leopard\", \"orange\")\n",
    "df_class['color'] = df_class['color'].replace(\"oliv\", \"orange\")\n",
    "df_class['color'] = df_class['color'].replace(\"bronze\", \"brown\")\n",
    "df_class['color'] = df_class['color'].replace(\"crimson\", \"red\")\n",
    "df_class['color'] = df_class['color'].replace(\"lemon\", \"yellow\")\n",
    "df_class['color'] = df_class['color'].replace(\"perlmutt\", \"cream\")"
   ]
  },
  {
   "cell_type": "code",
   "execution_count": 123,
   "id": "fae7ee41",
   "metadata": {},
   "outputs": [],
   "source": [
    "# mengubah huruf dan angka anomali pada size menjadi angka sesuai dengan ketentuan ukuran Europe\n",
    "df_class['size'] = df_class['size'].replace(\"xs\", \"30\")\n",
    "df_class['size'] = df_class['size'].replace(\"XS\", \"30\")\n",
    "df_class['size'] = df_class['size'].replace(\"s\", \"34\")\n",
    "df_class['size'] = df_class['size'].replace(\"S\", \"34\")\n",
    "df_class['size'] = df_class['size'].replace(\"m\", \"38\")\n",
    "df_class['size'] = df_class['size'].replace(\"M\", \"38\")\n",
    "df_class['size'] = df_class['size'].replace(\"l\", \"42\")\n",
    "df_class['size'] = df_class['size'].replace(\"L\", \"42\")\n",
    "df_class['size'] = df_class['size'].replace(\"xl\", \"46\")\n",
    "df_class['size'] = df_class['size'].replace(\"XL\", \"46\")\n",
    "df_class['size'] = df_class['size'].replace(\"xxl\", \"48\")\n",
    "df_class['size'] = df_class['size'].replace(\"XXL\", \"48\")\n",
    "df_class['size'] = df_class['size'].replace(\"xxxl\", \"52\")\n",
    "df_class['size'] = df_class['size'].replace(\"XXXL\", \"52\")\n",
    "df_class['size'] = df_class['size'].replace(\"unsized\", np.nan)\n",
    "df_class['size'] = df_class['size'].replace(\"2+\", \"3\")\n",
    "df_class['size'] = df_class['size'].replace(\"3+\", \"4\")\n",
    "df_class['size'] = df_class['size'].replace(\"4+\", \"5\")\n",
    "df_class['size'] = df_class['size'].replace(\"5+\", \"6\")\n",
    "df_class['size'] = df_class['size'].replace(\"6+\", \"7\")\n",
    "df_class['size'] = df_class['size'].replace(\"7+\", \"8\")\n",
    "df_class['size'] = df_class['size'].replace(\"8+\", \"9\")\n",
    "df_class['size'] = df_class['size'].replace(\"9+\", \"10\")\n",
    "df_class['size'] = df_class['size'].replace(\"10+\", \"11\")\n",
    "df_class['size'] = df_class['size'].replace(\"11+\", \"12\")\n",
    "df_class['size'] = df_class['size'].replace(\"12+\", \"13\")\n",
    "df_class['size'] = df_class['size'].replace(\"13+\", \"14\")\n",
    "df_class['size'] = df_class['size'].replace(\"37+\", \"38\")\n",
    "df_class['size'] = df_class['size'].replace(\"38+\", \"39\")\n",
    "df_class['size'] = df_class['size'].replace(\"39+\", \"40\")\n",
    "df_class['size'] = df_class['size'].replace(\"40+\", \"41\")\n",
    "df_class['size'] = df_class['size'].replace(\"41+\", \"42\")\n",
    "df_class['size'] = df_class['size'].replace(\"43+\", \"44\")\n",
    "df_class['size'] = df_class['size'].replace(\"44+\", \"45\")\n",
    "df_class['size'] = df_class['size'].replace(\"45+\", \"46\")\n",
    "df_class['size'] = df_class['size'].replace(\"46+\", \"47\")\n",
    "\n",
    "# menjadikan format size menjadi integer \n",
    "df_class['size'] = pd.to_numeric(df_class['size'], errors = 'coerce').convert_dtypes()\n",
    "\n",
    "# mengubah angka anomali menjadi angka size ukuran global (europe)\n",
    "df_class['size'] = df_class['size'].mask(df_class['size']<=2, 30) #XS\n",
    "df_class['size'] = df_class['size'].mask(df_class['size']<=6, 34) #S\n",
    "df_class['size'] = df_class['size'].mask(df_class['size']<=10, 38)#M \n",
    "df_class['size'] = df_class['size'].mask(df_class['size']<=14, 42)#L\n",
    "df_class['size'] = df_class['size'].mask(df_class['size']<=18, 46)#XL\n",
    "df_class['size'] = df_class['size'].mask(df_class['size']<=22, 48)#XXL\n",
    "df_class['size'] = df_class['size'].mask(df_class['size']<=26, 52)#XXXL\n",
    "\n",
    "# mengubah nilai range data menjadi angka size ukuran global Europe\n",
    "df_class.loc[df_class['size'].between(27, 29), 'size'] = 30\n",
    "df_class.loc[df_class['size'].between(31, 33), 'size'] = 34\n",
    "df_class.loc[df_class['size'].between(35, 37), 'size'] = 38\n",
    "df_class.loc[df_class['size'].between(39, 41), 'size'] = 42\n",
    "df_class.loc[df_class['size'].between(43, 45), 'size'] = 46\n",
    "df_class['size'] = df_class['size'].replace(47, 48)\n",
    "df_class.loc[df_class['size'].between(49, 51), 'size'] = 52\n",
    "df_class.loc[df_class['size'].between(53, 55), 'size'] = 56\n",
    "df_class.loc[df_class['size'].between(57, 59), 'size'] = 60\n",
    "\n",
    "# mengubah nilai range data anomali atau ekstrim menggunakan data mean, median dan value global\n",
    "df_class.loc[df_class['size'].between(61, 1000), 'size'] = int(df_class['size'].mean())\n",
    "df_class.loc[df_class['size'].between(1001, 5000), 'size'] = df_class['size'].median()\n",
    "df_class.loc[df_class['size'].between(43, 45), 'size'] = 46\n",
    "\n",
    "# untuk mengisi nilai null pada size dengan nilai median\n",
    "df_class[\"size\"] = df_class['size'].fillna(df_class['size'].median(),inplace=False)\n",
    "\n",
    "# mengubah tipe data size menjadi string\n",
    "df_class['size'] = df_class['size'].astype(str)\n",
    "\n",
    "# mengubah value global menjadi ukuran baju (str)\n",
    "df_class['size'] = df_class['size'].replace(\"30\", \"XS\")\n",
    "df_class['size'] = df_class['size'].replace(\"34\", \"S\")\n",
    "df_class['size'] = df_class['size'].replace(\"38\", \"M\")\n",
    "df_class['size'] = df_class['size'].replace(\"42\", \"L\")\n",
    "df_class['size'] = df_class['size'].replace(\"46\", \"XL\")\n",
    "df_class['size'] = df_class['size'].replace(\"48\", \"XXL\")\n",
    "df_class['size'] = df_class['size'].replace(\"52\", \"XXXL\")\n",
    "df_class['size'] = df_class['size'].replace(\"56\", \"XXXXL\")\n",
    "df_class['size'] = df_class['size'].replace(\"60\", \"XXXXL\")\n"
   ]
  },
  {
   "cell_type": "code",
   "execution_count": 124,
   "id": "33544980",
   "metadata": {},
   "outputs": [],
   "source": [
    "df_class['size'] = df_class['size'].astype('category')\n",
    "df_class['color'] = df_class['color'].astype('category')\n",
    "df_class['salutation'] = df_class['salutation'].astype('category')\n",
    "# mengubah tipe data creationDate menjadi tipe data Datetime\n",
    "df_class['creationDate'] = pd.to_datetime(df_class['creationDate'], errors='coerce')\n",
    "df_class['creationDate'] = pd.to_datetime(df_class['creationDate'], unit='s')"
   ]
  },
  {
   "cell_type": "code",
   "execution_count": 125,
   "id": "d8f47af1",
   "metadata": {},
   "outputs": [],
   "source": [
    "df_class['Tanggal_Kelahiran'] = df_class['dateOfBirth']"
   ]
  },
  {
   "cell_type": "code",
   "execution_count": 126,
   "id": "9b08051d",
   "metadata": {},
   "outputs": [],
   "source": [
    "now = pd.Timestamp('now')\n",
    "df_class['dateOfBirth'] = pd.to_datetime(df_class['dateOfBirth'], errors='coerce')\n",
    "df_class['Tanggal_Kelahiran'] = pd.to_datetime(df_class['Tanggal_Kelahiran'], errors='coerce')\n",
    "df_class['dateOfBirth'] = (now - df_class['dateOfBirth']).astype('<m8[Y]')\n",
    "df_class['dateOfBirth'] = pd.to_numeric(df_class['dateOfBirth'], errors = 'coerce').convert_dtypes()"
   ]
  },
  {
   "cell_type": "code",
   "execution_count": 127,
   "id": "556bac67",
   "metadata": {},
   "outputs": [],
   "source": [
    "df_class.rename(columns={'dateOfBirth':'Age'},inplace=True)"
   ]
  },
  {
   "cell_type": "code",
   "execution_count": 129,
   "id": "542ec808",
   "metadata": {},
   "outputs": [],
   "source": [
    "df_class['deliveryDate'] = pd.to_datetime(df_class['deliveryDate'], errors='coerce')\n",
    "df_class['orderDate'] = pd.to_datetime(df_class['orderDate'], errors='coerce')\n",
    "df_class['deliveryDate'] = pd.to_datetime(df_class['deliveryDate'], unit='s')\n",
    "df_class['orderDate'] = pd.to_datetime(df_class['orderDate'], unit='s')"
   ]
  },
  {
   "cell_type": "code",
   "execution_count": 128,
   "id": "2ecd8789",
   "metadata": {},
   "outputs": [],
   "source": [
    "df_class['Age'] = pd.to_numeric(df_class['Age'], errors = 'coerce').convert_dtypes()"
   ]
  },
  {
   "cell_type": "code",
   "execution_count": 130,
   "id": "98f394ab",
   "metadata": {},
   "outputs": [],
   "source": [
    "a = int(df_class['Age'].mean())\n",
    "df_class[\"Age\"] = df_class['Age'].fillna(a,inplace=False)"
   ]
  },
  {
   "cell_type": "code",
   "execution_count": 131,
   "id": "8cc759d2",
   "metadata": {},
   "outputs": [],
   "source": [
    "df_class['Bulan_Order'] = df_class['orderDate'].dt.strftime('%m')\n",
    "df_class['Bulan_Order'] = pd.to_numeric(df_class['Bulan_Order'], errors = 'coerce').convert_dtypes()\n",
    "df_class['Bulan_Creation'] = df_class['creationDate'].dt.strftime('%m')\n",
    "df_class['Bulan_Creation'] = pd.to_numeric(df_class['Bulan_Creation'], errors = 'coerce').convert_dtypes()\n",
    "df_class['Bulan_Kelahiran'] = df_class['Tanggal_Kelahiran'].dt.strftime('%m')\n",
    "df_class['Bulan_Kelahiran'] = pd.to_numeric(df_class['Bulan_Kelahiran'], errors = 'coerce').convert_dtypes()\n",
    "df_class['Bulan_Delivery'] = df_class['deliveryDate'].dt.strftime('%m')\n",
    "df_class['Bulan_Delivery'] = pd.to_numeric(df_class['Bulan_Delivery'], errors = 'coerce').convert_dtypes()"
   ]
  },
  {
   "cell_type": "code",
   "execution_count": 132,
   "id": "c84469bc",
   "metadata": {},
   "outputs": [],
   "source": [
    "df_class['Tahun_Pembuatan'] = df_class['creationDate'].dt.strftime('%Y')\n",
    "df_class['Tahun_Pembuatan'] = pd.to_numeric(df_class['Tahun_Pembuatan'], errors = 'coerce').convert_dtypes()\n",
    "df_class['Tahun_Order'] = df_class['orderDate'].dt.strftime('%Y')\n",
    "df_class['Tahun_Order'] = pd.to_numeric(df_class['Tahun_Order'], errors = 'coerce').convert_dtypes()\n",
    "df_class['Tahun_Kelahiran'] = df_class['Tanggal_Kelahiran'].dt.strftime('%Y')\n",
    "df_class['Tahun_Kelahiran'] = pd.to_numeric(df_class['Tahun_Kelahiran'], errors = 'coerce').convert_dtypes()\n",
    "df_class['Tahun_Delivery'] = df_class['deliveryDate'].dt.strftime('%Y')\n",
    "df_class['Tahun_Delivery'] = pd.to_numeric(df_class['Tahun_Delivery'], errors = 'coerce').convert_dtypes()"
   ]
  },
  {
   "cell_type": "code",
   "execution_count": 133,
   "id": "1289fb6e",
   "metadata": {},
   "outputs": [],
   "source": [
    "df_class['Tanggal_Delivery'] = df_class['deliveryDate'].dt.strftime('%d')\n",
    "df_class['Tanggal_Delivery'] = pd.to_numeric(df_class['Tanggal_Delivery'], errors = 'coerce').convert_dtypes()\n",
    "df_class['Tanggal_Order'] = df_class['orderDate'].dt.strftime('%d')\n",
    "df_class['Tanggal_Order'] = pd.to_numeric(df_class['Tanggal_Order'], errors = 'coerce').convert_dtypes()\n",
    "df_class['Tanggal_Creation'] = df_class['creationDate'].dt.strftime('%d')\n",
    "df_class['Tanggal_Creation'] = pd.to_numeric(df_class['Tanggal_Creation'], errors = 'coerce').convert_dtypes()\n",
    "df_class['Tanggal_Kelahiran'] = df_class['Tanggal_Kelahiran'].dt.strftime('%d')\n",
    "df_class['Tanggal_Kelahiran'] = pd.to_numeric(df_class['Tanggal_Kelahiran'], errors = 'coerce').convert_dtypes()"
   ]
  },
  {
   "cell_type": "code",
   "execution_count": 134,
   "id": "288b9a1f",
   "metadata": {},
   "outputs": [],
   "source": [
    "df_class['days'] = df_class['Tanggal_Delivery'] - df_class['Tanggal_Order']\n",
    "df_class['days'] = pd.to_numeric(df_class['days'], errors = 'coerce').convert_dtypes()"
   ]
  },
  {
   "cell_type": "code",
   "execution_count": 135,
   "id": "d2c4201d",
   "metadata": {},
   "outputs": [],
   "source": [
    "b = int(df_class['Tanggal_Kelahiran'].mean())\n",
    "df_class[\"Tanggal_Kelahiran\"] = df_class['Tanggal_Kelahiran'].fillna(b,inplace=False)"
   ]
  },
  {
   "cell_type": "code",
   "execution_count": 136,
   "id": "9a1036fb",
   "metadata": {},
   "outputs": [],
   "source": [
    "df_class[\"days\"] = df_class['days'].fillna(df_class['days'].mode()[0],inplace=False)"
   ]
  },
  {
   "cell_type": "code",
   "execution_count": 137,
   "id": "c05cfe8d",
   "metadata": {},
   "outputs": [],
   "source": [
    "df_class[\"Tanggal_Delivery\"] = df_class['Tanggal_Delivery'].fillna(df_class['Tanggal_Delivery'].median(),inplace=False)"
   ]
  },
  {
   "cell_type": "code",
   "execution_count": 138,
   "id": "c5f1adf6",
   "metadata": {},
   "outputs": [],
   "source": [
    "df_class[\"Bulan_Kelahiran\"] = df_class['Bulan_Kelahiran'].fillna(df_class['Bulan_Kelahiran'].mode()[0],inplace=False)\n",
    "df_class[\"Bulan_Delivery\"] = df_class['Bulan_Delivery'].fillna(df_class['Bulan_Delivery'].mode()[0],inplace=False)\n",
    "df_class[\"Tahun_Kelahiran\"] = df_class['Tahun_Kelahiran'].fillna(df_class['Tahun_Kelahiran'].median(),inplace=False)\n",
    "df_class[\"Tahun_Delivery\"] = df_class['Tahun_Delivery'].fillna(df_class['Tahun_Delivery'].median(),inplace=False)"
   ]
  },
  {
   "cell_type": "code",
   "execution_count": 139,
   "id": "c9511b5d",
   "metadata": {},
   "outputs": [],
   "source": [
    "for i in range(len(df_class)) :\n",
    "    if (df_class['Tanggal_Delivery'][i] < df_class['Tanggal_Order'][i]) :\n",
    "        df_class['days'][i] = ((df_class['Tanggal_Delivery'][i] + 30) - df_class['Tanggal_Order'][i])\n",
    "    else :\n",
    "        df_class['days'][i] = df_class['Tanggal_Delivery'][i] - df_class['Tanggal_Order'][i]\n",
    "df_class['days'] = pd.to_numeric(df_class['days'], errors = 'coerce').convert_dtypes()"
   ]
  },
  {
   "cell_type": "code",
   "execution_count": 140,
   "id": "f2b26335",
   "metadata": {},
   "outputs": [],
   "source": [
    "df_class['Tahun_Delivery'] = df_class['Tahun_Delivery'].replace(1990, df_class['Tahun_Delivery'].mode()[0])"
   ]
  },
  {
   "cell_type": "markdown",
   "id": "4166cb64",
   "metadata": {},
   "source": [
    "#### Proses pengcopyan data persen dari data train ke data class"
   ]
  },
  {
   "cell_type": "code",
   "execution_count": 141,
   "id": "b81f855b",
   "metadata": {},
   "outputs": [],
   "source": [
    "for i in df_tr['state'].unique() :\n",
    "    df_class.loc[(df_class['state'] == i), \"perc_state\"] = df_tr[(df_tr['state'] == i)]['perc_state'].values[0]"
   ]
  },
  {
   "cell_type": "code",
   "execution_count": 142,
   "id": "d7669fcb",
   "metadata": {},
   "outputs": [],
   "source": [
    "for i in df_tr['color'].unique() :\n",
    "    df_class.loc[(df_class['color'] == i), \"perc_cs\"] = df_tr[(df_tr['color'] == i)]['perc_cs'].values[0]"
   ]
  },
  {
   "cell_type": "code",
   "execution_count": 143,
   "id": "5d3148ab",
   "metadata": {},
   "outputs": [],
   "source": [
    "for i in df_tr['size'].unique() :\n",
    "    df_class.loc[(df_class['size'] == i), \"perc_sizsta\"] = df_tr[(df_tr['size'] == i)]['perc_sizsta'].values[0]"
   ]
  },
  {
   "cell_type": "code",
   "execution_count": 145,
   "id": "bd4f916f",
   "metadata": {},
   "outputs": [],
   "source": [
    "for i in df_tr['salutation'].unique() :\n",
    "    df_class.loc[(df_class['salutation'] == i), \"perc_salsize\"] = df_tr[(df_tr['salutation'] == i)]['perc_salsize'].values[0]"
   ]
  },
  {
   "cell_type": "code",
   "execution_count": 146,
   "id": "bf101c83",
   "metadata": {},
   "outputs": [],
   "source": [
    "for i in df_tr['color'].unique() :\n",
    "    df_class.loc[(df_class['color'] == i), \"perc_colsiz\"] = df_tr[(df_tr['color'] == i)]['perc_colsiz'].values[0]"
   ]
  },
  {
   "cell_type": "code",
   "execution_count": 147,
   "id": "c003c9e2",
   "metadata": {},
   "outputs": [],
   "source": [
    "for i in df_tr['state'].unique() :\n",
    "    df_class.loc[(df_class['state'] == i), \"perc_stsal\"] = df_tr[(df_tr['state'] == i)]['perc_stsal'].values[0]"
   ]
  },
  {
   "cell_type": "code",
   "execution_count": 148,
   "id": "373f360b",
   "metadata": {},
   "outputs": [],
   "source": [
    "for i in df_tr['salutation'].unique() :\n",
    "    df_class.loc[(df_class['salutation'] == i), \"perc_salrs\"] = df_tr[(df_tr['salutation'] == i)]['perc_salrs'].values[0]"
   ]
  },
  {
   "cell_type": "code",
   "execution_count": 149,
   "id": "7e34cbd2",
   "metadata": {},
   "outputs": [],
   "source": [
    "for i in df_tr['itemID'].unique() :\n",
    "    df_class.loc[(df_class['itemID'] == i), \"perc_Item_rS\"] = df_tr[(df_tr['itemID'] == i)]['perc_Item_rS'].values[0]"
   ]
  },
  {
   "cell_type": "code",
   "execution_count": 150,
   "id": "c65ec9b1",
   "metadata": {},
   "outputs": [],
   "source": [
    "for i in df_tr['customerID'].unique() :\n",
    "    df_class.loc[(df_class['customerID'] == i), \"perc_Customer_rS\"] = df_tr[(df_tr['customerID'] == i)]['perc_Customer_rS'].values[0]"
   ]
  },
  {
   "cell_type": "code",
   "execution_count": 151,
   "id": "72990b17",
   "metadata": {},
   "outputs": [],
   "source": [
    "for i in df_tr['Age'].unique() :\n",
    "    df_class.loc[(df_class['Age'] == i), \"perc_Age_rS\"] = df_tr[(df_tr['Age'] == i)]['perc_Age_rS'].values[0]"
   ]
  },
  {
   "cell_type": "code",
   "execution_count": 152,
   "id": "42197aeb",
   "metadata": {},
   "outputs": [],
   "source": [
    "for i in df_tr['size'].unique() :\n",
    "    df_class.loc[(df_class['size'] == i), \"perc_Size_rS\"] = df_tr[(df_tr['size'] == i)]['perc_Size_rS'].values[0]"
   ]
  },
  {
   "cell_type": "code",
   "execution_count": 154,
   "id": "ce66f971",
   "metadata": {},
   "outputs": [],
   "source": [
    "for i in df_tr['manufacturerID'].unique() :\n",
    "    df_class.loc[(df_class['manufacturerID'] == i), \"perc_Man_rS\"] = df_tr[(df_tr['manufacturerID'] == i)]['perc_Man_rS'].values[0]"
   ]
  },
  {
   "cell_type": "code",
   "execution_count": 155,
   "id": "bab07df9",
   "metadata": {},
   "outputs": [],
   "source": [
    "for i in df_tr['price'].unique() :\n",
    "    df_class.loc[(df_class['price'] == i), \"perc_Price_rS\"] = df_tr[(df_tr['price'] == i)]['perc_Price_rS'].values[0]"
   ]
  },
  {
   "cell_type": "code",
   "execution_count": 156,
   "id": "d8439646",
   "metadata": {},
   "outputs": [],
   "source": [
    "for i in df_tr['color'].unique() :\n",
    "    df_class.loc[(df_class['color'] == i), \"perc_Col_rS\"] = df_tr[(df_tr['color'] == i)]['perc_Col_rS'].values[0]"
   ]
  },
  {
   "cell_type": "code",
   "execution_count": 157,
   "id": "c60fd48e",
   "metadata": {},
   "outputs": [],
   "source": [
    "for i in df_tr['salutation'].unique() :\n",
    "    df_class.loc[(df_class['salutation'] == i), \"perc_Sal_col\"] = df_tr[(df_tr['salutation'] == i)]['perc_Sal_col'].values[0]"
   ]
  },
  {
   "cell_type": "code",
   "execution_count": 158,
   "id": "6f7b9445",
   "metadata": {},
   "outputs": [],
   "source": [
    "for i in df_tr['Bulan_Delivery'].unique() :\n",
    "    df_class.loc[(df_class['Bulan_Delivery'] == i), \"perc_MonthDev_rS\"] = df_tr[(df_tr['Bulan_Delivery'] == i)]['perc_MonthDev_rS'].values[0]"
   ]
  },
  {
   "cell_type": "code",
   "execution_count": 159,
   "id": "2611ff61",
   "metadata": {},
   "outputs": [],
   "source": [
    "for i in df_tr['Tahun_Delivery'].unique() :\n",
    "    df_class.loc[(df_class['Tahun_Delivery'] == i), \"perc_YearDev_rS\"] = df_tr[(df_tr['Tahun_Delivery'] == i)]['perc_YearDev_rS'].values[0]"
   ]
  },
  {
   "cell_type": "code",
   "execution_count": 160,
   "id": "8704de3a",
   "metadata": {},
   "outputs": [],
   "source": [
    "for i in df_tr['Tahun_Kelahiran'].unique() :\n",
    "    df_class.loc[(df_class['Tahun_Kelahiran'] == i), \"perc_YearBorn_rS\"] = df_tr[(df_tr['Tahun_Kelahiran'] == i)]['perc_YearBorn_rS'].values[0]"
   ]
  },
  {
   "cell_type": "code",
   "execution_count": 161,
   "id": "027afa69",
   "metadata": {},
   "outputs": [
    {
     "name": "stdout",
     "output_type": "stream",
     "text": [
      "<class 'pandas.core.frame.DataFrame'>\n",
      "RangeIndex: 50078 entries, 0 to 50077\n",
      "Data columns (total 44 columns):\n",
      " #   Column             Non-Null Count  Dtype         \n",
      "---  ------             --------------  -----         \n",
      " 0   orderItemID        50078 non-null  int64         \n",
      " 1   orderDate          50078 non-null  datetime64[ns]\n",
      " 2   deliveryDate       45810 non-null  datetime64[ns]\n",
      " 3   itemID             50078 non-null  int64         \n",
      " 4   size               50078 non-null  category      \n",
      " 5   color              50078 non-null  category      \n",
      " 6   manufacturerID     50078 non-null  int64         \n",
      " 7   price              50078 non-null  float64       \n",
      " 8   customerID         50078 non-null  int64         \n",
      " 9   salutation         50078 non-null  category      \n",
      " 10  Age                50078 non-null  Int64         \n",
      " 11  state              50078 non-null  object        \n",
      " 12  creationDate       50078 non-null  datetime64[ns]\n",
      " 13  Tanggal_Kelahiran  50078 non-null  Int64         \n",
      " 14  Bulan_Order        50078 non-null  Int64         \n",
      " 15  Bulan_Creation     50078 non-null  Int64         \n",
      " 16  Bulan_Kelahiran    50078 non-null  Int64         \n",
      " 17  Bulan_Delivery     50078 non-null  Int64         \n",
      " 18  Tahun_Pembuatan    50078 non-null  Int64         \n",
      " 19  Tahun_Order        50078 non-null  Int64         \n",
      " 20  Tahun_Kelahiran    50078 non-null  Int64         \n",
      " 21  Tahun_Delivery     50078 non-null  Int64         \n",
      " 22  Tanggal_Delivery   50078 non-null  Int64         \n",
      " 23  Tanggal_Order      50078 non-null  Int64         \n",
      " 24  Tanggal_Creation   50078 non-null  Int64         \n",
      " 25  days               50078 non-null  Int64         \n",
      " 26  perc_state         50078 non-null  float64       \n",
      " 27  perc_cs            50078 non-null  float64       \n",
      " 28  perc_sizsta        50078 non-null  float64       \n",
      " 29  perc_salsize       50078 non-null  float64       \n",
      " 30  perc_colsiz        50078 non-null  float64       \n",
      " 31  perc_stsal         50078 non-null  float64       \n",
      " 32  perc_salrs         50078 non-null  float64       \n",
      " 33  perc_Item_rS       50065 non-null  float64       \n",
      " 34  perc_Customer_rS   32571 non-null  float64       \n",
      " 35  perc_Age_rS        50078 non-null  float64       \n",
      " 36  perc_Size_rS       50078 non-null  float64       \n",
      " 37  perc_Man_rS        50078 non-null  float64       \n",
      " 38  perc_Price_rS      50069 non-null  float64       \n",
      " 39  perc_Col_rS        50078 non-null  float64       \n",
      " 40  perc_Sal_col       50078 non-null  float64       \n",
      " 41  perc_MonthDev_rS   50078 non-null  float64       \n",
      " 42  perc_YearDev_rS    50078 non-null  float64       \n",
      " 43  perc_YearBorn_rS   50077 non-null  float64       \n",
      "dtypes: Int64(14), category(3), datetime64[ns](3), float64(19), int64(4), object(1)\n",
      "memory usage: 16.5+ MB\n"
     ]
    }
   ],
   "source": [
    "df_class.info()"
   ]
  },
  {
   "cell_type": "code",
   "execution_count": 162,
   "id": "91a1b4ed",
   "metadata": {},
   "outputs": [],
   "source": [
    "# Penanganan Data kosong\n",
    "df_class[\"perc_Customer_rS\"] = df_class[\"perc_Customer_rS\"].fillna(0,inplace=False)"
   ]
  },
  {
   "cell_type": "code",
   "execution_count": 164,
   "id": "0c920dce",
   "metadata": {},
   "outputs": [],
   "source": [
    "# Penanganan Data kosong\n",
    "df_class[\"perc_Item_rS\"] = df_class[\"perc_Item_rS\"].fillna(0,inplace=False)\n",
    "df_class[\"perc_Price_rS\"] = df_class[\"perc_Price_rS\"].fillna(0,inplace=False)\n",
    "df_class[\"perc_YearBorn_rS\"] = df_class[\"perc_YearBorn_rS\"].fillna(df_class[\"perc_YearBorn_rS\"].mode()[0],inplace=False)"
   ]
  },
  {
   "cell_type": "code",
   "execution_count": 165,
   "id": "89b89164",
   "metadata": {},
   "outputs": [
    {
     "name": "stdout",
     "output_type": "stream",
     "text": [
      "<class 'pandas.core.frame.DataFrame'>\n",
      "RangeIndex: 50078 entries, 0 to 50077\n",
      "Data columns (total 44 columns):\n",
      " #   Column             Non-Null Count  Dtype         \n",
      "---  ------             --------------  -----         \n",
      " 0   orderItemID        50078 non-null  int64         \n",
      " 1   orderDate          50078 non-null  datetime64[ns]\n",
      " 2   deliveryDate       45810 non-null  datetime64[ns]\n",
      " 3   itemID             50078 non-null  int64         \n",
      " 4   size               50078 non-null  category      \n",
      " 5   color              50078 non-null  category      \n",
      " 6   manufacturerID     50078 non-null  int64         \n",
      " 7   price              50078 non-null  float64       \n",
      " 8   customerID         50078 non-null  int64         \n",
      " 9   salutation         50078 non-null  category      \n",
      " 10  Age                50078 non-null  Int64         \n",
      " 11  state              50078 non-null  object        \n",
      " 12  creationDate       50078 non-null  datetime64[ns]\n",
      " 13  Tanggal_Kelahiran  50078 non-null  Int64         \n",
      " 14  Bulan_Order        50078 non-null  Int64         \n",
      " 15  Bulan_Creation     50078 non-null  Int64         \n",
      " 16  Bulan_Kelahiran    50078 non-null  Int64         \n",
      " 17  Bulan_Delivery     50078 non-null  Int64         \n",
      " 18  Tahun_Pembuatan    50078 non-null  Int64         \n",
      " 19  Tahun_Order        50078 non-null  Int64         \n",
      " 20  Tahun_Kelahiran    50078 non-null  Int64         \n",
      " 21  Tahun_Delivery     50078 non-null  Int64         \n",
      " 22  Tanggal_Delivery   50078 non-null  Int64         \n",
      " 23  Tanggal_Order      50078 non-null  Int64         \n",
      " 24  Tanggal_Creation   50078 non-null  Int64         \n",
      " 25  days               50078 non-null  Int64         \n",
      " 26  perc_state         50078 non-null  float64       \n",
      " 27  perc_cs            50078 non-null  float64       \n",
      " 28  perc_sizsta        50078 non-null  float64       \n",
      " 29  perc_salsize       50078 non-null  float64       \n",
      " 30  perc_colsiz        50078 non-null  float64       \n",
      " 31  perc_stsal         50078 non-null  float64       \n",
      " 32  perc_salrs         50078 non-null  float64       \n",
      " 33  perc_Item_rS       50078 non-null  float64       \n",
      " 34  perc_Customer_rS   50078 non-null  float64       \n",
      " 35  perc_Age_rS        50078 non-null  float64       \n",
      " 36  perc_Size_rS       50078 non-null  float64       \n",
      " 37  perc_Man_rS        50078 non-null  float64       \n",
      " 38  perc_Price_rS      50078 non-null  float64       \n",
      " 39  perc_Col_rS        50078 non-null  float64       \n",
      " 40  perc_Sal_col       50078 non-null  float64       \n",
      " 41  perc_MonthDev_rS   50078 non-null  float64       \n",
      " 42  perc_YearDev_rS    50078 non-null  float64       \n",
      " 43  perc_YearBorn_rS   50078 non-null  float64       \n",
      "dtypes: Int64(14), category(3), datetime64[ns](3), float64(19), int64(4), object(1)\n",
      "memory usage: 16.5+ MB\n"
     ]
    }
   ],
   "source": [
    "df_class.info()"
   ]
  },
  {
   "cell_type": "code",
   "execution_count": 211,
   "id": "afefbc3b",
   "metadata": {},
   "outputs": [],
   "source": [
    "# Creeted df_train\n",
    "# CreateDate, DelvDate, OrderDate, Color\n",
    "df1_test = df_class.drop(['creationDate', 'deliveryDate', 'orderDate','color'],axis=1)"
   ]
  },
  {
   "cell_type": "code",
   "execution_count": 212,
   "id": "be6ee79b",
   "metadata": {},
   "outputs": [],
   "source": [
    "#Pembuatan Once Hot Encoding\n",
    "# State,Size,Days,MontOrder,salu,DateBorn, DateDelivery, ManufID\n",
    "df_test = pd.get_dummies(data=df1_test, columns=['state','size', 'days','Bulan_Order', 'salutation', 'Tanggal_Kelahiran', 'Tanggal_Order', 'Tanggal_Delivery', 'manufacturerID'])"
   ]
  },
  {
   "cell_type": "code",
   "execution_count": 214,
   "id": "008b3151",
   "metadata": {},
   "outputs": [],
   "source": [
    "df_test[['orderItemID', 'Bulan_Order_1', 'Bulan_Order_2', 'Bulan_Order_3', 'Bulan_Order_5', 'Bulan_Order_6', 'Bulan_Order_7', 'Bulan_Order_8', 'Bulan_Order_9', 'Bulan_Order_10', 'Bulan_Order_11', 'Bulan_Order_12', 'Tanggal_Order_31', 'Tanggal_Delivery_27', 'manufacturerID_52', 'manufacturerID_61', 'manufacturerID_62', 'manufacturerID_65', 'manufacturerID_67', 'manufacturerID_68', 'manufacturerID_76', 'manufacturerID_79', 'manufacturerID_80', 'manufacturerID_82', 'manufacturerID_83', 'manufacturerID_85', 'manufacturerID_86', 'manufacturerID_87', 'manufacturerID_91', 'manufacturerID_92', 'manufacturerID_93', 'manufacturerID_95', 'manufacturerID_96', 'manufacturerID_98', 'manufacturerID_103', 'manufacturerID_105', 'manufacturerID_106', 'manufacturerID_107', 'manufacturerID_108', 'manufacturerID_109', 'manufacturerID_110', 'manufacturerID_112', 'manufacturerID_114', 'manufacturerID_115', 'manufacturerID_121', 'manufacturerID_126', 'manufacturerID_130', 'manufacturerID_132', 'manufacturerID_133', 'manufacturerID_134', 'manufacturerID_136', 'manufacturerID_137', 'manufacturerID_138', 'manufacturerID_139', 'manufacturerID_140', 'manufacturerID_141', 'manufacturerID_143', 'manufacturerID_158', 'manufacturerID_159', 'manufacturerID_164']] = 0 "
   ]
  },
  {
   "cell_type": "code",
   "execution_count": 215,
   "id": "0c390007",
   "metadata": {},
   "outputs": [],
   "source": [
    "# Pickle\n",
    "with open ('C:\\\\Users\\\\raisy\\\\Downloads\\\\data_return_try\\\\data.pickle', 'rb') as fp:\n",
    "    X_train_column = list(pickle.load(fp))\n",
    "    \n",
    "df_prediksi2 = df_test[X_train_column]"
   ]
  },
  {
   "cell_type": "code",
   "execution_count": 216,
   "id": "6314c3e7",
   "metadata": {},
   "outputs": [
    {
     "data": {
      "text/plain": [
       "array([0, 0, 0, ..., 1, 0, 0], dtype=int64)"
      ]
     },
     "execution_count": 216,
     "metadata": {},
     "output_type": "execute_result"
    }
   ],
   "source": [
    "clf = joblib.load(\"C:\\\\Users\\\\raisy\\\\Downloads\\\\data_return_try\\\\classification.joblib\")\n",
    "clf.predict(df_prediksi2)"
   ]
  },
  {
   "cell_type": "code",
   "execution_count": 217,
   "id": "323a8dfe",
   "metadata": {},
   "outputs": [],
   "source": [
    "# Created data use enumerate\n",
    "df_Answer = []\n",
    "for i, j in enumerate(clf.predict(df_prediksi2)):\n",
    "    df_Answer.append([i, j])"
   ]
  },
  {
   "cell_type": "code",
   "execution_count": 218,
   "id": "ac82a963",
   "metadata": {},
   "outputs": [
    {
     "data": {
      "text/plain": [
       "[0, 0]"
      ]
     },
     "execution_count": 218,
     "metadata": {},
     "output_type": "execute_result"
    }
   ],
   "source": [
    "# Print out df(list)\n",
    "df_Answer[0]"
   ]
  },
  {
   "cell_type": "code",
   "execution_count": 219,
   "id": "50945e65",
   "metadata": {},
   "outputs": [],
   "source": [
    "# Created dataframe from list\n",
    "df_hasil = pd.DataFrame(df_Answer)"
   ]
  },
  {
   "cell_type": "code",
   "execution_count": 220,
   "id": "568c53c8",
   "metadata": {},
   "outputs": [
    {
     "data": {
      "text/html": [
       "<div>\n",
       "<style scoped>\n",
       "    .dataframe tbody tr th:only-of-type {\n",
       "        vertical-align: middle;\n",
       "    }\n",
       "\n",
       "    .dataframe tbody tr th {\n",
       "        vertical-align: top;\n",
       "    }\n",
       "\n",
       "    .dataframe thead th {\n",
       "        text-align: right;\n",
       "    }\n",
       "</style>\n",
       "<table border=\"1\" class=\"dataframe\">\n",
       "  <thead>\n",
       "    <tr style=\"text-align: right;\">\n",
       "      <th></th>\n",
       "      <th>0</th>\n",
       "      <th>1</th>\n",
       "    </tr>\n",
       "  </thead>\n",
       "  <tbody>\n",
       "    <tr>\n",
       "      <th>0</th>\n",
       "      <td>0</td>\n",
       "      <td>0</td>\n",
       "    </tr>\n",
       "    <tr>\n",
       "      <th>1</th>\n",
       "      <td>1</td>\n",
       "      <td>0</td>\n",
       "    </tr>\n",
       "    <tr>\n",
       "      <th>2</th>\n",
       "      <td>2</td>\n",
       "      <td>0</td>\n",
       "    </tr>\n",
       "    <tr>\n",
       "      <th>3</th>\n",
       "      <td>3</td>\n",
       "      <td>0</td>\n",
       "    </tr>\n",
       "    <tr>\n",
       "      <th>4</th>\n",
       "      <td>4</td>\n",
       "      <td>0</td>\n",
       "    </tr>\n",
       "    <tr>\n",
       "      <th>...</th>\n",
       "      <td>...</td>\n",
       "      <td>...</td>\n",
       "    </tr>\n",
       "    <tr>\n",
       "      <th>50073</th>\n",
       "      <td>50073</td>\n",
       "      <td>0</td>\n",
       "    </tr>\n",
       "    <tr>\n",
       "      <th>50074</th>\n",
       "      <td>50074</td>\n",
       "      <td>0</td>\n",
       "    </tr>\n",
       "    <tr>\n",
       "      <th>50075</th>\n",
       "      <td>50075</td>\n",
       "      <td>1</td>\n",
       "    </tr>\n",
       "    <tr>\n",
       "      <th>50076</th>\n",
       "      <td>50076</td>\n",
       "      <td>0</td>\n",
       "    </tr>\n",
       "    <tr>\n",
       "      <th>50077</th>\n",
       "      <td>50077</td>\n",
       "      <td>0</td>\n",
       "    </tr>\n",
       "  </tbody>\n",
       "</table>\n",
       "<p>50078 rows × 2 columns</p>\n",
       "</div>"
      ],
      "text/plain": [
       "           0  1\n",
       "0          0  0\n",
       "1          1  0\n",
       "2          2  0\n",
       "3          3  0\n",
       "4          4  0\n",
       "...      ... ..\n",
       "50073  50073  0\n",
       "50074  50074  0\n",
       "50075  50075  1\n",
       "50076  50076  0\n",
       "50077  50077  0\n",
       "\n",
       "[50078 rows x 2 columns]"
      ]
     },
     "execution_count": 220,
     "metadata": {},
     "output_type": "execute_result"
    }
   ],
   "source": [
    "# Show df hasil\n",
    "df_hasil"
   ]
  },
  {
   "cell_type": "code",
   "execution_count": 221,
   "id": "1f4ebbac",
   "metadata": {},
   "outputs": [],
   "source": [
    "# Add columns name\n",
    "df_hasil.columns =['orderItemID', 'prediction']"
   ]
  },
  {
   "cell_type": "code",
   "execution_count": 222,
   "id": "30a4377f",
   "metadata": {},
   "outputs": [
    {
     "data": {
      "text/html": [
       "<div>\n",
       "<style scoped>\n",
       "    .dataframe tbody tr th:only-of-type {\n",
       "        vertical-align: middle;\n",
       "    }\n",
       "\n",
       "    .dataframe tbody tr th {\n",
       "        vertical-align: top;\n",
       "    }\n",
       "\n",
       "    .dataframe thead th {\n",
       "        text-align: right;\n",
       "    }\n",
       "</style>\n",
       "<table border=\"1\" class=\"dataframe\">\n",
       "  <thead>\n",
       "    <tr style=\"text-align: right;\">\n",
       "      <th></th>\n",
       "      <th>orderItemID</th>\n",
       "      <th>prediction</th>\n",
       "    </tr>\n",
       "  </thead>\n",
       "  <tbody>\n",
       "    <tr>\n",
       "      <th>0</th>\n",
       "      <td>0</td>\n",
       "      <td>0</td>\n",
       "    </tr>\n",
       "    <tr>\n",
       "      <th>1</th>\n",
       "      <td>1</td>\n",
       "      <td>0</td>\n",
       "    </tr>\n",
       "    <tr>\n",
       "      <th>2</th>\n",
       "      <td>2</td>\n",
       "      <td>0</td>\n",
       "    </tr>\n",
       "    <tr>\n",
       "      <th>3</th>\n",
       "      <td>3</td>\n",
       "      <td>0</td>\n",
       "    </tr>\n",
       "    <tr>\n",
       "      <th>4</th>\n",
       "      <td>4</td>\n",
       "      <td>0</td>\n",
       "    </tr>\n",
       "    <tr>\n",
       "      <th>...</th>\n",
       "      <td>...</td>\n",
       "      <td>...</td>\n",
       "    </tr>\n",
       "    <tr>\n",
       "      <th>50073</th>\n",
       "      <td>50073</td>\n",
       "      <td>0</td>\n",
       "    </tr>\n",
       "    <tr>\n",
       "      <th>50074</th>\n",
       "      <td>50074</td>\n",
       "      <td>0</td>\n",
       "    </tr>\n",
       "    <tr>\n",
       "      <th>50075</th>\n",
       "      <td>50075</td>\n",
       "      <td>1</td>\n",
       "    </tr>\n",
       "    <tr>\n",
       "      <th>50076</th>\n",
       "      <td>50076</td>\n",
       "      <td>0</td>\n",
       "    </tr>\n",
       "    <tr>\n",
       "      <th>50077</th>\n",
       "      <td>50077</td>\n",
       "      <td>0</td>\n",
       "    </tr>\n",
       "  </tbody>\n",
       "</table>\n",
       "<p>50078 rows × 2 columns</p>\n",
       "</div>"
      ],
      "text/plain": [
       "       orderItemID  prediction\n",
       "0                0           0\n",
       "1                1           0\n",
       "2                2           0\n",
       "3                3           0\n",
       "4                4           0\n",
       "...            ...         ...\n",
       "50073        50073           0\n",
       "50074        50074           0\n",
       "50075        50075           1\n",
       "50076        50076           0\n",
       "50077        50077           0\n",
       "\n",
       "[50078 rows x 2 columns]"
      ]
     },
     "execution_count": 222,
     "metadata": {},
     "output_type": "execute_result"
    }
   ],
   "source": [
    "# Show df_Hasil\n",
    "df_hasil"
   ]
  },
  {
   "cell_type": "code",
   "execution_count": 223,
   "id": "5b488937",
   "metadata": {},
   "outputs": [],
   "source": [
    "# Save to the txt file\n",
    "np.savetxt(r'C:\\\\Users\\\\raisy\\\\Downloads\\\\data_return_try\\\\order_class.txt', df_hasil, fmt='%d', delimiter=';',header=\"orderItemID;prediction\", comments='' )"
   ]
  },
  {
   "cell_type": "code",
   "execution_count": 224,
   "id": "547d147c",
   "metadata": {},
   "outputs": [],
   "source": [
    "# Read txt file to dataframe\n",
    "df2 = pd.read_table(\"C:\\\\Users\\\\raisy\\\\Downloads\\\\data_return_try\\\\order_class.txt\", delimiter=\";\", na_values = '?')"
   ]
  },
  {
   "cell_type": "code",
   "execution_count": 225,
   "id": "73557375",
   "metadata": {},
   "outputs": [
    {
     "data": {
      "text/plain": [
       "0    31231\n",
       "1    18847\n",
       "Name: prediction, dtype: int64"
      ]
     },
     "execution_count": 225,
     "metadata": {},
     "output_type": "execute_result"
    }
   ],
   "source": [
    "# Counts data true and false from prediction column\n",
    "df2['prediction'].value_counts()"
   ]
  }
 ],
 "metadata": {
  "kernelspec": {
   "display_name": "Python 3 (ipykernel)",
   "language": "python",
   "name": "python3"
  },
  "language_info": {
   "codemirror_mode": {
    "name": "ipython",
    "version": 3
   },
   "file_extension": ".py",
   "mimetype": "text/x-python",
   "name": "python",
   "nbconvert_exporter": "python",
   "pygments_lexer": "ipython3",
   "version": "3.9.12"
  }
 },
 "nbformat": 4,
 "nbformat_minor": 5
}
